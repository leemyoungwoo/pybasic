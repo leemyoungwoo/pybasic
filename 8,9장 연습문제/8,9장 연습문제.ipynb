{
 "cells": [
  {
   "cell_type": "markdown",
   "metadata": {},
   "source": [
    "# 8장 연습문제"
   ]
  },
  {
   "cell_type": "code",
   "execution_count": 8,
   "metadata": {},
   "outputs": [
    {
     "name": "stdout",
     "output_type": "stream",
     "text": [
      "15\n"
     ]
    }
   ],
   "source": [
    "# 8장 연습문제 1번\n",
    "\n",
    "import ch08lib as lib\n",
    "\n",
    "print(inc_10(5))"
   ]
  },
  {
   "cell_type": "code",
   "execution_count": 9,
   "metadata": {},
   "outputs": [
    {
     "name": "stdout",
     "output_type": "stream",
     "text": [
      "138\n"
     ]
    }
   ],
   "source": [
    "# 8장 연습문제 2번\n",
    "\n",
    "a = lib.mul_20(3)\n",
    "b = a + lib.fact(1,3)\n",
    "c = a + b +lib.inc_10(2)\n",
    "print(c)"
   ]
  },
  {
   "cell_type": "code",
   "execution_count": 10,
   "metadata": {},
   "outputs": [
    {
     "name": "stdout",
     "output_type": "stream",
     "text": [
      "35\n"
     ]
    }
   ],
   "source": [
    "# 8장 연습문제 3번\n",
    "\n",
    "a = 1\n",
    "b = 2\n",
    "c = 3\n",
    "\n",
    "d = lib.fact(a,b)\n",
    "d += lib.inc_10(c)\n",
    "e = d + lib.mul_20(a)\n",
    "\n",
    "print(e)"
   ]
  },
  {
   "cell_type": "code",
   "execution_count": 13,
   "metadata": {},
   "outputs": [],
   "source": [
    "# 8장 연습문제 4번\n",
    "\n",
    "#shuffle()"
   ]
  },
  {
   "cell_type": "code",
   "execution_count": 15,
   "metadata": {},
   "outputs": [],
   "source": [
    "# 8장 연습문제 5번\n",
    "\n",
    "# %p"
   ]
  },
  {
   "cell_type": "code",
   "execution_count": null,
   "metadata": {},
   "outputs": [
    {
     "name": "stdout",
     "output_type": "stream",
     "text": [
      "------------------------------\n",
      "주사위 던지기 : 1 번째\n",
      "나: 1\n",
      "당신: 6\n",
      "당신의 승리\n",
      "계속하려면 y를 입력하세요!y\n",
      "------------------------------\n",
      "주사위 던지기 : 2 번째\n",
      "나: 5\n",
      "당신: 6\n",
      "당신의 승리\n",
      "계속하려면 y를 입력하세요!y\n",
      "------------------------------\n",
      "주사위 던지기 : 3 번째\n",
      "나: 2\n",
      "당신: 2\n",
      "무승부!\n"
     ]
    }
   ],
   "source": [
    "# 8장 연습문제 6번\n",
    "\n",
    "import random\n",
    "\n",
    "again = 'y'\n",
    "count = 1\n",
    "\n",
    "while again == 'y':\n",
    "    print('-'*30)\n",
    "    print('주사위 던지기 : %d 번째'% count)\n",
    "    me = random.randint(1,6)\n",
    "    com = random.randint(1,6)\n",
    "    print('나: %d'% me)\n",
    "    print('당신: %d'% com)\n",
    "    \n",
    "    if me > com :\n",
    "        print('나의 승리!')\n",
    "    elif me == com :\n",
    "        print('무승부!')\n",
    "    else :\n",
    "        print('당신의 승리')\n",
    "        \n",
    "    count = count + 1\n",
    "    again = input('계속하려면 y를 입력하세요!')"
   ]
  },
  {
   "cell_type": "markdown",
   "metadata": {},
   "source": [
    "# 9장 연습문제"
   ]
  },
  {
   "cell_type": "code",
   "execution_count": 3,
   "metadata": {},
   "outputs": [
    {
     "name": "stdout",
     "output_type": "stream",
     "text": [
      "abcde\n"
     ]
    }
   ],
   "source": [
    "# 9장 연습문제 1번 \n",
    "\n",
    "class TestClass1:\n",
    " \n",
    "    strings = 'abcde'\n",
    "    \n",
    "tc1 = TestClass1()\n",
    "\n",
    "print(tc1.strings)"
   ]
  },
  {
   "cell_type": "code",
   "execution_count": 13,
   "metadata": {},
   "outputs": [
    {
     "name": "stdout",
     "output_type": "stream",
     "text": [
      "이름: 홍길동\n",
      "이메일: test@korea.com\n"
     ]
    }
   ],
   "source": [
    "# 9장 연습문제 2번\n",
    "\n",
    "class TestClass2:\n",
    "    def __init__(self,name,email):\n",
    "        self.name = name\n",
    "        self.email = email\n",
    "        \n",
    "tc1 = '홍길동'\n",
    "tc2 = 'test@korea.com'\n",
    "\n",
    "print('이름: %s'% tc1)\n",
    "print('이메일: %s'% tc2)"
   ]
  },
  {
   "cell_type": "code",
   "execution_count": 14,
   "metadata": {},
   "outputs": [],
   "source": [
    "# 9장 연습문제 3번\n",
    "\n"
   ]
  },
  {
   "cell_type": "code",
   "execution_count": 19,
   "metadata": {},
   "outputs": [],
   "source": [
    "# 9장 연습문제 4번\n",
    "\n",
    "class Member :\n",
    "    def __init__(self,name,phone,address):\n",
    "        self.name = name\n",
    "        self.phone = phone\n",
    "        self.address = address\n",
    "        \n",
    "    def showMember(self):\n",
    "        print('이름: %s'% self.name)\n",
    "        print('전화번호: %s'% self.phone)\n",
    "        print('주소: %s'% self.address)\n",
    "\n",
    "mem1 = Member('홍길동','010-1234-5678','성남시')"
   ]
  },
  {
   "cell_type": "code",
   "execution_count": 20,
   "metadata": {},
   "outputs": [
    {
     "name": "stdout",
     "output_type": "stream",
     "text": [
      "이름: 홍길동\n",
      "전화번호: 010-1234-5678\n",
      "주소: 성남시\n"
     ]
    }
   ],
   "source": [
    "mem1.showMember()"
   ]
  },
  {
   "cell_type": "code",
   "execution_count": 48,
   "metadata": {},
   "outputs": [
    {
     "name": "stdout",
     "output_type": "stream",
     "text": [
      "이름: 홍길동\n",
      "전화번호: 010-1234-5678\n",
      "주소: 성남시\n"
     ]
    }
   ],
   "source": [
    "# 9장 연습문제 5번 \n",
    "\n",
    "class Member :\n",
    "    def __init__(self, dict):\n",
    "        self.dict = dict\n",
    "    \n",
    "    def getName(self):\n",
    "        return self.dict['name']\n",
    "    \n",
    "    def getPhone(self):\n",
    "        return self.dict['phone']\n",
    "    \n",
    "    def getAddress(self):\n",
    "        return self.dict['address']\n",
    "        \n",
    "dict = {'name':'홍길동','phone':'010-1234-5678','address':'성남시'}\n",
    "\n",
    "mem1 = Member(dict)\n",
    "\n",
    "print('이름: %s'% mem1.getName())\n",
    "print('전화번호: %s'% mem1.getPhone())\n",
    "print('주소: %s'% mem1.getAddress())"
   ]
  },
  {
   "cell_type": "code",
   "execution_count": 32,
   "metadata": {},
   "outputs": [
    {
     "name": "stdout",
     "output_type": "stream",
     "text": [
      "저자: 홍길동\n",
      "출판사: 지구출판사\n",
      "유형: PDF\n"
     ]
    }
   ],
   "source": [
    "# 9장 연습문제 6번\n",
    "\n",
    "class Book:\n",
    "    def __init__(self, author, publish):\n",
    "        self.author = author\n",
    "        self.publish = publish\n",
    "        \n",
    "    def getAuthorInfo(self):\n",
    "        string = '저자: %s'% self.author\n",
    "        return string\n",
    "    \n",
    "    def getPublishInfo(self):\n",
    "        string = '출판사: %s'% self.publish\n",
    "        return string\n",
    "    \n",
    "class Ebook(Book):\n",
    "    def __init__(self, author, publish, type):\n",
    "        super().__init__(author, publish)\n",
    "        self.type = type\n",
    "        \n",
    "    def getTypeInfo(self):\n",
    "        string = '유형: %s'% self.type\n",
    "        return string\n",
    "    \n",
    "book1 = Ebook('홍길동','지구출판사','PDF')\n",
    "\n",
    "print(book1.getAuthorInfo())\n",
    "print(book1.getPublishInfo())\n",
    "print(book1.getTypeInfo())\n"
   ]
  }
 ],
 "metadata": {
  "kernelspec": {
   "display_name": "Python 3",
   "language": "python",
   "name": "python3"
  },
  "language_info": {
   "codemirror_mode": {
    "name": "ipython",
    "version": 3
   },
   "file_extension": ".py",
   "mimetype": "text/x-python",
   "name": "python",
   "nbconvert_exporter": "python",
   "pygments_lexer": "ipython3",
   "version": "3.7.6"
  }
 },
 "nbformat": 4,
 "nbformat_minor": 4
}
