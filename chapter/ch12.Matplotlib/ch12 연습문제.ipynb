{
 "cells": [
  {
   "cell_type": "markdown",
   "metadata": {},
   "source": [
    "# 12장 연습문제"
   ]
  },
  {
   "cell_type": "code",
   "execution_count": 1,
   "metadata": {},
   "outputs": [
    {
     "name": "stderr",
     "output_type": "stream",
     "text": [
      "UsageError: Line magic function `%` not found.\n"
     ]
    }
   ],
   "source": [
    "#Matplotlib 사용과 한글 처리를 위한 Code\n",
    "\n",
    "import matplotlib as mpl\n",
    "import matplotlib.pyplot as plt\n",
    "mpl.rcParams['axes.unicode_minus'] = False  #minus 표시\n",
    "mpl.rc('font', family='Malgun Gothic')\n",
    "% matplotlib inline\n",
    "\n",
    "plt.rcParams[\"figure.figsize\"] = (10,6)\n",
    "plt.rcParams[\"font.size\"] = 14"
   ]
  },
  {
   "cell_type": "markdown",
   "metadata": {},
   "source": [
    "## 1번 Matpoltlib을 이용하여 월별 카페의 개수를 나타내는 간단한 막대 그래프(Bar Graph)를 그리는 프로그램을 작성하시오. 단, 막대 그래프의 X축 간격을 3달로 설정한다."
   ]
  },
  {
   "cell_type": "code",
   "execution_count": 169,
   "metadata": {},
   "outputs": [
    {
     "name": "stdout",
     "output_type": "stream",
     "text": [
      "['기준월', '카페수']\n"
     ]
    }
   ],
   "source": [
    "import csv\n",
    "\n",
    "f = open('cafe_2year.csv','r', encoding = 'utf-8')\n",
    "\n",
    "lines = csv.reader(f)\n",
    "\n",
    "header = next(lines)\n",
    "\n",
    "print(header)"
   ]
  },
  {
   "cell_type": "code",
   "execution_count": 170,
   "metadata": {
    "scrolled": true
   },
   "outputs": [
    {
     "data": {
      "image/png": "[encoded data removed]",
      "text/plain": [
       "<Figure size 432x288 with 1 Axes>"
      ]
     },
     "metadata": {
      "needs_background": "light"
     },
     "output_type": "display_data"
    }
   ],
   "source": [
    "list_data = []\n",
    "\n",
    "for line in lines :\n",
    "    list_data.append(line[:])\n",
    "    \n",
    "xdata = []\n",
    "ydata = []\n",
    "cnt = 1\n",
    "\n",
    "for data in list_data :\n",
    "    if cnt%3 == 0 :\n",
    "        xdata.append(data[0])\n",
    "        ydata.append(data[1])\n",
    "    cnt += 1\n",
    "    \n",
    "plt.title('전국의 월별 카페수')\n",
    "plt.xlabel('년월')\n",
    "plt.ylabel('카페수')\n",
    "\n",
    "plt.bar(xdata, ydata)\n",
    "plt.show()\n",
    "\n",
    "f.close()"
   ]
  },
  {
   "cell_type": "markdown",
   "metadata": {},
   "source": [
    "## 2번 CSV 파일을 읽어서 서울과 6개의 광역시(부산,대구,인천,대전,광주,울산)에 대해 지역, 일반의, 인턴, 레지던트, 전문의 의사 수를 출력하는 프로그램을 작성하시오."
   ]
  },
  {
   "cell_type": "code",
   "execution_count": 84,
   "metadata": {},
   "outputs": [],
   "source": [
    "import csv\n",
    "import numpy as np"
   ]
  },
  {
   "cell_type": "code",
   "execution_count": 171,
   "metadata": {},
   "outputs": [
    {
     "name": "stdout",
     "output_type": "stream",
     "text": [
      "['지역', '병원명', '일반의 수', '인턴 수', '레지던트 수', '전문의 수']\n"
     ]
    }
   ],
   "source": [
    "f = open('doctor_2019.csv','r', encoding = 'utf-8')\n",
    "lines = csv.reader(f)\n",
    "\n",
    "list_data = []\n",
    "\n",
    "header = next(lines)\n",
    "\n",
    "print(header)"
   ]
  },
  {
   "cell_type": "code",
   "execution_count": 172,
   "metadata": {},
   "outputs": [
    {
     "name": "stdout",
     "output_type": "stream",
     "text": [
      "지역 일반의 인턴 레지던트 전문의\n",
      "서울   162   1196   4757   9375\n",
      "부산   58   197   785   2211\n",
      "대구   27   215   712   1436\n",
      "인천   47   138   444   1518\n",
      "대전   25   142   425   1006\n",
      "광주   16   102   356   1006\n",
      "울산   19   23   104   467\n"
     ]
    }
   ],
   "source": [
    "for line in lines :\n",
    "    list_data.append(line[:])\n",
    "\n",
    "doctors = {}\n",
    "for data in list_data:\n",
    "    if data[0] in doctors:\n",
    "        doctors[data[0]][0] += int(data[2])\n",
    "        doctors[data[0]][1] += int(data[3])\n",
    "        doctors[data[0]][2] += int(data[4])\n",
    "        doctors[data[0]][3] += int(data[5])\n",
    "    else:\n",
    "        doctors[data[0]] = [0,0,0,0]\n",
    "        doctors[data[0]][0] = int(data[2])\n",
    "        doctors[data[0]][1] = int(data[3])\n",
    "        doctors[data[0]][2] = int(data[4])\n",
    "        doctors[data[0]][3] = int(data[5])\n",
    "\n",
    "locate = ['서울','부산','대구','인천','대전','광주','울산']\n",
    "\n",
    "print('지역','일반의','인턴','레지던트','전문의')\n",
    "\n",
    "for key in locate:\n",
    "    print('%s   %d   %d   %d   %d' % (key, doctors[key][0],doctors[key][1],doctors[key][2],doctors[key][3]))\n",
    "\n",
    "f.close()"
   ]
  },
  {
   "cell_type": "markdown",
   "metadata": {},
   "source": [
    "## 3번 2번에서 얻은 결과를 doctor2.csv 파일로 저장하는 프로그램을 작성하시오."
   ]
  },
  {
   "cell_type": "code",
   "execution_count": 173,
   "metadata": {},
   "outputs": [
    {
     "name": "stdout",
     "output_type": "stream",
     "text": [
      "doctor2.csv 파일 쓰기 완료!\n"
     ]
    }
   ],
   "source": [
    "f = open('doctor2.csv','w',encoding='utf-8')\n",
    "\n",
    "f.write('지역,일반의 수,인턴 수,레지던트 수,전문의 수\\n')\n",
    "\n",
    "for key in locate:\n",
    "    f.write(key+',')\n",
    "    for i in range(len(doctors[key])):\n",
    "        if i == len(doctors[key])-1:\n",
    "            f.write(str(doctors[key][i]))\n",
    "        else:\n",
    "            f.write(str(doctors[key][i])+',')\n",
    "    f.write('\\n')\n",
    "print('doctor2.csv 파일 쓰기 완료!')\n",
    "f.close()"
   ]
  },
  {
   "cell_type": "markdown",
   "metadata": {},
   "source": [
    "## 4번 3번 문제에서 저장한 doctor2.csv 파일을 읽어들여 서울과 6개 광역시의 종합 병원 전문의 의사 수를 산포 그래프로 보여주는 프로그램을 작성하시오."
   ]
  },
  {
   "cell_type": "code",
   "execution_count": 175,
   "metadata": {},
   "outputs": [
    {
     "name": "stdout",
     "output_type": "stream",
     "text": [
      "['지역', '일반의 수', '인턴 수', '레지던트 수', '전문의 수']\n",
      "[['서울', '162', '1196', '4757', '9375'], ['부산', '58', '197', '785', '2211'], ['대구', '27', '215', '712', '1436'], ['인천', '47', '138', '444', '1518'], ['대전', '25', '142', '425', '1006'], ['광주', '16', '102', '356', '1006'], ['울산', '19', '23', '104', '467']]\n"
     ]
    }
   ],
   "source": [
    "import csv\n",
    "\n",
    "f = open('doctor2.csv', 'r', encoding='utf-8')\n",
    "lines = csv.reader(f, delimiter = ',')\n",
    "\n",
    "header = next(lines)\n",
    "\n",
    "print(header)\n",
    "\n",
    "list_data = []\n",
    "\n",
    "for line in lines:\n",
    "    list_data.append(line[:])\n",
    "    \n",
    "print(list_data)\n"
   ]
  },
  {
   "cell_type": "code",
   "execution_count": 176,
   "metadata": {},
   "outputs": [],
   "source": [
    "xdata = []\n",
    "ydata = []\n",
    "\n",
    "for data in list_data:\n",
    "    xdata.append(data[0])\n",
    "    ydata.append(int(data[1])+int(data[2])+int(data[3])+int(data[4]))"
   ]
  },
  {
   "cell_type": "code",
   "execution_count": 177,
   "metadata": {},
   "outputs": [
    {
     "data": {
      "image/png": "[encoded data removed]",
      "text/plain": [
       "<Figure size 432x288 with 1 Axes>"
      ]
     },
     "metadata": {
      "needs_background": "light"
     },
     "output_type": "display_data"
    }
   ],
   "source": [
    "plt.scatter(xdata, ydata)\n",
    "plt.title('서울 및 광역시 종합병원 전문의 수')\n",
    "plt.xlabel('시')\n",
    "plt.ylabel('의사 수')\n",
    "\n",
    "plt.show()\n",
    "\n",
    "f.close()"
   ]
  },
  {
   "cell_type": "markdown",
   "metadata": {},
   "source": [
    "## 5번 4번 문제에서 사용한 doctor2.csv 파일을 읽어 서울과 6개 광역시의 종합병원의 일반의, 인턴, 레지던트, 전문의 의사 수를 선 그래프로 나타내는 프로그램을 작성하시오. \n",
    "\n",
    "\n"
   ]
  },
  {
   "cell_type": "code",
   "execution_count": 149,
   "metadata": {},
   "outputs": [
    {
     "name": "stdout",
     "output_type": "stream",
     "text": [
      "[['서울', '162', '1196', '4757', '9375'], ['부산', '58', '197', '785', '2211'], ['대구', '27', '215', '712', '1436'], ['인천', '47', '138', '444', '1518'], ['대전', '25', '142', '425', '1006'], ['광주', '16', '102', '356', '1006'], ['울산', '19', '23', '104', '467']]\n"
     ]
    }
   ],
   "source": [
    "f = open('doctor2.csv', 'r', encoding='utf-8')\n",
    "lines = csv.reader(f, delimiter = ',')\n",
    "\n",
    "header = next(lines)\n",
    "\n",
    "list_data = []\n",
    "\n",
    "for line in lines:\n",
    "    list_data.append(line[:])\n",
    "    \n",
    "print(list_data)\n",
    "\n"
   ]
  },
  {
   "cell_type": "code",
   "execution_count": 152,
   "metadata": {},
   "outputs": [
    {
     "data": {
      "image/png": "[encoded data removed]",
      "text/plain": [
       "<Figure size 432x288 with 1 Axes>"
      ]
     },
     "metadata": {
      "needs_background": "light"
     },
     "output_type": "display_data"
    }
   ],
   "source": [
    "xdata = []\n",
    "y1data = []\n",
    "y2data = []\n",
    "y3data = []\n",
    "y4data = []\n",
    "\n",
    "for data in list_data:\n",
    "    xdata.append(data[0])\n",
    "    y1data.append(int(data[1]))\n",
    "    y2data.append(int(data[2]))\n",
    "    y3data.append(int(data[3]))\n",
    "    y4data.append(int(data[4]))\n",
    "\n",
    "plt.plot(xdata,y1data,'ro-',label='일반의')\n",
    "plt.plot(xdata,y2data,'bx--',label='인턴')\n",
    "plt.plot(xdata,y3data,'ys:',label='레지던트')\n",
    "plt.plot(xdata,y4data,'md-.',label='전문의')\n",
    "    \n",
    "    \n",
    "plt.title('서울 및 광역시 종합병원 전문의 수')\n",
    "plt.xlabel('시')\n",
    "plt.ylabel('의사 수')\n",
    "plt.legend(loc='best')\n",
    "\n",
    "plt.show()\n",
    "\n",
    "f.close()\n"
   ]
  },
  {
   "cell_type": "code",
   "execution_count": 158,
   "metadata": {},
   "outputs": [
    {
     "data": {
      "image/png": "[encoded data removed]",
      "text/plain": [
       "<Figure size 432x288 with 1 Axes>"
      ]
     },
     "metadata": {},
     "output_type": "display_data"
    }
   ],
   "source": [
    "#6번\n",
    "\n",
    "f = open('doctor2.csv', 'r', encoding='utf-8')\n",
    "lines = csv.reader(f, delimiter = ',')\n",
    "\n",
    "header = next(lines)\n",
    "\n",
    "list_data = []\n",
    "\n",
    "for line in lines:\n",
    "    list_data.append(line[:])\n",
    "\n",
    "doctor_ratio = []\n",
    "kinds_of_doc = ['일반의','인턴','레지던트','전문의']\n",
    "for data in list_data:\n",
    "    if data[0] == '서울':\n",
    "        sum=int(data[1])+int(data[2])+int(data[3])+int(data[4])\n",
    "        doctor_ratio.append(int(data[1])/sum*100)\n",
    "        doctor_ratio.append(int(data[2])/sum*100)\n",
    "        doctor_ratio.append(int(data[3])/sum*100)\n",
    "        doctor_ratio.append(int(data[4])/sum*100)\n",
    "\n",
    "plt.title('서울 종합병원 의사 유형별 정보')\n",
    "plt.pie(doctor_ratio, explode = (0,0.1,0,0), labels=kinds_of_doc,autopct='%.1f%%',shadow=True,startangle=90)\n",
    "plt.show()\n",
    "\n",
    "f.close()"
   ]
  }
 ],
 "metadata": {
  "kernelspec": {
   "display_name": "Python 3",
   "language": "python",
   "name": "python3"
  },
  "language_info": {
   "codemirror_mode": {
    "name": "ipython",
    "version": 3
   },
   "file_extension": ".py",
   "mimetype": "text/x-python",
   "name": "python",
   "nbconvert_exporter": "python",
   "pygments_lexer": "ipython3",
   "version": "3.7.6"
  }
 },
 "nbformat": 4,
 "nbformat_minor": 4
}
