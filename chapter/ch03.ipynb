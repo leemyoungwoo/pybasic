{
 "cells": [
  {
   "cell_type": "markdown",
   "metadata": {},
   "source": [
    "# Chapter 03. 조건문"
   ]
  },
  {
   "cell_type": "code",
   "execution_count": 2,
   "metadata": {},
   "outputs": [
    {
     "name": "stdout",
     "output_type": "stream",
     "text": [
      "숫자를 입력하세요 : 0\n",
      "0 또는 음수\n"
     ]
    }
   ],
   "source": [
    "# 예제 3-1\n",
    "\n",
    "x = int(input('숫자를 입력하세요 : '))\n",
    "\n",
    "if x>0 :\n",
    "    print('양수')\n",
    "    \n",
    "else :\n",
    "    print('0 또는 음수')"
   ]
  },
  {
   "cell_type": "code",
   "execution_count": 3,
   "metadata": {},
   "outputs": [
    {
     "name": "stdout",
     "output_type": "stream",
     "text": [
      "숫자를 입력하세요 : -2\n",
      "음수\n"
     ]
    }
   ],
   "source": [
    "x = int(input('숫자를 입력하세요 : '))\n",
    "\n",
    "if x>0 :\n",
    "    print('양수')\n",
    "    \n",
    "else :\n",
    "    if x<0 :\n",
    "        print('음수')\n",
    "    else :\n",
    "        print('0')\n",
    "    "
   ]
  },
  {
   "cell_type": "code",
   "execution_count": 5,
   "metadata": {},
   "outputs": [
    {
     "name": "stdout",
     "output_type": "stream",
     "text": [
      "필기성적을 입력하세요 :81\n",
      "실기성적을 입력하세요 :81\n",
      "합격!\n"
     ]
    }
   ],
   "source": [
    "# 예제 3-4\n",
    "\n",
    "score1 = int(input('필기성적을 입력하세요 :'))\n",
    "score2 = int(input('실기성적을 입력하세요 :'))\n",
    "\n",
    "if score1>= 80 and score2 >= 80 :\n",
    "    print('합격!')\n",
    "    \n",
    "else :\n",
    "    print('불합격!')"
   ]
  },
  {
   "cell_type": "code",
   "execution_count": 7,
   "metadata": {},
   "outputs": [
    {
     "name": "stdout",
     "output_type": "stream",
     "text": [
      "이름을 입력하세요 :\n",
      "이름이 입력되지 않았다.\n"
     ]
    }
   ],
   "source": [
    "# 예제 3-6\n",
    "\n",
    "name = input ('이름을 입력하세요 :')\n",
    "\n",
    "if not name :\n",
    "    print('이름이 입력되지 않았다.')\n",
    "else :\n",
    "    print('이름 : %s'% name)"
   ]
  },
  {
   "cell_type": "code",
   "execution_count": 14,
   "metadata": {},
   "outputs": [
    {
     "name": "stdout",
     "output_type": "stream",
     "text": [
      "false\n"
     ]
    }
   ],
   "source": [
    "t = 0.0         #0, 0.0, None 은 False, 그외는 True\n",
    "\n",
    "if t :\n",
    "    print('True')\n",
    "    \n",
    "else :\n",
    "    print('false')"
   ]
  },
  {
   "cell_type": "code",
   "execution_count": 15,
   "metadata": {},
   "outputs": [
    {
     "name": "stdout",
     "output_type": "stream",
     "text": [
      "1\n"
     ]
    }
   ],
   "source": [
    "sum = 0\n",
    "sum += True\n",
    "print(sum)"
   ]
  },
  {
   "cell_type": "code",
   "execution_count": 16,
   "metadata": {},
   "outputs": [
    {
     "name": "stdout",
     "output_type": "stream",
     "text": [
      "나이를 입력하세요 :65\n",
      "입장료 : 무료\n"
     ]
    }
   ],
   "source": [
    "# 예제 3-8\n",
    "\n",
    "age = int(input('나이를 입력하세요 :'))\n",
    "pay = '3000원'\n",
    "\n",
    "if age >= 65 or age <7 :\n",
    "    pay = '무료'\n",
    "    \n",
    "print('입장료 : %s' % pay)"
   ]
  },
  {
   "cell_type": "code",
   "execution_count": null,
   "metadata": {},
   "outputs": [],
   "source": [
    "age = int(input('나이를 입력하세요 :'))\n",
    "pay = '3000원'\n",
    "\n",
    "if age >= 65 or age <7 :\n",
    "    pay = '무료'\n",
    "    \n",
    "elif age <= 18 :\n",
    "    pay = 1500\n",
    "    \n",
    "else :\n",
    "    pay = 3000\n",
    "\n",
    "    \n",
    "print('입장료 : %s' % pay)"
   ]
  },
  {
   "cell_type": "code",
   "execution_count": 1,
   "metadata": {},
   "outputs": [
    {
     "name": "stdout",
     "output_type": "stream",
     "text": [
      "점수를 입력하세요 :80\n",
      "성적 : 80점\n",
      "등급 : B\n"
     ]
    }
   ],
   "source": [
    "# 예제 3-10\n",
    "\n",
    "score = int(input('점수를 입력하세요 :'))\n",
    "\n",
    "if score >= 90 :\n",
    "    grade = 'A'\n",
    "\n",
    "elif score >= 80 :\n",
    "    grade = 'B'\n",
    "    \n",
    "elif score >= 70 :\n",
    "    grade = 'C'\n",
    "    \n",
    "elif score >= 60 :\n",
    "    grade = 'D'\n",
    "    \n",
    "else :\n",
    "    grede = 'F'\n",
    "\n",
    "print('성적 : %d점' % score)\n",
    "print('등급 : %s' % grade)"
   ]
  }
 ],
 "metadata": {
  "kernelspec": {
   "display_name": "Python 3",
   "language": "python",
   "name": "python3"
  },
  "language_info": {
   "codemirror_mode": {
    "name": "ipython",
    "version": 3
   },
   "file_extension": ".py",
   "mimetype": "text/x-python",
   "name": "python",
   "nbconvert_exporter": "python",
   "pygments_lexer": "ipython3",
   "version": "3.7.6"
  }
 },
 "nbformat": 4,
 "nbformat_minor": 4
}
