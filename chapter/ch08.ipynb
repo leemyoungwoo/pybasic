{
 "cells": [
  {
   "cell_type": "markdown",
   "metadata": {},
   "source": [
    "# Chapter.08 모듈과 패키지"
   ]
  },
  {
   "cell_type": "markdown",
   "metadata": {},
   "source": [
    "## 함수의 재귀적 호출(Recursive call)"
   ]
  },
  {
   "cell_type": "code",
   "execution_count": 56,
   "metadata": {},
   "outputs": [],
   "source": [
    "#n! = n * (n-1)\n",
    "\n",
    "def facto(n):\n",
    "    if n == 0 :\n",
    "        return 1\n",
    "    else :\n",
    "        return n * facto(n-1)"
   ]
  },
  {
   "cell_type": "code",
   "execution_count": 57,
   "metadata": {},
   "outputs": [
    {
     "data": {
      "text/plain": [
       "120"
      ]
     },
     "execution_count": 57,
     "metadata": {},
     "output_type": "execute_result"
    }
   ],
   "source": [
    "facto(5)"
   ]
  },
  {
   "cell_type": "code",
   "execution_count": 59,
   "metadata": {},
   "outputs": [],
   "source": [
    "# Fibonacci 수열 fn = fn-1 + fn-2 / f1 = 1, f2 = 1\n",
    "\n",
    "def fibo(n) : \n",
    "    if n == 1 or n ==2 :\n",
    "        return 1\n",
    "    return fibo(n-1) + fibo(n-2)"
   ]
  },
  {
   "cell_type": "code",
   "execution_count": 58,
   "metadata": {},
   "outputs": [
    {
     "name": "stdout",
     "output_type": "stream",
     "text": [
      "1 , 1 , 2 , 3 , 5 , 8 , 13 , 21 , 34 , 55 , 89 , 144 , 233 , 377 , 610 , 987 , 1597 , 2584 , 4181 , "
     ]
    }
   ],
   "source": [
    "for i in range(1, 20):\n",
    "    print(fibo(i), end = ' , ')"
   ]
  },
  {
   "cell_type": "code",
   "execution_count": 5,
   "metadata": {},
   "outputs": [],
   "source": [
    "# Text 인공지능 분석 - RNN (Recurrent Neural Network)\n"
   ]
  },
  {
   "cell_type": "markdown",
   "metadata": {},
   "source": [
    "## Math 모듈"
   ]
  },
  {
   "cell_type": "code",
   "execution_count": 6,
   "metadata": {},
   "outputs": [
    {
     "name": "stdout",
     "output_type": "stream",
     "text": [
      "7  11  9  120\n"
     ]
    }
   ],
   "source": [
    "# 예제 8-4\n",
    "\n",
    "import math\n",
    "\n",
    "print(math.floor(7.7), end = '  ')\n",
    "print(math.ceil(10.1), end = '  ')\n",
    "print(round(8.6), end = '  ')\n",
    "print(math.factorial(5))\n",
    "\n"
   ]
  },
  {
   "cell_type": "code",
   "execution_count": 7,
   "metadata": {},
   "outputs": [
    {
     "name": "stdout",
     "output_type": "stream",
     "text": [
      "3.141592653589793 / 1.0 / -1.0 / -2.4492935982947064e-16\n",
      "16.0 / 7.0 / 2.0\n"
     ]
    }
   ],
   "source": [
    "#삼각함수 값 계산\n",
    "#sin, cos, tan\n",
    "#10 -16 = 0.0000000000000001\n",
    "#numpy >np , pandas > pd , seaborn > sns , tensorflow > tf\n",
    "\n",
    "import math as m\n",
    "\n",
    "print(m.pi, m.sin(m.pi/2), m.cos(m.pi), m.tan(m.pi*2), sep = ' / ')\n",
    "\n",
    "print(m.pow(2,4), m.sqrt(49), m.log10(100), sep = ' / ')"
   ]
  },
  {
   "cell_type": "code",
   "execution_count": 8,
   "metadata": {},
   "outputs": [
    {
     "name": "stdout",
     "output_type": "stream",
     "text": [
      "3.141592653589793\n"
     ]
    }
   ],
   "source": [
    "from math import pi\n",
    "print (pi)"
   ]
  },
  {
   "cell_type": "code",
   "execution_count": 9,
   "metadata": {},
   "outputs": [
    {
     "data": {
      "text/plain": [
       "2.718281828459045"
      ]
     },
     "execution_count": 9,
     "metadata": {},
     "output_type": "execute_result"
    }
   ],
   "source": [
    "math.e"
   ]
  },
  {
   "cell_type": "markdown",
   "metadata": {},
   "source": [
    "## Random"
   ]
  },
  {
   "cell_type": "code",
   "execution_count": 10,
   "metadata": {},
   "outputs": [
    {
     "name": "stdout",
     "output_type": "stream",
     "text": [
      "0.39044739782287763\n",
      "0.22797724811473874\n",
      "0.12377075579548735\n"
     ]
    }
   ],
   "source": [
    "#random은 0~1 사이의 실수 값을 임의로 보여줌\n",
    "\n",
    "import random\n",
    "\n",
    "for i in range(3):\n",
    "    print(random.random())"
   ]
  },
  {
   "cell_type": "code",
   "execution_count": 11,
   "metadata": {
    "scrolled": true
   },
   "outputs": [
    {
     "name": "stdout",
     "output_type": "stream",
     "text": [
      "0.13436424411240122\n",
      "0.8474337369372327\n",
      "0.763774618976614\n"
     ]
    }
   ],
   "source": [
    "#random.seed(100) > 랜덤으로 나온 값이 변하지 않도록 함\n",
    "\n",
    "random.seed(1)\n",
    "\n",
    "for i in range(3):\n",
    "    print(random.random())"
   ]
  },
  {
   "cell_type": "code",
   "execution_count": 13,
   "metadata": {},
   "outputs": [
    {
     "name": "stdout",
     "output_type": "stream",
     "text": [
      "7\n",
      "3\n",
      "1\n",
      "7\n",
      "1\n"
     ]
    }
   ],
   "source": [
    "# 예제 8-7\n",
    "\n",
    "# 주사위 돌리기 > 1,2,3,4,5,6 중 몇 번 랜덤으로 나오게 함\n",
    "import random as rd\n",
    "\n",
    "for i in range(5):\n",
    "    print(rd.randrange(1,11,2))\n",
    "    \n",
    "    # 1~10 중 2씩 증가하여 1,3,5,7,9 에서 5번 무작위 랜덤"
   ]
  },
  {
   "cell_type": "code",
   "execution_count": 14,
   "metadata": {},
   "outputs": [
    {
     "name": "stdout",
     "output_type": "stream",
     "text": [
      "4\n",
      "4\n",
      "5\n",
      "1\n",
      "6\n"
     ]
    }
   ],
   "source": [
    "# 예제 8-8\n",
    "\n",
    "for i in range(5):\n",
    "    print(rd.randint(1,6)) # 주사위 돌리기 랜덤 인트(숫자)"
   ]
  },
  {
   "cell_type": "code",
   "execution_count": 15,
   "metadata": {},
   "outputs": [
    {
     "name": "stdout",
     "output_type": "stream",
     "text": [
      "바위\n",
      "바위\n",
      "보\n",
      "가위\n",
      "보\n"
     ]
    }
   ],
   "source": [
    "# 예제 8-9\n",
    "\n",
    "toss = ['가위','바위','보']\n",
    "\n",
    "for i in range(5):\n",
    "    print(rd.choice(toss))"
   ]
  },
  {
   "cell_type": "code",
   "execution_count": 16,
   "metadata": {},
   "outputs": [
    {
     "name": "stdout",
     "output_type": "stream",
     "text": [
      "['오렌지', '바나나', '사과']\n",
      "['바나나', '사과', '오렌지']\n",
      "['사과', '오렌지', '바나나']\n"
     ]
    }
   ],
   "source": [
    "# 예제 8-10\n",
    "\n",
    "fruits = ['사과','바나나','오렌지']\n",
    "\n",
    "for i in range(3):\n",
    "    rd.shuffle(fruits)\n",
    "    print(fruits)"
   ]
  },
  {
   "cell_type": "code",
   "execution_count": 17,
   "metadata": {},
   "outputs": [],
   "source": [
    "# random 함수는 확률이 uniform 확률로 모든 경우의 수가 동일한 확률\n",
    "# (표준)정규분포의 확률로 나오는 것이 효과적\n",
    "# (평균, 시그마)\n",
    "# 이항분포 > 주사위 나올 확률 횟수 증가에 따른 확률 분포"
   ]
  },
  {
   "cell_type": "markdown",
   "metadata": {},
   "source": [
    "## datetime 모듈"
   ]
  },
  {
   "cell_type": "code",
   "execution_count": 41,
   "metadata": {},
   "outputs": [
    {
     "name": "stdout",
     "output_type": "stream",
     "text": [
      "2020-06-03 10:15:45.450162\n"
     ]
    }
   ],
   "source": [
    "from datetime import datetime\n",
    "today = datetime.now()\n",
    "print(today)"
   ]
  },
  {
   "cell_type": "code",
   "execution_count": 42,
   "metadata": {
    "scrolled": true
   },
   "outputs": [
    {
     "name": "stdout",
     "output_type": "stream",
     "text": [
      "2020.6.3\n",
      "10:15:45\n",
      "2\n"
     ]
    }
   ],
   "source": [
    "print(today.year, today.month, today.day, sep ='.')\n",
    "print(today.hour, today.minute, today.second, sep = ':')\n",
    "print(today.weekday())"
   ]
  },
  {
   "cell_type": "code",
   "execution_count": 43,
   "metadata": {},
   "outputs": [
    {
     "data": {
      "text/plain": [
       "'20-06-03 10:15:45'"
      ]
     },
     "execution_count": 43,
     "metadata": {},
     "output_type": "execute_result"
    }
   ],
   "source": [
    "today.strftime('%y-%m-%d %H:%M:%S')"
   ]
  },
  {
   "cell_type": "code",
   "execution_count": 44,
   "metadata": {},
   "outputs": [
    {
     "data": {
      "text/plain": [
       "'200603'"
      ]
     },
     "execution_count": 44,
     "metadata": {},
     "output_type": "execute_result"
    }
   ],
   "source": [
    "today.strftime('%y%m%d')"
   ]
  },
  {
   "cell_type": "markdown",
   "metadata": {},
   "source": [
    "## 모듈 생성하기"
   ]
  },
  {
   "cell_type": "code",
   "execution_count": 45,
   "metadata": {},
   "outputs": [
    {
     "name": "stdout",
     "output_type": "stream",
     "text": [
      "안지수님 안녕하세요.\n",
      "홍지영님 반갑습니다.\n",
      "황예림님 만나서 반가워요.\n"
     ]
    }
   ],
   "source": [
    "# 예제 8-2\n",
    "# 직접 수정할 부분만 작업하고 나머지 완성된 부분은 .py로 라이브러리에 저장\n",
    "\n",
    "import ch08greet as greet\n",
    "\n",
    "print(greet.hello1('안지수'))\n",
    "print(greet.hello2('홍지영'))\n",
    "print(greet.hello3('황예림'))"
   ]
  },
  {
   "cell_type": "code",
   "execution_count": 1,
   "metadata": {},
   "outputs": [
    {
     "name": "stdout",
     "output_type": "stream",
     "text": [
      "1 , 1\n",
      "2 , 1\n",
      "6 , 2\n",
      "24 , 3\n",
      "120 , 5\n",
      "720 , 8\n",
      "5040 , 13\n",
      "40320 , 21\n",
      "362880 , 34\n",
      "3628800 , 55\n"
     ]
    }
   ],
   "source": [
    "import ch08util as my_util\n",
    "\n",
    "for i in range(1,11):\n",
    "    print(my_util.facto(i), end = ' , ')\n",
    "    print(my_util.fibo(i))"
   ]
  }
 ],
 "metadata": {
  "kernelspec": {
   "display_name": "Python 3",
   "language": "python",
   "name": "python3"
  },
  "language_info": {
   "codemirror_mode": {
    "name": "ipython",
    "version": 3
   },
   "file_extension": ".py",
   "mimetype": "text/x-python",
   "name": "python",
   "nbconvert_exporter": "python",
   "pygments_lexer": "ipython3",
   "version": "3.7.6"
  }
 },
 "nbformat": 4,
 "nbformat_minor": 4
}
