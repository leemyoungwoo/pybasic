{
 "cells": [
  {
   "cell_type": "markdown",
   "metadata": {},
   "source": [
    "# Chapter.06 튜플과 딕셔너리"
   ]
  },
  {
   "cell_type": "code",
   "execution_count": 1,
   "metadata": {},
   "outputs": [],
   "source": [
    "# 예제 1\n",
    "\n",
    "menu = ('coffee','milk','tea','cider')\n",
    "\n",
    "print(menu)\n",
    "print(menu[0])\n",
    "print(menu[1])\n",
    "print(menu[2])\n",
    "print(menu[0:3])\n",
    "\n",
    "menu[1] = 'mlik'"
   ]
  },
  {
   "cell_type": "code",
   "execution_count": 2,
   "metadata": {},
   "outputs": [],
   "source": [
    "# 예제 2\n",
    "\n",
    "tuple1 = ('apple','banana','cherry')\n",
    "tuple2 = ('orange','melon','strawberry')\n",
    "tuple3 = tuple1 + tuple2\n",
    "\n",
    "print(tuple3)\n",
    "print(len(tuple3))\n",
    "\n",
    "for x in tuple1 :\n",
    "    print(x)\n",
    "    \n",
    "del tuple1"
   ]
  },
  {
   "cell_type": "code",
   "execution_count": 3,
   "metadata": {},
   "outputs": [],
   "source": [
    "#tuple 만들기\n",
    "\n",
    "#odds = (1,3,5,7,9)\n",
    "\n",
    "odds = tuple(range(1,10,2))\n",
    "print(odds)"
   ]
  },
  {
   "cell_type": "code",
   "execution_count": 4,
   "metadata": {},
   "outputs": [],
   "source": [
    "#표현식 (1,4,9,16,25)\n",
    "\n",
    "squares = tuple(i*i for i in range (1,6))\n",
    "print(squares)"
   ]
  },
  {
   "cell_type": "code",
   "execution_count": 5,
   "metadata": {},
   "outputs": [
    {
     "name": "stdout",
     "output_type": "stream",
     "text": [
      "(1, 9, 25, 49, 81)\n"
     ]
    }
   ],
   "source": [
    "#표현식 (1,9,25,49,81)\n",
    "\n",
    "odd_squares = tuple(i*i for i in range(1,10) if i % 2 ==1)\n",
    "\n",
    "print(odd_squares)\n"
   ]
  },
  {
   "cell_type": "markdown",
   "metadata": {},
   "source": [
    "## Sequence 객체"
   ]
  },
  {
   "cell_type": "code",
   "execution_count": 6,
   "metadata": {},
   "outputs": [
    {
     "name": "stdout",
     "output_type": "stream",
     "text": [
      "True\n",
      "False\n",
      "True\n"
     ]
    }
   ],
   "source": [
    "#특정 값이 있는지 확인하기\n",
    "\n",
    "a = [0, 10, 20, 30, 40, 50, 60, 70, 80, 90]\n",
    "print(30 in a)\n",
    "print(100 in a)\n",
    "print(100 not in a)"
   ]
  },
  {
   "cell_type": "code",
   "execution_count": 7,
   "metadata": {},
   "outputs": [
    {
     "name": "stdout",
     "output_type": "stream",
     "text": [
      "False\n"
     ]
    }
   ],
   "source": [
    "print(30 not in a)"
   ]
  },
  {
   "cell_type": "code",
   "execution_count": 8,
   "metadata": {},
   "outputs": [
    {
     "data": {
      "text/plain": [
       "True"
      ]
     },
     "execution_count": 8,
     "metadata": {},
     "output_type": "execute_result"
    }
   ],
   "source": [
    "43 in (38, 76, 43, 62, 19)"
   ]
  },
  {
   "cell_type": "code",
   "execution_count": 9,
   "metadata": {},
   "outputs": [
    {
     "data": {
      "text/plain": [
       "True"
      ]
     },
     "execution_count": 9,
     "metadata": {},
     "output_type": "execute_result"
    }
   ],
   "source": [
    "1 in range(10)"
   ]
  },
  {
   "cell_type": "code",
   "execution_count": 10,
   "metadata": {},
   "outputs": [
    {
     "data": {
      "text/plain": [
       "True"
      ]
     },
     "execution_count": 10,
     "metadata": {},
     "output_type": "execute_result"
    }
   ],
   "source": [
    "'P' in 'Hello Python'"
   ]
  },
  {
   "cell_type": "code",
   "execution_count": 12,
   "metadata": {},
   "outputs": [
    {
     "name": "stdout",
     "output_type": "stream",
     "text": [
      "[0, 10, 20, 30, 9, 8, 7, 6]\n"
     ]
    }
   ],
   "source": [
    "# 시퀀스 객체 연결하기\n",
    "a = [0, 10, 20, 30]\n",
    "b = [9, 8, 7, 6]\n",
    "print ( a + b )\n"
   ]
  },
  {
   "cell_type": "code",
   "execution_count": 15,
   "metadata": {},
   "outputs": [
    {
     "name": "stdout",
     "output_type": "stream",
     "text": [
      "(1, 2, 3, 10, 20, 30)\n",
      "hello World!\n"
     ]
    }
   ],
   "source": [
    "print((1,2,3,) + (10,20,30))\n",
    "print('hello'+' '+'World!')"
   ]
  },
  {
   "cell_type": "code",
   "execution_count": 17,
   "metadata": {},
   "outputs": [
    {
     "data": {
      "text/plain": [
       "(1, 2, 3, 4, 5, 6, 7, 8, 9, 10, 11, 12, 13, 14, 15, 16, 17, 18, 19)"
      ]
     },
     "execution_count": 17,
     "metadata": {},
     "output_type": "execute_result"
    }
   ],
   "source": [
    "tuple(range(1,10)) + tuple(range(10,20))\n"
   ]
  },
  {
   "cell_type": "code",
   "execution_count": 18,
   "metadata": {},
   "outputs": [
    {
     "ename": "TypeError",
     "evalue": "can only concatenate str (not \"int\") to str",
     "output_type": "error",
     "traceback": [
      "\u001b[1;31m---------------------------------------------------------------------------\u001b[0m",
      "\u001b[1;31mTypeError\u001b[0m                                 Traceback (most recent call last)",
      "\u001b[1;32m<ipython-input-18-9ca4237d1291>\u001b[0m in \u001b[0;36m<module>\u001b[1;34m\u001b[0m\n\u001b[0;32m      1\u001b[0m \u001b[1;31m# 문자열과 숫자 연결\u001b[0m\u001b[1;33m\u001b[0m\u001b[1;33m\u001b[0m\u001b[1;33m\u001b[0m\u001b[0m\n\u001b[0;32m      2\u001b[0m \u001b[1;33m\u001b[0m\u001b[0m\n\u001b[1;32m----> 3\u001b[1;33m \u001b[1;34m'Python'\u001b[0m \u001b[1;33m+\u001b[0m \u001b[1;36m3\u001b[0m\u001b[1;33m\u001b[0m\u001b[1;33m\u001b[0m\u001b[0m\n\u001b[0m",
      "\u001b[1;31mTypeError\u001b[0m: can only concatenate str (not \"int\") to str"
     ]
    }
   ],
   "source": [
    "# 문자열과 숫자 연결\n",
    "\n",
    "'Python' + 3"
   ]
  },
  {
   "cell_type": "code",
   "execution_count": 19,
   "metadata": {},
   "outputs": [
    {
     "data": {
      "text/plain": [
       "'Python3'"
      ]
     },
     "execution_count": 19,
     "metadata": {},
     "output_type": "execute_result"
    }
   ],
   "source": [
    "'Python' + str(3)"
   ]
  },
  {
   "cell_type": "code",
   "execution_count": 21,
   "metadata": {},
   "outputs": [
    {
     "name": "stdout",
     "output_type": "stream",
     "text": [
      "[1, 2, 3, 1, 2, 3, 1, 2, 3]\n",
      "[1, 2, 3, 1, 2, 3, 1, 2, 3]\n"
     ]
    }
   ],
   "source": [
    "# 시퀀스 객체 반복하기\n",
    "\n",
    "print([1,2,3]*3)\n",
    "print(3*[1,2,3,])"
   ]
  },
  {
   "cell_type": "code",
   "execution_count": 22,
   "metadata": {},
   "outputs": [
    {
     "name": "stdout",
     "output_type": "stream",
     "text": [
      "(1, 2, 3, 1, 2, 3, 1, 2, 3)\n",
      "PythonPythonPython\n"
     ]
    }
   ],
   "source": [
    "print((1,2,3)*3)\n",
    "print('Python'*3)"
   ]
  },
  {
   "cell_type": "code",
   "execution_count": 25,
   "metadata": {},
   "outputs": [
    {
     "ename": "TypeError",
     "evalue": "unsupported operand type(s) for *: 'range' and 'int'",
     "output_type": "error",
     "traceback": [
      "\u001b[1;31m---------------------------------------------------------------------------\u001b[0m",
      "\u001b[1;31mTypeError\u001b[0m                                 Traceback (most recent call last)",
      "\u001b[1;32m<ipython-input-25-e811b9d6182f>\u001b[0m in \u001b[0;36m<module>\u001b[1;34m\u001b[0m\n\u001b[1;32m----> 1\u001b[1;33m \u001b[0mrange\u001b[0m\u001b[1;33m(\u001b[0m\u001b[1;36m1\u001b[0m\u001b[1;33m,\u001b[0m \u001b[1;36m5\u001b[0m\u001b[1;33m)\u001b[0m \u001b[1;33m*\u001b[0m \u001b[1;36m3\u001b[0m\u001b[1;33m\u001b[0m\u001b[1;33m\u001b[0m\u001b[0m\n\u001b[0m",
      "\u001b[1;31mTypeError\u001b[0m: unsupported operand type(s) for *: 'range' and 'int'"
     ]
    }
   ],
   "source": [
    "range(1, 5) * 3"
   ]
  },
  {
   "cell_type": "code",
   "execution_count": 28,
   "metadata": {},
   "outputs": [
    {
     "data": {
      "text/plain": [
       "[1, 2, 3, 4, 1, 2, 3, 4, 1, 2, 3, 4]"
      ]
     },
     "execution_count": 28,
     "metadata": {},
     "output_type": "execute_result"
    }
   ],
   "source": [
    "list(range(1,5))*3"
   ]
  },
  {
   "cell_type": "code",
   "execution_count": 31,
   "metadata": {},
   "outputs": [
    {
     "name": "stdout",
     "output_type": "stream",
     "text": [
      "(11, 55, 99)\n"
     ]
    },
    {
     "data": {
      "text/plain": [
       "(11, 55, 99)"
      ]
     },
     "execution_count": 31,
     "metadata": {},
     "output_type": "execute_result"
    }
   ],
   "source": [
    "a = (11,22,33,44,55,66,77,88,99)\n",
    "print (a[0:9:4])\n",
    "\n",
    "a[0::4]"
   ]
  },
  {
   "cell_type": "markdown",
   "metadata": {},
   "source": [
    "# Dictionary"
   ]
  },
  {
   "cell_type": "code",
   "execution_count": 32,
   "metadata": {},
   "outputs": [
    {
     "name": "stdout",
     "output_type": "stream",
     "text": [
      "{'name': '안지영', 'age': '30', 'email': 'jiyoung@korea.com'}\n",
      "안지영\n",
      "30\n",
      "길이 : 3\n"
     ]
    }
   ],
   "source": [
    "# 예제 3\n",
    "\n",
    "members = {'name':'안지영','age':'30','email':'jiyoung@korea.com'}\n",
    "\n",
    "print(members)\n",
    "print(members['name'])\n",
    "print(members['age'])\n",
    "\n",
    "print('길이 : %d'% len(members))"
   ]
  },
  {
   "cell_type": "code",
   "execution_count": 36,
   "metadata": {},
   "outputs": [
    {
     "name": "stdout",
     "output_type": "stream",
     "text": [
      "{'kor': 95, 'eng': 85, 'math': 90, 'science': 80}\n",
      "70\n",
      "{'kor': 95, 'eng': 85, 'math': 90, 'science': 80, 'musig': 100}\n",
      "{'kor': 70, 'eng': 85, 'math': 90}\n",
      "이름 : 안진영\n",
      "국어 : 70\n",
      "영어 : 85\n",
      "수학 : 90\n"
     ]
    }
   ],
   "source": [
    "# 예제 4\n",
    "\n",
    "name = '안진영'\n",
    "\n",
    "scores = {'kor':95,'eng':85,'math':90,'science':80}\n",
    "print(score)\n",
    "\n",
    "scores['kor'] = 70\n",
    "print(scores['kor'])\n",
    "\n",
    "score['musig']=100\n",
    "print(score)\n",
    "\n",
    "del scores['science']\n",
    "print(scores)\n",
    "\n",
    "print('이름 : %s'% name)\n",
    "print('국어 : %d'% scores['kor'])\n",
    "print('영어 : %d'% scores['eng'])\n",
    "print('수학 : %d'% scores['math'])"
   ]
  },
  {
   "cell_type": "code",
   "execution_count": 42,
   "metadata": {},
   "outputs": [
    {
     "name": "stdout",
     "output_type": "stream",
     "text": [
      "{'갤럭시 노트8': 2017, '갤럭시 S9': 2018, '갤럭시 노트10': 2019, '갤럭시 S20': 2020}\n",
      "갤럭시 노트8 => 2017\n",
      "갤럭시 S9 => 2018\n",
      "갤럭시 노트10 => 2019\n",
      "갤럭시 S20 => 2020\n",
      "4\n"
     ]
    }
   ],
   "source": [
    "# 예제 5\n",
    "\n",
    "phones = {'갤럭시 노트8':2017,'갤럭시 S9':2018,'갤럭시 노트10':2019,'갤럭시 S20':2020}\n",
    "\n",
    "print(phones)\n",
    "\n",
    "for key in phones :\n",
    "    print('%s => %s' % (key, phones[key]))\n",
    "          \n",
    "print(len(phones))"
   ]
  },
  {
   "cell_type": "code",
   "execution_count": 45,
   "metadata": {},
   "outputs": [],
   "source": [
    "lux = {'health': 490, 'health': 800, 'mana': 334, 'melee': 550, 'armor': 18.72}"
   ]
  },
  {
   "cell_type": "code",
   "execution_count": 46,
   "metadata": {},
   "outputs": [
    {
     "data": {
      "text/plain": [
       "{'health': 800, 'mana': 334, 'melee': 550, 'armor': 18.72}"
      ]
     },
     "execution_count": 46,
     "metadata": {},
     "output_type": "execute_result"
    }
   ],
   "source": [
    "lux"
   ]
  },
  {
   "cell_type": "code",
   "execution_count": 48,
   "metadata": {},
   "outputs": [
    {
     "data": {
      "text/plain": [
       "{'health': 490, 'mana': 334, 'melee': 550, 'armor': 18.72}"
      ]
     },
     "execution_count": 48,
     "metadata": {},
     "output_type": "execute_result"
    }
   ],
   "source": [
    "lux1 = dict(health=490, mana=334, melee=550, armor=18.72)\n",
    "lux1"
   ]
  },
  {
   "cell_type": "code",
   "execution_count": 49,
   "metadata": {},
   "outputs": [
    {
     "data": {
      "text/plain": [
       "True"
      ]
     },
     "execution_count": 49,
     "metadata": {},
     "output_type": "execute_result"
    }
   ],
   "source": [
    "# key 값이 딕셔너리 안에 있는지\n",
    "\n",
    "'health' in lux"
   ]
  },
  {
   "cell_type": "code",
   "execution_count": 50,
   "metadata": {},
   "outputs": [
    {
     "data": {
      "text/plain": [
       "{'cherry', 'grape', 'orange', 'pineapple', 'strawberry'}"
      ]
     },
     "execution_count": 50,
     "metadata": {},
     "output_type": "execute_result"
    }
   ],
   "source": [
    "##집합(set)\n",
    "\n",
    "fruits = {'strawberry', 'grape', 'orange', 'pineapple', 'cherry'}\n",
    "fruits\n",
    "{'pineapple', 'orange', 'grape', 'strawberry', 'cherry'}"
   ]
  },
  {
   "cell_type": "code",
   "execution_count": 51,
   "metadata": {},
   "outputs": [
    {
     "data": {
      "text/plain": [
       "{'cherry', 'orange'}"
      ]
     },
     "execution_count": 51,
     "metadata": {},
     "output_type": "execute_result"
    }
   ],
   "source": [
    "fruits = {'orange','orange','cherry'}\n",
    "fruits"
   ]
  }
 ],
 "metadata": {
  "kernelspec": {
   "display_name": "Python 3",
   "language": "python",
   "name": "python3"
  },
  "language_info": {
   "codemirror_mode": {
    "name": "ipython",
    "version": 3
   },
   "file_extension": ".py",
   "mimetype": "text/x-python",
   "name": "python",
   "nbconvert_exporter": "python",
   "pygments_lexer": "ipython3",
   "version": "3.7.6"
  }
 },
 "nbformat": 4,
 "nbformat_minor": 4
}
