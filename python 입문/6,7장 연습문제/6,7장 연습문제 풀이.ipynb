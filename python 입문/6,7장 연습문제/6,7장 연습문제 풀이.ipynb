{
 "cells": [
  {
   "cell_type": "code",
   "execution_count": 6,
   "metadata": {},
   "outputs": [
    {
     "name": "stdout",
     "output_type": "stream",
     "text": [
      "아이디: kim99, 마일리지: 12000점\n",
      "아이디: lee66, 마일리지: 11000점\n",
      "아이디: han55, 마일리지: 3000점\n",
      "아이디: hong77, 마일리지: 5000점\n",
      "아이디: hwang33, 마일리지: 18000점\n"
     ]
    }
   ],
   "source": [
    "# 연습문제 1번\n",
    "\n",
    "custom = {'kim99':12000,'lee66':11000,'han55':3000,'hong77':5000,'hwang33':18000}\n",
    "for key in custom :\n",
    "    print('아이디: %s, 마일리지: %d점'% (key,custom[key]))"
   ]
  },
  {
   "cell_type": "code",
   "execution_count": 10,
   "metadata": {},
   "outputs": [
    {
     "name": "stdout",
     "output_type": "stream",
     "text": [
      "전체 딕셔너리: {'kim99': 12000, 'lee66': 11000, 'han55': 3000, 'hong77': 5000, 'hwang33': 18000, 'jang88': 7000}\n",
      "jang88님의 마일리지(7000점)가 추가 되었습니다.\n"
     ]
    }
   ],
   "source": [
    "# 연습문제 3번\n",
    "\n",
    "custom = {'kim99':12000,'lee66':11000,'han55':3000,'hong77':5000,'hwang33':18000}\n",
    "\n",
    "custom['jang88'] = 7000\n",
    "\n",
    "print('전체 딕셔너리:',custom)\n",
    "\n",
    "print('jang88님의 마일리지(%d점)가 추가 되었습니다.'% custom['jang88'])"
   ]
  },
  {
   "cell_type": "code",
   "execution_count": 26,
   "metadata": {},
   "outputs": [
    {
     "name": "stdout",
     "output_type": "stream",
     "text": [
      "--------------------------------------------------\n",
      "월   화   수   목   금   토   일   \n",
      "--------------------------------------------------\n",
      "25.5 28.3 33.2 32.1 17.3 35.3 33.3 \n",
      "--------------------------------------------------\n"
     ]
    }
   ],
   "source": [
    "# 연습문제 5번 \n",
    "\n",
    "weather = {'월':25.5,'화':28.3,'수':33.2,'목':32.1,'금':17.3,'토':35.3,'일':33.3}\n",
    "\n",
    "print('-'*50)\n",
    "for key in weather :\n",
    "    print(key,end='   ')\n",
    "print( ) \n",
    "print('-'*50)\n",
    "\n",
    "for key in weather :\n",
    "    print(weather[key], end = ' ')\n",
    "print( )\n",
    "\n",
    "print('-'*50)"
   ]
  },
  {
   "cell_type": "code",
   "execution_count": 28,
   "metadata": {},
   "outputs": [
    {
     "name": "stdout",
     "output_type": "stream",
     "text": [
      "20,10\n"
     ]
    }
   ],
   "source": [
    "# 7장 연습문제 1번\n",
    "\n",
    "def f1(a):\n",
    "    a +=10\n",
    "    print(a, end=',')\n",
    "\n",
    "a = 10\n",
    "f1(a)\n",
    "print(a)"
   ]
  },
  {
   "cell_type": "code",
   "execution_count": 35,
   "metadata": {},
   "outputs": [
    {
     "name": "stdout",
     "output_type": "stream",
     "text": [
      "n값을 입력해 주세요 :20\n",
      "2~20까지의 정수 중 소수 : 2 3 5 7 11 13 17 19 "
     ]
    }
   ],
   "source": [
    "# 연습문제 3번\n",
    "\n",
    "def prime_num(n):\n",
    "    print('2~%d까지의 정수 중 소수 :'% n,end=' ')\n",
    "    for i in range(2, n+1):\n",
    "        for x in range(2, i+1):\n",
    "            if i == x :\n",
    "                print(i, end = ' ')\n",
    "            elif i%x == 0 :\n",
    "                break\n",
    "n = int(input('n값을 입력해 주세요 :'))\n",
    "\n",
    "prime_num(n)\n",
    "            "
   ]
  },
  {
   "cell_type": "code",
   "execution_count": 37,
   "metadata": {},
   "outputs": [
    {
     "name": "stdout",
     "output_type": "stream",
     "text": [
      "[1, 4, 9, 16, 25]\n"
     ]
    }
   ],
   "source": [
    "# 연습문제 5번\n",
    "\n",
    "def numSquare(num):\n",
    "    list_new = []\n",
    "    for i in range(1,num+1):\n",
    "        list_new.append(i**2)\n",
    "    return list_new\n",
    "\n",
    "n=5\n",
    "result = numSquare(n)\n",
    "print(result)\n"
   ]
  },
  {
   "cell_type": "code",
   "execution_count": 48,
   "metadata": {},
   "outputs": [
    {
     "name": "stdout",
     "output_type": "stream",
     "text": [
      "※비밀번호는 10자리 이상, 영문 대문자를 포함하여야 합니다.\n",
      "비밀번호: asfdasdfl\n",
      "비밀번호 확인 :asdfasdfsaf\n",
      "비밀번호와 비밀번호 확인이 서로 다릅니다! 다시 입력해 주세요!\n",
      "비밀번호: asdfasdfasdf\n",
      "비밀번호 확인 :askdlghskdlhfawfw\n",
      "비밀번호와 비밀번호 확인이 서로 다릅니다! 다시 입력해 주세요!\n",
      "비밀번호: ASDF1234asdf\n",
      "비밀번호 확인 :ASDF1234asdf\n",
      "유효한 비밀번호입니다~~~\n"
     ]
    }
   ],
   "source": [
    "# 연습문제 7번\n",
    "capital = 'ABCDEFGHIJKLMNOPQRSTUVWXYZ'\n",
    "\n",
    "def is_password(pw):\n",
    "        if len(pw)>=10 :\n",
    "            # 유효하다.\n",
    "            capital_flag = False\n",
    "            for c in pw:\n",
    "                if c in capital:\n",
    "                    capital_flag = True\n",
    "            if capital_flag == True:\n",
    "                print('유효한 비밀번호입니다~~~')\n",
    "                return True\n",
    "            else:\n",
    "                print('비밀번호가 잘못되었습니다! 다시 입력해 주세요')\n",
    "                return False\n",
    "        else : # 유효하지 않다.\n",
    "            print('비밀번호가 잘못되었습니다! 다시 입력해 주세요')\n",
    "            return False\n",
    "\n",
    "print('※비밀번호는 10자리 이상, 영문 대문자를 포함하여야 합니다.')\n",
    "\n",
    "flag = False\n",
    "while flag != True:\n",
    "    pw = input('비밀번호: ')\n",
    "    pw2 = input('비밀번호 확인 :')\n",
    "    \n",
    "    if pw == pw2:\n",
    "        if is_password(pw)==True:\n",
    "            flag = True\n",
    "    else:\n",
    "        print('비밀번호와 비밀번호 확인이 서로 다릅니다! 다시 입력해 주세요!')\n",
    "\n"
   ]
  },
  {
   "cell_type": "code",
   "execution_count": null,
   "metadata": {},
   "outputs": [],
   "source": []
  }
 ],
 "metadata": {
  "kernelspec": {
   "display_name": "Python 3",
   "language": "python",
   "name": "python3"
  },
  "language_info": {
   "codemirror_mode": {
    "name": "ipython",
    "version": 3
   },
   "file_extension": ".py",
   "mimetype": "text/x-python",
   "name": "python",
   "nbconvert_exporter": "python",
   "pygments_lexer": "ipython3",
   "version": "3.7.6"
  }
 },
 "nbformat": 4,
 "nbformat_minor": 4
}
