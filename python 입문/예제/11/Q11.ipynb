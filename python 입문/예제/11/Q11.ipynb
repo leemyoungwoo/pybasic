{
 "cells": [
  {
   "cell_type": "code",
   "execution_count": 4,
   "metadata": {},
   "outputs": [
    {
     "name": "stdout",
     "output_type": "stream",
     "text": [
      "지점/일시/평균기온(°C)/최저기온(°C)/최고기온(°C)/\n",
      "119/2019-10-01/22/15.7/27.4/\n",
      "119/2019-10-02/21.9/20.4/23.8/\n",
      "119/2019-10-03/22.8/19.9/27.8/\n",
      "119/2019-10-04/21.9/17.8/26.9/\n",
      "119/2019-10-05/18.9/15.7/22/\n",
      "119/2019-10-06/18/14/22/\n",
      "119/2019-10-07/14.8/13.4/17.9/\n",
      "119/2019-10-08/15/10.7/20.6/\n",
      "119/2019-10-09/12.8/6.4/19.6/\n",
      "119/2019-10-10/14.9/9.5/20.2/\n",
      "119/2019-10-11/18.8/12.1/24.8/\n",
      "119/2019-10-12/18.3/14.1/23.3/\n",
      "119/2019-10-13/16.9/12.5/22.9/\n",
      "119/2019-10-14/14/8.5/19.4/\n",
      "119/2019-10-15/13.3/7.3/19.6/\n",
      "119/2019-10-16/13.9/7.9/20/\n",
      "119/2019-10-17/14.6/9.1/20.6/\n",
      "119/2019-10-18/16.7/10/21.9/\n",
      "119/2019-10-19/16/10.4/22.2/\n",
      "119/2019-10-20/15.1/10.8/21.7/\n",
      "119/2019-10-21/16.1/9.5/23.9/\n",
      "119/2019-10-22/16.6/11.1/23/\n",
      "119/2019-10-23/17/12.4/20/\n",
      "119/2019-10-24/18.6/14.1/23.3/\n",
      "119/2019-10-25/16.6/10.7/21.7/\n",
      "119/2019-10-26/9.8/6.4/13.9/\n",
      "119/2019-10-27/10.2/3/16.8/\n",
      "119/2019-10-28/12.4/6.3/17.4/\n",
      "119/2019-10-29/12.6/8.2/18.1/\n",
      "119/2019-10-30/10.3/3.3/17.1/\n",
      "119/2019-10-31/14.1/7.3/20.4/\n"
     ]
    }
   ],
   "source": [
    "# Q11-1\n",
    "import csv\n",
    "\n",
    "f = open('month_temp.csv', 'r', encoding='utf-8')\n",
    "lines = csv.reader(f)\n",
    "for line in lines:\n",
    "    for x in line:\n",
    "        print('%s' % x, end='/')\n",
    "    print()\n",
    "f.close()"
   ]
  },
  {
   "cell_type": "code",
   "execution_count": 5,
   "metadata": {},
   "outputs": [
    {
     "name": "stdout",
     "output_type": "stream",
     "text": [
      "10일간 평균 기온 : 61.0\n"
     ]
    }
   ],
   "source": [
    "# Q11-2\n",
    "import csv\n",
    "\n",
    "f = open('month_temp.csv', 'r', encoding='utf-8')\n",
    "lines = csv.reader(f)\n",
    "\n",
    "next(lines)             # 헤더를 건너뛴다.\n",
    "\n",
    "sum = 0\n",
    "for line in lines:\n",
    "    if (int(line[1][8:]) <= 10) :\n",
    "        sum += float(line[2])\n",
    "\n",
    "avg = sum/3\n",
    "print('10일간 평균 기온 : %.1f' % avg)\n",
    "\n",
    "f.close()"
   ]
  },
  {
   "cell_type": "code",
   "execution_count": null,
   "metadata": {},
   "outputs": [],
   "source": []
  }
 ],
 "metadata": {
  "kernelspec": {
   "display_name": "Python 3",
   "language": "python",
   "name": "python3"
  },
  "language_info": {
   "codemirror_mode": {
    "name": "ipython",
    "version": 3
   },
   "file_extension": ".py",
   "mimetype": "text/x-python",
   "name": "python",
   "nbconvert_exporter": "python",
   "pygments_lexer": "ipython3",
   "version": "3.7.4"
  }
 },
 "nbformat": 4,
 "nbformat_minor": 2
}
