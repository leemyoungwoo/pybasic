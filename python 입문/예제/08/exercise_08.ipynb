{
 "cells": [
  {
   "cell_type": "code",
   "execution_count": 9,
   "metadata": {},
   "outputs": [],
   "source": [
    "# lib.py\n",
    "def fact(start, end) :\n",
    "    f = 1\n",
    "    for x in range(start, end+1) :\n",
    "        f *= x      \n",
    "    return f\n",
    "\n",
    "def inc_10(x) :\n",
    "    x += 10\n",
    "    return x\n",
    "\n",
    "def mul_20(x) :\n",
    "    return x*20\n"
   ]
  },
  {
   "cell_type": "code",
   "execution_count": 9,
   "metadata": {},
   "outputs": [
    {
     "name": "stdout",
     "output_type": "stream",
     "text": [
      "15\n"
     ]
    }
   ],
   "source": [
    "# 연습문제 8-1\n",
    "from lib import inc_10\n",
    "\n",
    "print(inc_10(5))"
   ]
  },
  {
   "cell_type": "code",
   "execution_count": 3,
   "metadata": {},
   "outputs": [
    {
     "name": "stdout",
     "output_type": "stream",
     "text": [
      "138\n"
     ]
    }
   ],
   "source": [
    "# 연습문제 8-2\n",
    "import lib\n",
    "\n",
    "a = lib.mul_20(3)\n",
    "b = a + lib.fact(1,3)\n",
    "c = a + b +lib.inc_10(2)\n",
    "print(c)"
   ]
  },
  {
   "cell_type": "code",
   "execution_count": 10,
   "metadata": {},
   "outputs": [
    {
     "name": "stdout",
     "output_type": "stream",
     "text": [
      "35\n"
     ]
    }
   ],
   "source": [
    "# 연습문제 8-3\n",
    "import lib as lb\n",
    "\n",
    "a = 1\n",
    "b = 2\n",
    "c = 3\n",
    "\n",
    "d = lb.fact(a, b)\n",
    "d += lb.inc_10(c)\n",
    "e = d + lb.mul_20(a)\n",
    "print(e)"
   ]
  },
  {
   "cell_type": "code",
   "execution_count": 8,
   "metadata": {},
   "outputs": [
    {
     "name": "stdout",
     "output_type": "stream",
     "text": [
      "나 : 5\n",
      "당신 : 5\n",
      "무승부!\n",
      "계속하려면 y를 입력하세요!y\n",
      "나 : 1\n",
      "당신 : 2\n",
      "당신의 승리!\n",
      "계속하려면 y를 입력하세요!y\n",
      "나 : 6\n",
      "당신 : 2\n",
      "나의 승리!\n",
      "계속하려면 y를 입력하세요!\n"
     ]
    }
   ],
   "source": [
    "# 연습문제 8-6\n",
    "from random import randint\n",
    "again = 'y'\n",
    "\n",
    "while again == 'y':\n",
    "    me = randint(1, 6)\n",
    "    you = randint(1, 6)\n",
    "    \n",
    "    print('나 : %d' % me )\n",
    "    print('당신 : %d' % you)\n",
    "    \n",
    "    if me > you :\n",
    "        print('나의 승리!')\n",
    "    elif me == you :\n",
    "        print('무승부!')\n",
    "    else :\n",
    "        print('당신의 승리!')\n",
    "    \n",
    "    again = input('계속하려면 y를 입력하세요!')"
   ]
  },
  {
   "cell_type": "code",
   "execution_count": null,
   "metadata": {},
   "outputs": [],
   "source": []
  }
 ],
 "metadata": {
  "kernelspec": {
   "display_name": "Python 3",
   "language": "python",
   "name": "python3"
  },
  "language_info": {
   "codemirror_mode": {
    "name": "ipython",
    "version": 3
   },
   "file_extension": ".py",
   "mimetype": "text/x-python",
   "name": "python",
   "nbconvert_exporter": "python",
   "pygments_lexer": "ipython3",
   "version": "3.7.4"
  }
 },
 "nbformat": 4,
 "nbformat_minor": 2
}
