{
 "cells": [
  {
   "cell_type": "code",
   "execution_count": 3,
   "metadata": {},
   "outputs": [],
   "source": [
    "# greet.py\n",
    "def hello1(name) : \n",
    "    x = '%s님 안녕하세요.' % name\n",
    "    return x\n",
    "\n",
    "def hello2(name) : \n",
    "    x = '%s님 반갑습니다.' % name\n",
    "    return x\n",
    "    \n",
    "def hello3(name) : \n",
    "    x = '%s님 만나서 반가워요.' % name\n",
    "    return x"
   ]
  },
  {
   "cell_type": "code",
   "execution_count": 1,
   "metadata": {},
   "outputs": [
    {
     "name": "stdout",
     "output_type": "stream",
     "text": [
      "안지수님 안녕하세요.\n",
      "홍지영님 반갑습니다.\n",
      "황예림님 만나서 반가워요.\n"
     ]
    }
   ],
   "source": [
    "# ex8-2.py\n",
    "import greet\n",
    "\n",
    "print(greet.hello1('안지수'))\n",
    "print(greet.hello2('홍지영'))\n",
    "print(greet.hello3('황예림'))"
   ]
  },
  {
   "cell_type": "code",
   "execution_count": 5,
   "metadata": {},
   "outputs": [
    {
     "name": "stdout",
     "output_type": "stream",
     "text": [
      "김영진님 안녕하세요.\n",
      "10.0\n",
      "박소정님 반갑습니다.\n",
      "10.0\n",
      "한은정님 만나서 반가워요.\n",
      "10.0\n",
      "한은정님 반갑습니다.\n",
      "10.0 0.8414709848078965\n"
     ]
    }
   ],
   "source": [
    "# ex8-3.py\n",
    "import greet\n",
    "import math\n",
    "print(greet.hello1('김영진'))\n",
    "print(math.sqrt(100))\n",
    "\n",
    "import greet as gr\n",
    "import math as m\n",
    "print(gr.hello2('박소정'))\n",
    "print(m.sqrt(100))\n",
    "\n",
    "from greet import hello3\n",
    "from math import sqrt\n",
    "print(hello3('한은정'))\n",
    "print(sqrt(100))\n",
    "\n",
    "from greet import *\n",
    "from math import *\n",
    "print(hello2('한은정'))\n",
    "print(sqrt(100), sin(1))\n"
   ]
  },
  {
   "cell_type": "code",
   "execution_count": 1,
   "metadata": {},
   "outputs": [
    {
     "name": "stdout",
     "output_type": "stream",
     "text": [
      "floor(7.7) : 7\n",
      "ceil(10.1) : 11\n",
      "round(8.6) : 9\n",
      "5의 팩토리얼 : 120\n"
     ]
    }
   ],
   "source": [
    "# ex8-4.py\n",
    "import math\n",
    "\n",
    "print('floor(7.7) : %d' % math.floor(7.7))\n",
    "print('ceil(10.1) : %d' % math.ceil(10.1))\n",
    "print('round(8.6) : %d' % round(8.6))\n",
    "\n",
    "print('5의 팩토리얼 : %d' % math.factorial(5))\n"
   ]
  },
  {
   "cell_type": "code",
   "execution_count": 26,
   "metadata": {},
   "outputs": [
    {
     "name": "stdout",
     "output_type": "stream",
     "text": [
      "sin(pi/2) : 1.00\n",
      "cos(pi) : -1.00\n",
      "tan(pi*2) : -0.00\n",
      "2의 4승 : 16\n",
      "49의 제곱근 : 7\n",
      "log10(100) : 2.00\n"
     ]
    }
   ],
   "source": [
    "# ex8-5.py\n",
    "import math as m\n",
    "\n",
    "print('sin(pi/2) : %.2f' % m.sin(m.pi/2))\n",
    "print('cos(pi) : %.2f' % m.cos(m.pi))\n",
    "print('tan(pi*2) : %.2f' % m.tan(m.pi*2))\n",
    "\n",
    "print('2의 4승 : %d' % m.pow(2,4))\n",
    "print('49의 제곱근 : %d' % m.sqrt(49))\n",
    "print('log10(100) : %.2f' % m.log10(100))\n"
   ]
  },
  {
   "cell_type": "code",
   "execution_count": 40,
   "metadata": {},
   "outputs": [
    {
     "name": "stdout",
     "output_type": "stream",
     "text": [
      "0.09888492444564012\n",
      "0.6694563443256532\n",
      "0.08610258258734149\n"
     ]
    }
   ],
   "source": [
    "# ex8-6.py\n",
    "import random \n",
    "\n",
    "for i in range(3) :\n",
    "    print(random.random())"
   ]
  },
  {
   "cell_type": "code",
   "execution_count": 50,
   "metadata": {},
   "outputs": [
    {
     "name": "stdout",
     "output_type": "stream",
     "text": [
      "5\n",
      "3\n",
      "9\n",
      "5\n",
      "7\n"
     ]
    }
   ],
   "source": [
    "# ex8-7.py\n",
    "import random\n",
    "\n",
    "for i in range(5) :\n",
    "    print(random.randrange(1, 11, 2))"
   ]
  },
  {
   "cell_type": "code",
   "execution_count": 8,
   "metadata": {},
   "outputs": [
    {
     "name": "stdout",
     "output_type": "stream",
     "text": [
      "2\n",
      "6\n",
      "1\n",
      "5\n",
      "6\n"
     ]
    }
   ],
   "source": [
    "# ex8-8.py\n",
    "import random\n",
    "\n",
    "for i in range(5) :\n",
    "    print(random.randint(1, 6))"
   ]
  },
  {
   "cell_type": "code",
   "execution_count": 3,
   "metadata": {},
   "outputs": [
    {
     "name": "stdout",
     "output_type": "stream",
     "text": [
      "보\n",
      "가위\n",
      "바위\n",
      "보\n",
      "보\n"
     ]
    }
   ],
   "source": [
    "# ex8-9.py\n",
    "import random\n",
    "\n",
    "toss = ['가위', '바위', '보']\n",
    "\n",
    "for i in range(5) :\n",
    "    print(random.choice(toss))"
   ]
  },
  {
   "cell_type": "code",
   "execution_count": 46,
   "metadata": {},
   "outputs": [
    {
     "name": "stdout",
     "output_type": "stream",
     "text": [
      "['바나나', '사과', '오렌지']\n",
      "['사과', '바나나', '오렌지']\n",
      "['오렌지', '사과', '바나나']\n"
     ]
    }
   ],
   "source": [
    "# ex8-10.py\n",
    "import random\n",
    "\n",
    "fruits = ['사과', '바나나', '오렌지']\n",
    "\n",
    "for i in range(3) :\n",
    "    random.shuffle(fruits)\n",
    "    print(fruits)"
   ]
  },
  {
   "cell_type": "code",
   "execution_count": 58,
   "metadata": {},
   "outputs": [
    {
     "name": "stdout",
     "output_type": "stream",
     "text": [
      "------------------------------\n",
      "주사위 던지기 : 1번째\n",
      "나 : 4\n",
      "컴퓨터 : 2\n",
      "나의 승리!\n",
      "계속하려면 y를 입력하세요!y\n",
      "------------------------------\n",
      "주사위 던지기 : 2번째\n",
      "나 : 2\n",
      "컴퓨터 : 1\n",
      "나의 승리!\n",
      "계속하려면 y를 입력하세요!\n"
     ]
    }
   ],
   "source": [
    "# ex8-11.py\n",
    "import random\n",
    "\n",
    "again = 'y'\n",
    "count = 1\n",
    "\n",
    "while again =='y':\n",
    "    print('-' * 30)\n",
    "    print('주사위 던지기 : %d번째' % count)\n",
    "    me = random.randint(1, 6)\n",
    "    computer = random.randint(1, 6)\n",
    "    print('나 : %d' % me )\n",
    "    print('컴퓨터 : %d' % computer)\n",
    "    \n",
    "    if me > computer :\n",
    "        print('나의 승리!')\n",
    "    elif me == computer :\n",
    "        print('무승부!')\n",
    "    else :\n",
    "        print('컴퓨터의 승리!')\n",
    "    \n",
    "    count = count + 1\n",
    "    again = input('계속하려면 y를 입력하세요!')\n"
   ]
  },
  {
   "cell_type": "code",
   "execution_count": 60,
   "metadata": {
    "scrolled": true
   },
   "outputs": [
    {
     "name": "stdout",
     "output_type": "stream",
     "text": [
      "==============================\n",
      "가위 바위 보 게임\n",
      "==============================\n",
      "나 : 가위\n",
      "당신 : 바위\n",
      "당신의 승리입니다!\n",
      "------------------------------\n",
      "계속하려면 y를 입력하세요!y\n",
      "\n",
      "나 : 가위\n",
      "당신 : 가위\n",
      "무승부입니다!\n",
      "------------------------------\n",
      "계속하려면 y를 입력하세요!\n",
      "\n"
     ]
    }
   ],
   "source": [
    "# ex8-12.py\n",
    "import random\n",
    "\n",
    "def whoWin(x, y) :\n",
    "    if x == '가위' : \n",
    "        if y == '가위' :\n",
    "            msg = '무승부입니다!'\n",
    "        elif y == '바위' :\n",
    "            msg = '당신의 승리입니다!'\n",
    "        else :\n",
    "            msg = '나의 승리입니다!'\n",
    "    elif x == '바위' :\n",
    "        if y == '가위' :\n",
    "            msg = '나의 승리입니다!'\n",
    "        elif y == '바위' :\n",
    "            msg = '무승부입니다!'\n",
    "        else :\n",
    "            msg = '당신의 승리입니다!'\n",
    "    else :\n",
    "        if y == '가위' :\n",
    "            msg = '당신의 승리입니다!'\n",
    "        elif y == '바위' :\n",
    "            msg = '나의 승리입니다!'\n",
    "        else :\n",
    "            msg = '무승부입니다!'\n",
    "\n",
    "    return msg\n",
    "\n",
    "print('=' * 30)\n",
    "print('가위 바위 보 게임')\n",
    "print('=' * 30)\n",
    "\n",
    "gawibawibo = ['가위','바위', '보']\n",
    "again = 'y'\n",
    "\n",
    "while again == 'y' :\n",
    "    me  = random.choice(gawibawibo)\n",
    "    you = random.choice(gawibawibo)\n",
    "\n",
    "    result = whoWin(me, you)\n",
    "\n",
    "    print('나 : %s' % me)\n",
    "    print('당신 : %s' % you)\n",
    "    print(result)\n",
    "    print('-' * 30)\n",
    "    \n",
    "    again = input('계속하려면 y를 입력하세요!')\n",
    "    print()\n"
   ]
  },
  {
   "cell_type": "code",
   "execution_count": 9,
   "metadata": {},
   "outputs": [
    {
     "name": "stdout",
     "output_type": "stream",
     "text": [
      "년 : 2020\n",
      "월 : 2\n",
      "일 : 14\n",
      "시 : 10\n",
      "분 : 27\n",
      "초 : 16\n",
      "2020/02/14 10:27:16\n",
      "20-02-14 AM 10:27\n"
     ]
    }
   ],
   "source": [
    "# ex8-13.py\n",
    "from datetime import datetime\n",
    "\n",
    "today = datetime.now()\n",
    "\n",
    "print('년 : %s' % today.year)\n",
    "print('월 : %s' % today.month)\n",
    "print('일 : %s' % today.day)\n",
    "print('시 : %s' % today.hour)\n",
    "print('분 : %s' % today.minute)\n",
    "print('초 : %s' % today.second)\n",
    "\n",
    "print(today.strftime('%Y/%m/%d %H:%M:%S'))\n",
    "print(today.strftime('%y-%m-%d %p %I:%M'))\n"
   ]
  }
 ],
 "metadata": {
  "kernelspec": {
   "display_name": "Python 3",
   "language": "python",
   "name": "python3"
  },
  "language_info": {
   "codemirror_mode": {
    "name": "ipython",
    "version": 3
   },
   "file_extension": ".py",
   "mimetype": "text/x-python",
   "name": "python",
   "nbconvert_exporter": "python",
   "pygments_lexer": "ipython3",
   "version": "3.7.4"
  }
 },
 "nbformat": 4,
 "nbformat_minor": 2
}
