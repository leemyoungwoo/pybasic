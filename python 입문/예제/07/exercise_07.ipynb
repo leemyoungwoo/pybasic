{
 "cells": [
  {
   "cell_type": "code",
   "execution_count": 14,
   "metadata": {},
   "outputs": [
    {
     "name": "stdout",
     "output_type": "stream",
     "text": [
      "20,10\n"
     ]
    }
   ],
   "source": [
    "# 연습문제 7-1\n",
    "def f1(a) :\n",
    "    a += 10\n",
    "    print(a, end=',')\n",
    "    \n",
    "a = 10\n",
    "f1(a)\n",
    "print(a)\n"
   ]
  },
  {
   "cell_type": "code",
   "execution_count": 17,
   "metadata": {},
   "outputs": [
    {
     "name": "stdout",
     "output_type": "stream",
     "text": [
      "300, 100, 300\n"
     ]
    }
   ],
   "source": [
    "# 연습문제 7-2\n",
    "def f2(a) :\n",
    "    global y\n",
    "    y += a\n",
    "    x = 500\n",
    "    print(y, end=', ')\n",
    "    \n",
    "x = 100\n",
    "y = 200\n",
    "f2(x)\n",
    "print(x, end=', ')\n",
    "print(y)"
   ]
  },
  {
   "cell_type": "code",
   "execution_count": 18,
   "metadata": {},
   "outputs": [
    {
     "name": "stdout",
     "output_type": "stream",
     "text": [
      "n값을 입력해 주세요 : 20\n",
      "2 ~ 20까지의 정수 중 소수 : 2 3 5 7 11 13 17 19 "
     ]
    }
   ],
   "source": [
    "# 연습문제 7-3\n",
    "def isPrimeNumber(num) :\n",
    "    prime_yes = True \n",
    "    for i in range(2, num) : \n",
    "        if num % i == 0 : \n",
    "            prime_yes = False \n",
    "            break\n",
    "    return prime_yes\n",
    "      \n",
    "n = int(input('n값을 입력해 주세요 : '))\n",
    "\n",
    "print('2 ~ %d까지의 정수 중 소수 :' % n, end = ' ')      \n",
    "for a in range(2, n+1) :\n",
    "    is_prime = isPrimeNumber(a)\n",
    "    if is_prime :\n",
    "        print(a, end=' ')"
   ]
  },
  {
   "cell_type": "code",
   "execution_count": 2,
   "metadata": {},
   "outputs": [
    {
     "name": "stdout",
     "output_type": "stream",
     "text": [
      "문자열을 입력하세요: I am hungry.\n",
      ".yrgnuh ma I\n"
     ]
    }
   ],
   "source": [
    "# 연습문제 7-4\n",
    "def strReverse(string):\n",
    "    r_string = ''\n",
    "    index = len(string)\n",
    "    while index > 0 :\n",
    "        r_string = r_string + string[index - 1]\n",
    "        index = index - 1\n",
    "        \n",
    "    return r_string\n",
    "\n",
    "in_string = input('문자열을 입력하세요: ')\n",
    "result = strReverse(in_string)\n",
    "print(result)"
   ]
  },
  {
   "cell_type": "code",
   "execution_count": 10,
   "metadata": {},
   "outputs": [
    {
     "name": "stdout",
     "output_type": "stream",
     "text": [
      "[1, 4, 9, 16, 25]\n"
     ]
    }
   ],
   "source": [
    "# 연습문제 7-5\n",
    "def numSquare(num):\n",
    "    list_new = []\n",
    "    for i in range(1, num+1):\n",
    "        list_new.append(i**2)\n",
    "\n",
    "    return list_new\n",
    "\n",
    "n = 5\n",
    "result = numSquare(n)\n",
    "print(result)"
   ]
  },
  {
   "cell_type": "code",
   "execution_count": 11,
   "metadata": {},
   "outputs": [
    {
     "name": "stdout",
     "output_type": "stream",
     "text": [
      "첫 번째 수를 입력하세요: 8\n",
      "두 번째 수를 입력하세요: 20\n",
      "8와 20의 최소공배수 : 40\n"
     ]
    }
   ],
   "source": [
    "# 연습문제 7-6\n",
    "def computeMinGong(x, y):\n",
    "    if x > y :\n",
    "        big = x\n",
    "    else:\n",
    "        big = y\n",
    "\n",
    "    while(True):\n",
    "        if((big % x == 0) and (big % y == 0)):\n",
    "            result = big\n",
    "            break\n",
    "        big = big + 1\n",
    "\n",
    "    return result\n",
    "\n",
    "num1 = int(input(\"첫 번째 수를 입력하세요: \"))\n",
    "num2 = int(input(\"두 번째 수를 입력하세요: \"))\n",
    "\n",
    "min_gong = computeMinGong(num1, num2)\n",
    "\n",
    "print('%d와 %d의 최소공배수 : %d' % (num1, num2, min_gong))"
   ]
  },
  {
   "cell_type": "code",
   "execution_count": 13,
   "metadata": {},
   "outputs": [
    {
     "name": "stdout",
     "output_type": "stream",
     "text": [
      "※ 비밀번호는 10자리 이상, 영문 대문자를 포함하여야 합니다.\n",
      "비밀번호 : 3677848\n",
      "비밀번호 확인: 3677848\n",
      "비밀번호가 잘못되었습니다! 다시 입력해 주세요\n",
      "비밀번호: A123456789\n",
      "비밀번호 확인 : asdfsadf\n",
      "비밀번호와 비밀번호 확인이 서로 다릅니다! 다시 입력해 주세요!\n",
      "비밀번호: A123456789\n",
      "비밀번호 확인 : A123456789\n",
      "유효한 비밀번호입니다~~~\n"
     ]
    }
   ],
   "source": [
    "# 연습문제 7-7\n",
    "def isValid(p) : \n",
    "   if len(p) < 10 : \n",
    "      return False \n",
    "\n",
    "   is_num = False \n",
    "   is_upper = False \n",
    "\n",
    "   for ch in p : \n",
    "      if ch >= 'A' and ch <= 'Z' : \n",
    "         is_upper = True \n",
    "      if ch >= '0' and ch <= '9' : \n",
    "         is_num = True \n",
    "\n",
    "   return is_upper and is_num \n",
    "\n",
    "\n",
    "print('※ 비밀번호는 10자리 이상, 영문 대문자를 포함하여야 합니다.') \n",
    "\n",
    "password1 = input('비밀번호 : ') \n",
    "password2 = input('비밀번호 확인: ') \n",
    "\n",
    "while True :\n",
    "    if isValid(password1) and password1 == password2 :\n",
    "        break\n",
    "    else :\n",
    "        if not isValid(password1) :  \n",
    "            print('비밀번호가 잘못되었습니다! 다시 입력해 주세요')\n",
    "        else :  \n",
    "            print('비밀번호와 비밀번호 확인이 서로 다릅니다! 다시 입력해 주세요!')\n",
    "\n",
    "    password1 = input('비밀번호: ') \n",
    "    password2 = input('비밀번호 확인 : ') \n",
    "\n",
    "print('유효한 비밀번호입니다~~~')\n",
    "\n"
   ]
  },
  {
   "cell_type": "code",
   "execution_count": 21,
   "metadata": {},
   "outputs": [
    {
     "name": "stdout",
     "output_type": "stream",
     "text": [
      "[77, 36, 29, 11, 20, 6, 91, 33]\n",
      "정렬된 결과 : 6 11 20 29 33 36 77 91 "
     ]
    }
   ],
   "source": [
    "# 연습문제 7-8\n",
    "def bubbleSort(arr):\n",
    "    n = len(arr)\n",
    " \n",
    "    for i in range(n):\n",
    "        for j in range(0, n-i-1):\n",
    "            if arr[j] > arr[j+1] :\n",
    "                arr[j], arr[j+1] = arr[j+1], arr[j]\n",
    "                \n",
    "numbers = [77, 36, 29, 11, 20, 6, 91, 33]\n",
    "print (numbers)\n",
    "\n",
    "bubbleSort(numbers)\n",
    " \n",
    "print ('정렬된 결과 : ', end='')\n",
    "for i in range(len(numbers)):\n",
    "    print ('%d' % numbers[i], end=' ')\n",
    "                "
   ]
  },
  {
   "cell_type": "code",
   "execution_count": null,
   "metadata": {},
   "outputs": [],
   "source": []
  }
 ],
 "metadata": {
  "kernelspec": {
   "display_name": "Python 3",
   "language": "python",
   "name": "python3"
  },
  "language_info": {
   "codemirror_mode": {
    "name": "ipython",
    "version": 3
   },
   "file_extension": ".py",
   "mimetype": "text/x-python",
   "name": "python",
   "nbconvert_exporter": "python",
   "pygments_lexer": "ipython3",
   "version": "3.7.4"
  }
 },
 "nbformat": 4,
 "nbformat_minor": 2
}
