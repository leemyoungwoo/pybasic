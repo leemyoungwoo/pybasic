{
 "cells": [
  {
   "cell_type": "code",
   "execution_count": 1,
   "metadata": {},
   "outputs": [
    {
     "name": "stdout",
     "output_type": "stream",
     "text": [
      "월을 입력하세요 : 7\n",
      "7월은 여름입니다.\n"
     ]
    }
   ],
   "source": [
    "# Q3-1.py\n",
    "month = int(input('월을 입력하세요 : '))\n",
    "\n",
    "if month >= 3 and month <= 5 :\n",
    "    print('%d월은 봄입니다.' % month)\n",
    "\n",
    "if month >= 6 and month <= 8 :\n",
    "    print('%d월은 여름입니다.' % month)\n",
    "\n",
    "if month >= 9 and month <= 11 :\n",
    "    print('%d월은 가을입니다.' % month)\n",
    "\n",
    "if month == 12 or month == 1 or month == 2 :\n",
    "    print('%d월은 겨울입니다.' % month)"
   ]
  },
  {
   "cell_type": "code",
   "execution_count": 50,
   "metadata": {},
   "outputs": [
    {
     "name": "stdout",
     "output_type": "stream",
     "text": [
      "좌석 종류를 입력해 주세요(1:일반실, 2:특실) : 1\n",
      "일반실입니다.\n"
     ]
    }
   ],
   "source": [
    "# Q3-2.py\n",
    "a = input('좌석 종류를 입력해 주세요(1:일반실, 2:특실) : ')\n",
    "\n",
    "seat1 = '일반실'\n",
    "seat2 = '특실'\n",
    "\n",
    "if a == '1' :\n",
    "    print('%s입니다.' % seat1)\n",
    "\n",
    "if a == '2' :\n",
    "    print('%s입니다.' % seat2)"
   ]
  },
  {
   "cell_type": "code",
   "execution_count": 51,
   "metadata": {},
   "outputs": [
    {
     "name": "stdout",
     "output_type": "stream",
     "text": [
      "숫자를 입력하세요 : 34\n",
      "34은(는) 4의 배수도 5의 배수도 아니다.\n"
     ]
    }
   ],
   "source": [
    "# Q3-3.py\n",
    "num = int(input('숫자를 입력하세요 : '))\n",
    "result = '4의 배수도 5의 배수도 아니다.'\n",
    "\n",
    "if num%4 == 0 :\n",
    "    result = '4의 배수이다'    \n",
    "if num%5 == 0 :\n",
    "    result = '5의 배수이다'\n",
    "if num%4 == 0 and num%5 == 0 :\n",
    "    result = '4의 배수이면서 5의 배수이다.'\n",
    "\n",
    "print('%d은(는) %s' % (num, result))"
   ]
  },
  {
   "cell_type": "code",
   "execution_count": 13,
   "metadata": {},
   "outputs": [
    {
     "name": "stdout",
     "output_type": "stream",
     "text": [
      "영어 알파벳을 입력하세요 : e\n",
      "e은(는) 모음이다.\n"
     ]
    }
   ],
   "source": [
    "# Q3-4.py\n",
    "char = input('영어 알파벳을 입력하세요 : ')\n",
    "\n",
    "char2 = char.upper()\n",
    "\n",
    "if char2 == 'A' or char2 == 'E' or char2 == 'I' or char2 == 'O' or char2 == 'U' :\n",
    "    print('%s은(는) 모음이다.' % char)\n",
    "else :\n",
    "    print('%s은(는) 자음이다.' % char)"
   ]
  },
  {
   "cell_type": "code",
   "execution_count": 7,
   "metadata": {},
   "outputs": [
    {
     "name": "stdout",
     "output_type": "stream",
     "text": [
      "키를 입력해 주세요 : 175\n",
      "몸무게를 입력해 주세요 : 70\n",
      "------------------------------\n",
      "키 : 175cm\n",
      "몸무게 : 70kg\n",
      "딱 보기 좋습니다.\n",
      "------------------------------\n"
     ]
    }
   ],
   "source": [
    "# Q3-5.py\n",
    "height = int(input('키를 입력해 주세요 : '))\n",
    "weight = int(input('몸무게를 입력해 주세요 : '))\n",
    "\n",
    "a = (height - 100) * 0.9;  \n",
    "\n",
    "print('-' * 30)\n",
    "print('키 : %dcm' % height)\n",
    "print('몸무게 : %dkg' % weight)\n",
    "\n",
    "if weight > a:\n",
    "    print('딱 보기 좋습니다.')\n",
    "else :\n",
    "    print('표준(또는 마른) 체형입니다.')\n",
    "\n",
    "print('-' * 30)"
   ]
  },
  {
   "cell_type": "code",
   "execution_count": 1,
   "metadata": {},
   "outputs": [
    {
     "name": "stdout",
     "output_type": "stream",
     "text": [
      "물건 구매가를 입력하세요 : 60000\n",
      "구매가 : 60000원\n",
      "할인율 : 7.5%\n",
      "할인 금액 : 4500원\n",
      "지불 금액 : 55500원\n"
     ]
    }
   ],
   "source": [
    "# Q3-6.py\n",
    "buy = int(input('물건 구매가를 입력하세요 : ')) \n",
    "\n",
    "if buy >= 10000 and buy < 50000 : \n",
    "   rate = 5\n",
    "elif buy >= 50000 and buy < 300000 : \n",
    "   rate = 7.5 \n",
    "elif buy >= 300000 : \n",
    "   rate = 10\n",
    "else : \n",
    "   rate = 0 \n",
    "    \n",
    "discount = buy * rate / 100 \n",
    "pay = buy - discount \n",
    "\n",
    "print('구매가 : %.0f원' % buy) \n",
    "print('할인율 : %.1f%%' % rate) \n",
    "print('할인 금액 : %.0f원' % discount) \n",
    "print('지불 금액 : %.0f원' % pay)"
   ]
  },
  {
   "cell_type": "code",
   "execution_count": 17,
   "metadata": {},
   "outputs": [
    {
     "name": "stdout",
     "output_type": "stream",
     "text": [
      "첫 번째 정수를 입력하세요 : 34\n",
      "두 번째 정수를 입력하세요 : 33\n",
      "세 번째 정수를 입력하세요 : 27\n",
      "입력된 세 수 34, 33, 27 중에서 가장 큰 수는 34 입니다.\n"
     ]
    }
   ],
   "source": [
    "# Q3-7.py\n",
    "num1 = int(input('첫 번째 정수를 입력하세요 : ')) \n",
    "num2 = int(input('두 번째 정수를 입력하세요 : ')) \n",
    "num3 = int(input('세 번째 정수를 입력하세요 : ')) \n",
    "\n",
    "if (num1 >= num2) and (num1 >= num3): \n",
    "    largest = num1 \n",
    "elif (num2 >= num1) and (num2 >= num3): \n",
    "    largest = num2 \n",
    "else: \n",
    "    largest = num3 \n",
    "\n",
    "print('입력된 세 수 %d, %d, %d 중에서 가장 큰 수는 %d 입니다.' % (num1, num2, num3, largest))"
   ]
  },
  {
   "cell_type": "code",
   "execution_count": 18,
   "metadata": {},
   "outputs": [
    {
     "name": "stdout",
     "output_type": "stream",
     "text": [
      "서비스 만족도 :\n",
      "  1: 매우만족\n",
      "  2: 만족\n",
      "  3: 불만족\n",
      "서비스 만족도를 입력해주세요(예: 1 또는 2 또는 3) : 2\n",
      "음식값을 입력해 주세요(예:8000) : 9000\n",
      "\n",
      "서비스 만족도 : 만족, 팁 : 900원\n"
     ]
    }
   ],
   "source": [
    "# Q3-8.py\n",
    "print('서비스 만족도 :') \n",
    "print('  1: 매우만족') \n",
    "print('  2: 만족') \n",
    "print('  3: 불만족') \n",
    "a = input('서비스 만족도를 입력해주세요(예: 1 또는 2 또는 3) : ') \n",
    "\n",
    "price = int(input('음식값을 입력해 주세요(예:8000) : ')) \n",
    "\n",
    "if a == '1' : \n",
    "    tip = int(price * 0.2) \n",
    "    service = '매우 만족' \n",
    "elif a == '2' : \n",
    "    tip = int(price * 0.1) \n",
    "    service = '만족' \n",
    "else : \n",
    "    tip = int(price * 0.05) \n",
    "    service = '불만족' \n",
    "\n",
    "print()\n",
    "print('서비스 만족도 : %s, 팁 : %d원' % (service, tip))"
   ]
  },
  {
   "cell_type": "code",
   "execution_count": null,
   "metadata": {},
   "outputs": [],
   "source": []
  }
 ],
 "metadata": {
  "kernelspec": {
   "display_name": "Python 3",
   "language": "python",
   "name": "python3"
  },
  "language_info": {
   "codemirror_mode": {
    "name": "ipython",
    "version": 3
   },
   "file_extension": ".py",
   "mimetype": "text/x-python",
   "name": "python",
   "nbconvert_exporter": "python",
   "pygments_lexer": "ipython3",
   "version": "3.7.4"
  }
 },
 "nbformat": 4,
 "nbformat_minor": 2
}
