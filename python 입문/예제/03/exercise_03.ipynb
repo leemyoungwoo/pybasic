{
 "cells": [
  {
   "cell_type": "code",
   "execution_count": 25,
   "metadata": {},
   "outputs": [
    {
     "name": "stdout",
     "output_type": "stream",
     "text": [
      "False\n",
      "False\n",
      "False\n",
      "True\n",
      "False\n",
      "False\n",
      "True\n",
      "False\n",
      "True\n"
     ]
    }
   ],
   "source": [
    "# 연습문제 3-1\n",
    "a = 2\n",
    "b = 5\n",
    "c = -3\n",
    "print(a != 2)\n",
    "print(not(b >= a))\n",
    "print(c/2 > a*3)\n",
    "a = 3\n",
    "b = 7\n",
    "c = -4\n",
    "print(a != 2)\n",
    "print(not(b >= a))\n",
    "print(c/2 > a*3)\n",
    "a = -10\n",
    "b = 10\n",
    "c = -2\n",
    "print(a != 2)\n",
    "print(not(b >= a))\n",
    "print(c/2 > a*3)"
   ]
  },
  {
   "cell_type": "code",
   "execution_count": 19,
   "metadata": {},
   "outputs": [
    {
     "name": "stdout",
     "output_type": "stream",
     "text": [
      "False\n",
      "True\n",
      "True\n",
      "False\n",
      "False\n",
      "True\n"
     ]
    }
   ],
   "source": [
    "# 연습문제 3-2\n",
    "a = -5\n",
    "b = 3\n",
    "c = 2\n",
    "print(a > 2 or c > b and c > 2)\n",
    "print(not(a > 5 or b > c and c >= 3))\n",
    "a = 10\n",
    "b = 5\n",
    "c = 7\n",
    "print(a > 2 or c > b and c > 2)\n",
    "print(not(a > 5 or b > c and c >= 3))\n",
    "a = -3\n",
    "b = 10\n",
    "c = 2\n",
    "print(a > 2 or c > b and c > 2)\n",
    "print(not(a > 5 or b > c and c >= 3))"
   ]
  },
  {
   "cell_type": "code",
   "execution_count": 28,
   "metadata": {},
   "outputs": [
    {
     "name": "stdout",
     "output_type": "stream",
     "text": [
      "4\n"
     ]
    }
   ],
   "source": [
    "# 연습문제 3-3\n",
    "a = 2\n",
    "z = a * 5\n",
    "w = (z - 3) * (a -2) / 7 +10\n",
    "\n",
    "if a > z or w > a :\n",
    "    y = 2 * a\n",
    "else :\n",
    "    y = 4 * a\n",
    "    \n",
    "print(y)"
   ]
  },
  {
   "cell_type": "code",
   "execution_count": 3,
   "metadata": {},
   "outputs": [
    {
     "name": "stdout",
     "output_type": "stream",
     "text": [
      "단위를 입력하세요(1:섭씨, 2:화씨): 2\n",
      "온도를 입력하세요: 80\n",
      "물의 섭씨 온도 : 26.67, 상태 : 액체\n"
     ]
    }
   ],
   "source": [
    "# 연습문제 3-4\n",
    "unit = int(input('단위를 입력하세요(1:섭씨, 2:화씨): '))\n",
    "temp = int(input('온도를 입력하세요: '))\n",
    "\n",
    "if unit == 2 :\n",
    "   temp = (temp - 32) * 5 / 9\n",
    "\n",
    "if temp < 0 :\n",
    "    state = '고체'\n",
    "elif temp < 100 :\n",
    "    state = '액체'\n",
    "else :\n",
    "    state = '기체'\n",
    "\n",
    "print('물의 섭씨 온도 : %.2f, 상태 : %s' % (temp, state))"
   ]
  },
  {
   "cell_type": "code",
   "execution_count": 5,
   "metadata": {},
   "outputs": [
    {
     "name": "stdout",
     "output_type": "stream",
     "text": [
      "아이디를 입력하세요 : rubato\n",
      "회원 레벨을 입력해 주세요 : 3\n",
      "일부 콘텐츠 이용 가능\n"
     ]
    }
   ],
   "source": [
    "# 연습문제 3-5\n",
    "userid = input('아이디를 입력하세요 : ') \n",
    "\n",
    "if userid == 'admin' :\n",
    "    print('모든 콘텐츠 이용 가능')    \n",
    "else  :\n",
    "    level = int(input('회원 레벨을 입력해 주세요 : '))\n",
    "    \n",
    "    if  level>=2 and level<=7 :\n",
    "        print('일부 콘텐츠 이용 가능')\n",
    "    else  :\n",
    "        print('콘텐츠 이용 불가')"
   ]
  },
  {
   "cell_type": "code",
   "execution_count": 9,
   "metadata": {},
   "outputs": [
    {
     "name": "stdout",
     "output_type": "stream",
     "text": [
      "나이를 입력하세요 :6\n",
      "입장료는 1000원 입니다. \n"
     ]
    }
   ],
   "source": [
    "# 연습문제 3-6\n",
    "'''\n",
    "10세 이하는 입장료가 1000원입니다.\n",
    "65세 이상은 입장료가 무료입니다.\n",
    "기본 입장료는 2000원 입니다.\n",
    "'''\n",
    "ticket = 2000\n",
    "age = int(input('나이를 입력하세요 :'))\n",
    "\n",
    "if age >= 65 :\n",
    "    ticket = 0\n",
    "if age <= 10 :\n",
    "    ticket = 1000\n",
    "    \n",
    "print('입장료는 %d원 입니다. ' % ticket)"
   ]
  },
  {
   "cell_type": "code",
   "execution_count": 10,
   "metadata": {},
   "outputs": [
    {
     "name": "stdout",
     "output_type": "stream",
     "text": [
      "영어시험 점수를 입력하세요 : 85\n",
      "수학시험 점수를 입력하세요 : 75\n",
      "재시험 기회제공\n"
     ]
    }
   ],
   "source": [
    "# 연습문제 3-7\n",
    "\n",
    "'''\n",
    "영어시험과 수학시험이 있습니다.\n",
    "두 시험 모두 합격하려면 80점 이상을 받아야 합니다.\n",
    "두 시험을 모두 합격하지 못하면 탈락이며, 재시험의 기회가 없습니다.\n",
    "두 시험 중 한 시험만 통과하면 재시험의 기회가 주어집니다.\n",
    "두 시험 모두 합격하면 최종 합격입니다!\n",
    "\n",
    "'''\n",
    "eng = int(input('영어시험 점수를 입력하세요 : '))\n",
    "math = int(input('수학시험 점수를 입력하세요 : '))\n",
    "\n",
    "if eng >= 80 and math >= 80:\n",
    "    print('합격')\n",
    "elif eng >= 80 or math >= 80:\n",
    "    print('재시험 기회제공')\n",
    "else:\n",
    "    print('불합격')"
   ]
  },
  {
   "cell_type": "code",
   "execution_count": null,
   "metadata": {},
   "outputs": [],
   "source": []
  }
 ],
 "metadata": {
  "kernelspec": {
   "display_name": "Python 3",
   "language": "python",
   "name": "python3"
  },
  "language_info": {
   "codemirror_mode": {
    "name": "ipython",
    "version": 3
   },
   "file_extension": ".py",
   "mimetype": "text/x-python",
   "name": "python",
   "nbconvert_exporter": "python",
   "pygments_lexer": "ipython3",
   "version": "3.7.4"
  }
 },
 "nbformat": 4,
 "nbformat_minor": 2
}
