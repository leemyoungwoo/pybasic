{
 "cells": [
  {
   "cell_type": "code",
   "execution_count": 2,
   "metadata": {},
   "outputs": [
    {
     "name": "stdout",
     "output_type": "stream",
     "text": [
      "-72\n"
     ]
    }
   ],
   "source": [
    "# exer2-2.py\n",
    "a = 7\n",
    "b = 10\n",
    "\n",
    "c = a + b * 2\n",
    "c %= 5\n",
    "c **= 3\n",
    "c -= c * 10\n",
    "\n",
    "print(c)"
   ]
  },
  {
   "cell_type": "code",
   "execution_count": null,
   "metadata": {},
   "outputs": [],
   "source": []
  },
  {
   "cell_type": "code",
   "execution_count": 1,
   "metadata": {},
   "outputs": [
    {
     "name": "stdout",
     "output_type": "stream",
     "text": [
      "반지름을 입력하세요 : 10\n",
      "반지름 : 10 cm\n",
      "원의 둘레 : 62.80 cm\n",
      "원의 면적 : 314.00 cm2\n"
     ]
    }
   ],
   "source": [
    "# exer2-3.py\n",
    "r = int(input('반지름을 입력하세요 : '))\n",
    "\n",
    "length = 2 * 3.14 * r\n",
    "area = r * r * 3.14\n",
    "\n",
    "print('반지름 : %d cm' % r)\n",
    "print('원의 둘레 : %.2f cm' % length)\n",
    "print('원의 면적 : %.2f cm2' % area)"
   ]
  },
  {
   "cell_type": "code",
   "execution_count": 3,
   "metadata": {},
   "outputs": [
    {
     "name": "stdout",
     "output_type": "stream",
     "text": [
      "책 값을 입력하세요 : 3000\n",
      "할인율을 입력하세요(%) : 20\n",
      "배송료를 입력하세요 : 3000\n",
      "결제 금액 : 5400원\n"
     ]
    }
   ],
   "source": [
    "# exer2-4.py\n",
    "book_price = int(input('책 값을 입력하세요 : '))\n",
    "discount = float(input('할인율을 입력하세요(%) : '))\n",
    "shipping = int(input('배송료를 입력하세요 : '))\n",
    "\n",
    "total_price = book_price - (book_price * discount/100) + shipping\n",
    "\n",
    "print(\"결제 금액 : %.0f원\" % total_price)\n"
   ]
  },
  {
   "cell_type": "code",
   "execution_count": 1,
   "metadata": {},
   "outputs": [
    {
     "name": "stdout",
     "output_type": "stream",
     "text": [
      "이름을 입력하세요 : 안지영\n",
      "현재년을 입력하세요 : 2020\n",
      "탄생년을 입력하세요 : 1997\n",
      "안지영님의 나이는 24세 입니다!\n"
     ]
    }
   ],
   "source": [
    "# exer2-5.py\n",
    "name = input('이름을 입력하세요 : ') \n",
    "current = int(input('현재년을 입력하세요 : '))\n",
    "birth = int(input('탄생년을 입력하세요 : ')) \n",
    "\n",
    "age = current - birth + 1; \n",
    "print('%s님의 나이는 %d세 입니다!' % (name, age)) "
   ]
  },
  {
   "cell_type": "code",
   "execution_count": 4,
   "metadata": {},
   "outputs": [
    {
     "name": "stdout",
     "output_type": "stream",
     "text": [
      "년을 입력하세요 : 2020\n",
      "월을 입력하세요 : 1\n",
      "일을 입력하세요 : 5\n",
      "2020-01-05\n"
     ]
    }
   ],
   "source": [
    "# exer2-6.py\n",
    "year = int(input('연을 입력하세요 : '))\n",
    "month = int(input('월을 입력하세요 : '))\n",
    "day = int(input('일을 입력하세요 : '))\n",
    "\n",
    "print('%d-%02d-%02d' % (year, month, day))"
   ]
  },
  {
   "cell_type": "code",
   "execution_count": null,
   "metadata": {},
   "outputs": [],
   "source": []
  }
 ],
 "metadata": {
  "kernelspec": {
   "display_name": "Python 3",
   "language": "python",
   "name": "python3"
  },
  "language_info": {
   "codemirror_mode": {
    "name": "ipython",
    "version": 3
   },
   "file_extension": ".py",
   "mimetype": "text/x-python",
   "name": "python",
   "nbconvert_exporter": "python",
   "pygments_lexer": "ipython3",
   "version": "3.7.4"
  }
 },
 "nbformat": 4,
 "nbformat_minor": 2
}
