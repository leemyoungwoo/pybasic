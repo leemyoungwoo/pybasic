{
 "cells": [
  {
   "cell_type": "code",
   "execution_count": 6,
   "metadata": {},
   "outputs": [
    {
     "name": "stdout",
     "output_type": "stream",
     "text": [
      "abcde\n"
     ]
    }
   ],
   "source": [
    "# 연습문제 9-1\n",
    "class TestClass1 :\n",
    "    strings = 'abcde'\n",
    "\n",
    "print(TestClass.strings)\n"
   ]
  },
  {
   "cell_type": "code",
   "execution_count": 15,
   "metadata": {},
   "outputs": [
    {
     "name": "stdout",
     "output_type": "stream",
     "text": [
      "이름:홍길동\n",
      "이름:test@korea.com\n"
     ]
    }
   ],
   "source": [
    "# 연습문제 9-2\n",
    "class TestClass2 :\n",
    "    def __init__(self, name, email) :\n",
    "        self.name = name\n",
    "        self.email = email\n",
    "        \n",
    "obj1 = TestClass2('홍길동', 'test@korea.com')  \n",
    "\n",
    "print('이름:%s' % obj1.name)\n",
    "print('이름:%s' % obj1.email)"
   ]
  },
  {
   "cell_type": "code",
   "execution_count": 16,
   "metadata": {},
   "outputs": [
    {
     "name": "stdout",
     "output_type": "stream",
     "text": [
      "이름:홍길동\n",
      "이메일:test@korea.com\n"
     ]
    }
   ],
   "source": [
    "# 연습문제 9-3\n",
    "class TestClass2 :\n",
    "    def __init__(self, name, email) :\n",
    "        self.name = name\n",
    "        self.email = email\n",
    "\n",
    "    def printInfo(self) :\n",
    "        print('이름:%s' % self.name)\n",
    "        print('이메일:%s' % self.email)\n",
    "        \n",
    "obj1 = TestClass2('홍길동', 'test@korea.com')        \n",
    "obj1.printInfo()\n"
   ]
  },
  {
   "cell_type": "code",
   "execution_count": 18,
   "metadata": {},
   "outputs": [
    {
     "name": "stdout",
     "output_type": "stream",
     "text": [
      "이름:홍길동\n",
      "전화번호:010-1234-5678\n",
      "주소:성남시\n"
     ]
    }
   ],
   "source": [
    "# 연습문제 9-4\n",
    "class Member :\n",
    "    def __init__(self, name, phone, address) :\n",
    "        self.name = name\n",
    "        self.phone = phone\n",
    "        self.address = address\n",
    "        \n",
    "obj1 = Member('홍길동', '010-1234-5678', '성남시')        \n",
    "print('이름:%s' % obj1.name)\n",
    "print('전화번호:%s' % obj1.phone)\n",
    "print('주소:%s' % obj1.address)"
   ]
  },
  {
   "cell_type": "code",
   "execution_count": 20,
   "metadata": {},
   "outputs": [
    {
     "name": "stdout",
     "output_type": "stream",
     "text": [
      "이름:홍길동\n",
      "전화번호:010-1234-5678\n",
      "주소:성남시\n"
     ]
    }
   ],
   "source": [
    "# 연습문제 9-5\n",
    "class Member :\n",
    "    def __init__(self, info) :\n",
    "        self.name = info['name']\n",
    "        self.phone = info['phone']\n",
    "        self.address = info['address']\n",
    "\n",
    "dict = {'name':'홍길동', 'phone':'010-1234-5678', 'address':'성남시'}\n",
    "obj1 = Member(dict)        \n",
    "print('이름:%s' % obj1.name)\n",
    "print('전화번호:%s' % obj1.phone)\n",
    "print('주소:%s' % obj1.address)"
   ]
  },
  {
   "cell_type": "code",
   "execution_count": 30,
   "metadata": {},
   "outputs": [
    {
     "name": "stdout",
     "output_type": "stream",
     "text": [
      "저자:홍길동\n",
      "출판사:지구출판사\n",
      "유형:PDF\n"
     ]
    }
   ],
   "source": [
    "# 연습문제 9-6\n",
    "class Book :\n",
    "    def __init__(self, author, publish) :\n",
    "        self.author = author\n",
    "        self.publish = publish\n",
    "    \n",
    "    def getAuthorInfo(self) :\n",
    "        string = '저자:%s' % self.author\n",
    "        return string\n",
    "\n",
    "    def getPublishInfo(self) :\n",
    "        string = '출판사:%s' % self.publish\n",
    "        return string\n",
    "\n",
    "class Ebook(Book) :\n",
    "    def __init__(self, author, publish, type) :\n",
    "        super().__init__(author, publish)\n",
    "        self.type = type\n",
    "\n",
    "    def getTypeInfo(self) :\n",
    "        string = '유형:%s' % self.type\n",
    "        return string\n",
    "    \n",
    "book1 = Ebook('홍길동', '지구출판사', 'PDF')\n",
    "\n",
    "print(book1.getAuthorInfo())\n",
    "print(book1.getPublishInfo())\n",
    "print(book1.getTypeInfo())"
   ]
  },
  {
   "cell_type": "code",
   "execution_count": 1,
   "metadata": {},
   "outputs": [
    {
     "name": "stdout",
     "output_type": "stream",
     "text": [
      "저자:홍길동\n",
      "출판사:지구출판사\n",
      "유형:PDF\n"
     ]
    }
   ],
   "source": [
    "class Book :\n",
    "    def __init__(self, author, publish) :\n",
    "        self.author = author\n",
    "        self.publish = publish\n",
    "    \n",
    "    def getAuthorInfo(self) :\n",
    "        string = '저자:%s' % self.author\n",
    "        return string\n",
    "\n",
    "    def getPublishInfo(self) :\n",
    "        string = '출판사:%s' % self.publish\n",
    "        return string\n",
    "\n",
    "class Ebook(Book) :\n",
    "    def __init__(self, author, publish, type) :\n",
    "        super().__init__(author, publish)\n",
    "        self.type = type\n",
    "\n",
    "    def getTypeInfo(self) :\n",
    "        string = '유형:%s' % self.type\n",
    "        return string\n",
    "    \n",
    "book1 = Ebook('홍길동', '지구출판사', 'PDF')\n",
    "\n",
    "print(book1.getAuthorInfo())\n",
    "print(book1.getPublishInfo())\n",
    "print(book1.getTypeInfo())\n"
   ]
  },
  {
   "cell_type": "code",
   "execution_count": null,
   "metadata": {},
   "outputs": [],
   "source": []
  }
 ],
 "metadata": {
  "kernelspec": {
   "display_name": "Python 3",
   "language": "python",
   "name": "python3"
  },
  "language_info": {
   "codemirror_mode": {
    "name": "ipython",
    "version": 3
   },
   "file_extension": ".py",
   "mimetype": "text/x-python",
   "name": "python",
   "nbconvert_exporter": "python",
   "pygments_lexer": "ipython3",
   "version": "3.7.4"
  }
 },
 "nbformat": 4,
 "nbformat_minor": 2
}
