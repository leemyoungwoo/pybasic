{
 "cells": [
  {
   "cell_type": "code",
   "execution_count": 5,
   "metadata": {},
   "outputs": [
    {
     "name": "stdout",
     "output_type": "stream",
     "text": [
      "반지름: 10\n",
      "원의 면적 : 314.16\n",
      "원주의 길이 : 62.83\n"
     ]
    }
   ],
   "source": [
    "# Q9-1.py\n",
    "import math\n",
    "\n",
    "class Circle :\n",
    "    def __init__(self, radius) :\n",
    "        self.radius = radius\n",
    "    \n",
    "    def getArea(self) :\n",
    "        area = math.pi * self.radius * self.radius\n",
    "        return area\n",
    "\n",
    "    def getCircum(self) :\n",
    "        circum = 2 * 3.141592 * self.radius\n",
    "        return circum\n",
    "        \n",
    "cir = Circle(10)\n",
    "\n",
    "print('반지름: %d' % cir.radius)\n",
    "print('원의 면적 : %.2f' % cir.getArea())\n",
    "print('원주의 길이 : %.2f' % cir.getCircum())"
   ]
  },
  {
   "cell_type": "code",
   "execution_count": 18,
   "metadata": {},
   "outputs": [
    {
     "name": "stdout",
     "output_type": "stream",
     "text": [
      "- 3과목 합계와 평균\n",
      "이름 : 김성윤\n",
      "국어 : 85, 영어 : 90, 수학 : 83\n",
      "합계 : 258, 평균 : 86.0\n"
     ]
    }
   ],
   "source": [
    "# Q9-2.py\n",
    "class SumAvg :\n",
    "    title = '- 3과목 합계와 평균'\n",
    "    def __init__(self, name, kor, eng, math) : \n",
    "        self.name = name\n",
    "        self.kor = kor\n",
    "        self.eng = eng\n",
    "        self.math = math\n",
    "    \n",
    "    def getSum(self) :\n",
    "        sum = self.kor + self.eng + self.math\n",
    "        return sum\n",
    "\n",
    "s1 = SumAvg('김성윤', 85, 90, 83)\n",
    "\n",
    "print(SumAvg.title)\n",
    "print('이름 : %s' % s1.name)\n",
    "print('국어 : %d, 영어 : %d, 수학 : %d' % (s1.kor, s1.eng, s1.math))\n",
    "print('합계 : %d, 평균 : %.1f' % (s1.getSum(), s1.getSum()/3))"
   ]
  },
  {
   "cell_type": "code",
   "execution_count": 21,
   "metadata": {},
   "outputs": [
    {
     "name": "stdout",
     "output_type": "stream",
     "text": [
      "첫번째 수를 입력하세요 : 10\n",
      "두번째 수를 입력하세요 : 20\n",
      "10 - 20 = -10\n",
      "10 / 20 = 0.5\n"
     ]
    }
   ],
   "source": [
    "# Q9-3.py\n",
    "class Calculator :\n",
    "    def __init__(self, num1, num2) :\n",
    "        self.num1 = num1\n",
    "        self.num2 = num2\n",
    "    \n",
    "    def add(self) :\n",
    "        return self.num1 + self.num2\n",
    "    def sub(self) :\n",
    "        return self.num1 - self.num2\n",
    "    def mul(self) :\n",
    "        return self.num1 * self.num2\n",
    "    def div(self) :\n",
    "        return self.num1 / self.num2\n",
    "\n",
    "a = int(input('첫번째 수를 입력하세요 : '))\n",
    "b = int(input('두번째 수를 입력하세요 : '))\n",
    "\n",
    "cal1 = Calculator(a, b)\n",
    "print('%d - %d = %d' % (a, b, cal1.sub()))\n",
    "print('%d / %d = %.1f' % (a, b, cal1.div()))"
   ]
  },
  {
   "cell_type": "code",
   "execution_count": 5,
   "metadata": {},
   "outputs": [
    {
     "name": "stdout",
     "output_type": "stream",
     "text": [
      "성명 : 김지혜\n",
      "이메일 : rubato@hanmail.net\n",
      "전화번호 : 010-1234-4567\n"
     ]
    }
   ],
   "source": [
    "# Q9-4.py\n",
    "class Person :\n",
    "    def __init__(self, info) :\n",
    "        self.info = info\n",
    "    \n",
    "    def getName(self) :\n",
    "        return self.info[0]\n",
    "\n",
    "    def getEmail(self) :\n",
    "        return self.info[1]\n",
    "    \n",
    "    def getPhoneNum(self) :\n",
    "        return self.info[2]\n",
    "\n",
    "info = ['김지혜', 'rubato@hanmail.net', '010-1234-4567']\n",
    "person = Person(info)\n",
    "\n",
    "print('성명 : %s' % person.getName())\n",
    "print('이메일 : %s' % person.getEmail())\n",
    "print('전화번호 : %s' % person.getPhoneNum())"
   ]
  },
  {
   "cell_type": "code",
   "execution_count": 12,
   "metadata": {},
   "outputs": [
    {
     "name": "stdout",
     "output_type": "stream",
     "text": [
      "역순 : !snoipmahc eht era eW\n",
      "하이픈(-) 삽입 : We-are-the-champions!\n"
     ]
    }
   ],
   "source": [
    "# Q9-5.py\n",
    "class EngSentence :\n",
    "    def __init__(self, sentence) :\n",
    "        self.sentence = sentence\n",
    "        self.length = len(self.sentence)\n",
    "    \n",
    "    def reverse(self) :\n",
    "        tmp = ''\n",
    "        for i in range(self.length) :\n",
    "            tmp += (self.sentence[self.length-1 -i])\n",
    "        return tmp\n",
    "    \n",
    "    def insertHypen(self) :\n",
    "        tmp = ''\n",
    "        for i in range(self.length) :\n",
    "            if self.sentence[i] == ' ' :\n",
    "                tmp += '-'\n",
    "            else :\n",
    "                tmp += self.sentence[i]\n",
    "        return tmp\n",
    "        \n",
    "a = 'We are the champions!'\n",
    "eng1 = EngSentence(a)\n",
    "print('역순 : %s' % eng1.reverse())\n",
    "print('하이픈(-) 삽입 : %s' % eng1.insertHypen())"
   ]
  },
  {
   "cell_type": "code",
   "execution_count": null,
   "metadata": {},
   "outputs": [],
   "source": []
  }
 ],
 "metadata": {
  "kernelspec": {
   "display_name": "Python 3",
   "language": "python",
   "name": "python3"
  },
  "language_info": {
   "codemirror_mode": {
    "name": "ipython",
    "version": 3
   },
   "file_extension": ".py",
   "mimetype": "text/x-python",
   "name": "python",
   "nbconvert_exporter": "python",
   "pygments_lexer": "ipython3",
   "version": "3.7.4"
  }
 },
 "nbformat": 4,
 "nbformat_minor": 2
}
