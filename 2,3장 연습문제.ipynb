{
 "cells": [
  {
   "cell_type": "markdown",
   "metadata": {},
   "source": [
    "# 2,3장 연습문제 풀이"
   ]
  },
  {
   "cell_type": "code",
   "execution_count": 13,
   "metadata": {},
   "outputs": [],
   "source": [
    "# 2장 1번 문제\n",
    "\n",
    "#(1)숫자 : 파이썬에서 사용하는 숫자에서 정수로 구성된 정수형과 소수점이 있는 실수형 숫자가 있다.정수형 숫자는 음수, 0, 양수로 구성된 정수를 의미, 실수형 숫자는 소수점이 존재하는 숫자를 말한다.\n",
    "#(2)문자열 : 하나 또는 다수의 문자로 구성된 데이터형을 말한다. 문자열을 사용할 때는 숫자와는 달리 다음과 같이 해당 문자열 앞 뒤에 단따옴표('')와 쌍따옴표(\"\")를 붙여야 한다.\n"
   ]
  },
  {
   "cell_type": "code",
   "execution_count": 5,
   "metadata": {},
   "outputs": [
    {
     "name": "stdout",
     "output_type": "stream",
     "text": [
      "-72\n"
     ]
    }
   ],
   "source": [
    "# 2번 문제\n",
    "\n",
    "a = 7\n",
    "b = 10\n",
    "\n",
    "c = a+b*2\n",
    "c %= 5\n",
    "c **= 3\n",
    "c-= c*10\n",
    "\n",
    "print(c)"
   ]
  },
  {
   "cell_type": "code",
   "execution_count": 30,
   "metadata": {},
   "outputs": [
    {
     "name": "stdout",
     "output_type": "stream",
     "text": [
      "반지름을 입력하세요 :10\n",
      "반지름 : 10 cm\n",
      "원의 둘레 : 62.80cm\n",
      "원의 면적 : 314.00 cm2\n"
     ]
    }
   ],
   "source": [
    "# 3번 문제\n",
    "\n",
    "rad = int(input('반지름을 입력하세요 :'))\n",
    "\n",
    "cir= 2*3.14*rad\n",
    "\n",
    "area = 3.14*rad**2\n",
    "\n",
    "print('반지름 : %d' % rad, 'cm')\n",
    "\n",
    "print('원의 둘레 : %.2fcm'% cir)\n",
    "\n",
    "print('원의 면적 : %.2f'% area,'cm2')\n"
   ]
  },
  {
   "cell_type": "code",
   "execution_count": 32,
   "metadata": {},
   "outputs": [
    {
     "name": "stdout",
     "output_type": "stream",
     "text": [
      "책 값을 입력하세요 :15000\n",
      "할인율을 입력하세요(%) : 15\n",
      "배송료를 입력하세요 : 3000\n",
      "결제 금액 : 15750원\n"
     ]
    }
   ],
   "source": [
    "# 4번 문제 \n",
    "\n",
    "book_price = int(input('책 값을 입력하세요 :'))\n",
    "\n",
    "book_discount_rate = int(input('할인율을 입력하세요(%) : '))\n",
    "\n",
    "delivery_fee = int(input('배송료를 입력하세요 : '))\n",
    "\n",
    "pay = book_price - (book_price*book_discount_rate/100)+delivery_fee\n",
    "\n",
    "print('결제 금액 : %d원'%d)"
   ]
  },
  {
   "cell_type": "code",
   "execution_count": 33,
   "metadata": {},
   "outputs": [
    {
     "name": "stdout",
     "output_type": "stream",
     "text": [
      "이름을 입력하세요 : 이명우\n",
      "현재년을 입력하세요 : 2020\n",
      "탄생년을 입력하세요 : 1987\n",
      "이명우님의 나이는 34세 입니다!\n"
     ]
    }
   ],
   "source": [
    "# 5번 문제\n",
    "\n",
    "name = str(input('이름을 입력하세요 : '))\n",
    "\n",
    "current_year = int(input('현재년을 입력하세요 : '))\n",
    "\n",
    "birth_year = int(input('탄생년을 입력하세요 : '))\n",
    "\n",
    "age = current_year - int(birth_year) + 1\n",
    "\n",
    "print('%s님의 나이는 %d세 입니다!'%(name,age))"
   ]
  },
  {
   "cell_type": "code",
   "execution_count": 39,
   "metadata": {},
   "outputs": [
    {
     "name": "stdout",
     "output_type": "stream",
     "text": [
      "연을 입력하세요 : 2020\n",
      "월을 입력하세요 : 1\n",
      "일을 입력하세요 : 5\n",
      "2020-01-05\n"
     ]
    }
   ],
   "source": [
    "# 6번 문제\n",
    "\n",
    "year = int(input('연을 입력하세요 : '))\n",
    "\n",
    "month = int(input('월을 입력하세요 : '))\n",
    "\n",
    "day = int(input('일을 입력하세요 : '))\n",
    "\n",
    "print('%4d'%year,'%02d'%month,'%02d'%day,sep = '-')"
   ]
  },
  {
   "cell_type": "code",
   "execution_count": 16,
   "metadata": {},
   "outputs": [],
   "source": [
    "# 3장 1번 문제\n",
    "\n",
    "# False False False\n",
    "# True False False\n",
    "# True True True\n"
   ]
  },
  {
   "cell_type": "code",
   "execution_count": 17,
   "metadata": {},
   "outputs": [],
   "source": [
    "# 2번 문제\n",
    "\n",
    "# False True\n",
    "# True False\n",
    "# False True"
   ]
  },
  {
   "cell_type": "code",
   "execution_count": 40,
   "metadata": {},
   "outputs": [
    {
     "name": "stdout",
     "output_type": "stream",
     "text": [
      "4\n"
     ]
    }
   ],
   "source": [
    "# 3번 문제\n",
    "\n",
    "a = 2\n",
    "\n",
    "z = a*5\n",
    "\n",
    "w = (z-3)*(a-2)/7+10\n",
    "\n",
    "if a>z or w>a :\n",
    "    y = 2*a\n",
    "\n",
    "else :\n",
    "    y = 4*a\n",
    "    \n",
    "print(y)"
   ]
  },
  {
   "cell_type": "code",
   "execution_count": 41,
   "metadata": {},
   "outputs": [
    {
     "name": "stdout",
     "output_type": "stream",
     "text": [
      "단위를 입력하세요(1:섭씨, 2:화씨):2\n",
      "온도를 입력하세요 : 80\n",
      "물의 섭씨 온도 : 26.67 상태 : 액체\n"
     ]
    }
   ],
   "source": [
    "# 4번 문제\n",
    "\n",
    "unit = int(input('단위를 입력하세요(1:섭씨, 2:화씨):'))\n",
    "\n",
    "fah = int(input('온도를 입력하세요 : '))\n",
    "\n",
    "if unit == 2 :\n",
    "    cel = (fah-32)*5/9\n",
    "if x>0 and x<100 :\n",
    "    phase = '액체'\n",
    "    \n",
    "elif x<0 :\n",
    "    phase = '고체'\n",
    "    \n",
    "else:\n",
    "    phase = '기체'\n",
    "    \n",
    "print('물의 섭씨 온도 : %.2f 상태 : %s'%(cel,phase))"
   ]
  },
  {
   "cell_type": "code",
   "execution_count": 42,
   "metadata": {},
   "outputs": [
    {
     "name": "stdout",
     "output_type": "stream",
     "text": [
      "아이디를 입력하세요 :rubato\n",
      "회원 레벨을 입력해 주세요 :3\n",
      "일부 콘텐츠 이용 가능\n"
     ]
    }
   ],
   "source": [
    "# 5번 문제\n",
    "\n",
    "user = input('아이디를 입력하세요 :')\n",
    "\n",
    "if user == 'admin' :\n",
    "    print('모든 콘텐츠 이용 가능')\n",
    "    \n",
    "else :\n",
    "    level = int(input('회원 레벨을 입력해 주세요 :'))\n",
    "    if level >=2 and level <=7 :\n",
    "        print('일부 콘텐츠 이용 가능')\n",
    "    else :\n",
    "        print('콘텐츠 이용 불가')\n",
    "\n",
    "\n"
   ]
  },
  {
   "cell_type": "code",
   "execution_count": 43,
   "metadata": {},
   "outputs": [
    {
     "name": "stdout",
     "output_type": "stream",
     "text": [
      "나이를 입력하세요 : 10\n",
      "입장료는 1000원 입니다.\n"
     ]
    }
   ],
   "source": [
    "# 6번 문제\n",
    "\n",
    "age = int(input('나이를 입력하세요 : '))\n",
    "\n",
    "if age<=10 :\n",
    "    pay = 1000\n",
    "\n",
    "elif age>=65 :\n",
    "    pay = 0\n",
    "    \n",
    "else :\n",
    "    pay = 2000\n",
    "    \n",
    "print('입장료는 %d원 입니다.'%(pay))"
   ]
  },
  {
   "cell_type": "code",
   "execution_count": 44,
   "metadata": {},
   "outputs": [
    {
     "name": "stdout",
     "output_type": "stream",
     "text": [
      "영어시험 점수를 입력하세요 : 85\n",
      "수학시험 점수를 입력하세요 : 75\n",
      "재시험 기회제공\n"
     ]
    }
   ],
   "source": [
    "# 7번 문제\n",
    "\n",
    "eng = int(input('영어시험 점수를 입력하세요 : '))\n",
    " \n",
    "math = int(input('수학시험 점수를 입력하세요 : '))\n",
    "\n",
    "if eng >=80 and math>=80 :\n",
    "    print('합격')\n",
    "\n",
    "elif eng<80 and math<80 :\n",
    "    print('불합격')\n",
    "    \n",
    "elif eng>=80 or math>=80 :\n",
    "    print('재시험 기회제공')"
   ]
  }
 ],
 "metadata": {
  "kernelspec": {
   "display_name": "Python 3",
   "language": "python",
   "name": "python3"
  },
  "language_info": {
   "codemirror_mode": {
    "name": "ipython",
    "version": 3
   },
   "file_extension": ".py",
   "mimetype": "text/x-python",
   "name": "python",
   "nbconvert_exporter": "python",
   "pygments_lexer": "ipython3",
   "version": "3.7.6"
  }
 },
 "nbformat": 4,
 "nbformat_minor": 4
}
