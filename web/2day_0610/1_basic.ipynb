{
 "cells": [
  {
   "cell_type": "markdown",
   "metadata": {},
   "source": [
    "# Web Crawling"
   ]
  },
  {
   "cell_type": "code",
   "execution_count": 3,
   "metadata": {},
   "outputs": [],
   "source": [
    "from bs4 import BeautifulSoup"
   ]
  },
  {
   "cell_type": "code",
   "execution_count": 27,
   "metadata": {},
   "outputs": [],
   "source": [
    "with open(\"ex_1.html\") as fp:\n",
    "    soup = BeautifulSoup(fp,'html.parser')"
   ]
  },
  {
   "cell_type": "code",
   "execution_count": 28,
   "metadata": {},
   "outputs": [],
   "source": [
    "#위 코드와 동일\n",
    "\n",
    "fp = open(\"ex_1.html\")\n",
    "soup = BeautifulSoup(fp,'html.parser')\n",
    "fp.close()"
   ]
  },
  {
   "cell_type": "code",
   "execution_count": 29,
   "metadata": {},
   "outputs": [
    {
     "data": {
      "text/plain": [
       "<!DOCTYPE html>\n",
       "\n",
       "<html>\n",
       "<head>\n",
       "<title>Web Crawling Example</title>\n",
       "<meta charset=\"utf-8\"/>\n",
       "</head>\n",
       "<body>\n",
       "<div>\n",
       "<p>a</p>\n",
       "<p>b</p>\n",
       "<p>c</p>\n",
       "</div>\n",
       "<div class=\"ex_class\">\n",
       "<p>1</p>\n",
       "<p>2</p>\n",
       "<p>3</p>\n",
       "</div>\n",
       "<div id=\"ex_id\">\n",
       "<p>X</p>\n",
       "<p>Y</p>\n",
       "<p>Z</p>\n",
       "</div>\n",
       "<h1>This is a heading.</h1>\n",
       "<p>This is a paragraph.</p>\n",
       "<p>This is another paragraph.</p>\n",
       "<a class=\"a\" href=\"https://www.naver.com\">\n",
       "        Naver</a>\n",
       "</body>\n",
       "</html>"
      ]
     },
     "execution_count": 29,
     "metadata": {},
     "output_type": "execute_result"
    }
   ],
   "source": [
    "soup"
   ]
  },
  {
   "cell_type": "code",
   "execution_count": 30,
   "metadata": {},
   "outputs": [
    {
     "data": {
      "text/plain": [
       "[<div>\n",
       " <p>a</p>\n",
       " <p>b</p>\n",
       " <p>c</p>\n",
       " </div>,\n",
       " <div class=\"ex_class\">\n",
       " <p>1</p>\n",
       " <p>2</p>\n",
       " <p>3</p>\n",
       " </div>,\n",
       " <div id=\"ex_id\">\n",
       " <p>X</p>\n",
       " <p>Y</p>\n",
       " <p>Z</p>\n",
       " </div>]"
      ]
     },
     "execution_count": 30,
     "metadata": {},
     "output_type": "execute_result"
    }
   ],
   "source": [
    "s1 = soup.find_all(\"div\")\n",
    "s1"
   ]
  },
  {
   "cell_type": "code",
   "execution_count": 31,
   "metadata": {},
   "outputs": [
    {
     "data": {
      "text/plain": [
       "<div>\n",
       "<p>a</p>\n",
       "<p>b</p>\n",
       "<p>c</p>\n",
       "</div>"
      ]
     },
     "execution_count": 31,
     "metadata": {},
     "output_type": "execute_result"
    }
   ],
   "source": [
    "s1[0]"
   ]
  },
  {
   "cell_type": "code",
   "execution_count": 32,
   "metadata": {},
   "outputs": [
    {
     "data": {
      "text/plain": [
       "<div id=\"ex_id\">\n",
       "<p>X</p>\n",
       "<p>Y</p>\n",
       "<p>Z</p>\n",
       "</div>"
      ]
     },
     "execution_count": 32,
     "metadata": {},
     "output_type": "execute_result"
    }
   ],
   "source": [
    "s1[2]"
   ]
  },
  {
   "cell_type": "code",
   "execution_count": 35,
   "metadata": {},
   "outputs": [
    {
     "name": "stdout",
     "output_type": "stream",
     "text": [
      "[<p>a</p>, <p>b</p>, <p>c</p>, <p>1</p>, <p>2</p>, <p>3</p>, <p>X</p>, <p>Y</p>, <p>Z</p>, <p>This is a paragraph.</p>, <p>This is another paragraph.</p>]\n"
     ]
    }
   ],
   "source": [
    "all_divs = soup.find_all(\"p\")\n",
    "\n",
    "print(all_divs)"
   ]
  },
  {
   "cell_type": "code",
   "execution_count": 36,
   "metadata": {},
   "outputs": [
    {
     "data": {
      "text/plain": [
       "<div class=\"ex_class\">\n",
       "<p>1</p>\n",
       "<p>2</p>\n",
       "<p>3</p>\n",
       "</div>"
      ]
     },
     "execution_count": 36,
     "metadata": {},
     "output_type": "execute_result"
    }
   ],
   "source": [
    "result = soup.find('div', {'class':'ex_class'})\n",
    "result"
   ]
  },
  {
   "cell_type": "code",
   "execution_count": 38,
   "metadata": {},
   "outputs": [
    {
     "data": {
      "text/plain": [
       "<div class=\"ex_class\">\n",
       "<p>1</p>\n",
       "<p>2</p>\n",
       "<p>3</p>\n",
       "</div>"
      ]
     },
     "execution_count": 38,
     "metadata": {},
     "output_type": "execute_result"
    }
   ],
   "source": [
    "result = soup.find('div',class_='ex_class')\n",
    "result"
   ]
  },
  {
   "cell_type": "code",
   "execution_count": 44,
   "metadata": {
    "scrolled": true
   },
   "outputs": [
    {
     "data": {
      "text/plain": [
       "<div id=\"ex_id\">\n",
       "<p>X</p>\n",
       "<p>Y</p>\n",
       "<p>Z</p>\n",
       "</div>"
      ]
     },
     "execution_count": 44,
     "metadata": {},
     "output_type": "execute_result"
    }
   ],
   "source": [
    "soup.find(\"div\", {\"id\":\"ex_id\"})"
   ]
  },
  {
   "cell_type": "code",
   "execution_count": 57,
   "metadata": {},
   "outputs": [
    {
     "data": {
      "text/plain": [
       "[<p>a</p>,\n",
       " <p>b</p>,\n",
       " <p>c</p>,\n",
       " <p>1</p>,\n",
       " <p>2</p>,\n",
       " <p>3</p>,\n",
       " <p>X</p>,\n",
       " <p>Y</p>,\n",
       " <p>Z</p>,\n",
       " <p>This is a paragraph.</p>,\n",
       " <p>This is another paragraph.</p>]"
      ]
     },
     "execution_count": 57,
     "metadata": {},
     "output_type": "execute_result"
    }
   ],
   "source": [
    "all_ps = soup.find_all(\"p\")\n",
    "all_ps"
   ]
  },
  {
   "cell_type": "code",
   "execution_count": 58,
   "metadata": {},
   "outputs": [
    {
     "data": {
      "text/plain": [
       "<p>a</p>"
      ]
     },
     "execution_count": 58,
     "metadata": {},
     "output_type": "execute_result"
    }
   ],
   "source": [
    "all_ps[0]"
   ]
  },
  {
   "cell_type": "code",
   "execution_count": 47,
   "metadata": {},
   "outputs": [
    {
     "data": {
      "text/plain": [
       "[<p>X</p>, <p>Y</p>, <p>Z</p>]"
      ]
     },
     "execution_count": 47,
     "metadata": {},
     "output_type": "execute_result"
    }
   ],
   "source": [
    "all_ps_in_ex_id_divs = ex_id_divs.find_all(\"p\")\n",
    "all_ps_in_ex_id_divs"
   ]
  },
  {
   "cell_type": "code",
   "execution_count": 59,
   "metadata": {},
   "outputs": [
    {
     "data": {
      "text/plain": [
       "'a'"
      ]
     },
     "execution_count": 59,
     "metadata": {},
     "output_type": "execute_result"
    }
   ],
   "source": [
    "all_ps[0].get_text()"
   ]
  },
  {
   "cell_type": "code",
   "execution_count": 61,
   "metadata": {},
   "outputs": [
    {
     "name": "stdout",
     "output_type": "stream",
     "text": [
      "a\n",
      "b\n",
      "c\n",
      "1\n",
      "2\n",
      "3\n",
      "X\n",
      "Y\n",
      "Z\n",
      "This is a paragraph.\n",
      "This is another paragraph.\n"
     ]
    }
   ],
   "source": [
    "for p_item in all_ps:\n",
    "    print(p_item.get_text())"
   ]
  },
  {
   "cell_type": "code",
   "execution_count": 49,
   "metadata": {},
   "outputs": [
    {
     "name": "stdout",
     "output_type": "stream",
     "text": [
      "<div>\n",
      "<p>a</p>\n",
      "<p>b</p>\n",
      "<p>c</p>\n",
      "</div>\n",
      "\n",
      "<div class=\"ex_class\">\n",
      "<p>1</p>\n",
      "<p>2</p>\n",
      "<p>3</p>\n",
      "</div>\n",
      "\n",
      "<div id=\"ex_id\">\n",
      "<p>X</p>\n",
      "<p>Y</p>\n",
      "<p>Z</p>\n",
      "</div>\n",
      "\n"
     ]
    }
   ],
   "source": [
    "all_divs = soup.find_all('div')\n",
    "for each_div in all_divs:\n",
    "    print(each_div)\n",
    "    print()"
   ]
  },
  {
   "cell_type": "code",
   "execution_count": 63,
   "metadata": {},
   "outputs": [
    {
     "data": {
      "text/plain": [
       "<div class=\"ex_class\">\n",
       "<p>1</p>\n",
       "<p>2</p>\n",
       "<p>3</p>\n",
       "</div>"
      ]
     },
     "execution_count": 63,
     "metadata": {},
     "output_type": "execute_result"
    }
   ],
   "source": [
    "soup.find(class_=\"ex_class\")"
   ]
  },
  {
   "cell_type": "code",
   "execution_count": 64,
   "metadata": {},
   "outputs": [
    {
     "data": {
      "text/plain": [
       "<div id=\"ex_id\">\n",
       "<p>X</p>\n",
       "<p>Y</p>\n",
       "<p>Z</p>\n",
       "</div>"
      ]
     },
     "execution_count": 64,
     "metadata": {},
     "output_type": "execute_result"
    }
   ],
   "source": [
    "soup.find(id=\"ex_id\")"
   ]
  }
 ],
 "metadata": {
  "kernelspec": {
   "display_name": "Python 3",
   "language": "python",
   "name": "python3"
  },
  "language_info": {
   "codemirror_mode": {
    "name": "ipython",
    "version": 3
   },
   "file_extension": ".py",
   "mimetype": "text/x-python",
   "name": "python",
   "nbconvert_exporter": "python",
   "pygments_lexer": "ipython3",
   "version": "3.7.6"
  }
 },
 "nbformat": 4,
 "nbformat_minor": 4
}
