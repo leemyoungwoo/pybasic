{
 "cells": [
  {
   "cell_type": "code",
   "execution_count": 6,
   "metadata": {},
   "outputs": [],
   "source": [
    "import sqlite3\n",
    "import csv\n",
    "import pandas as pd"
   ]
  },
  {
   "cell_type": "code",
   "execution_count": 7,
   "metadata": {},
   "outputs": [],
   "source": [
    "conn = sqlite3.connect('./idol_singer.db')"
   ]
  },
  {
   "cell_type": "code",
   "execution_count": 8,
   "metadata": {},
   "outputs": [
    {
     "data": {
      "text/plain": [
       "[(1, '방탄소년단', 7, '2013-06-13', '빅히트 엔터'),\n",
       " (2, '마마무', 4, '2014-06-19', 'RBW'),\n",
       " (3, '우주소녀', 13, '2016-02-25', '스타쉽 엔터'),\n",
       " (4, '블락비', 7, '2011-04-15', 'KQ 엔터'),\n",
       " (5, '엑소', 9, '2012-04-08', 'SM 엔터'),\n",
       " (6, '트와이스', 9, '2015-10-20', 'JYP 엔터')]"
      ]
     },
     "execution_count": 8,
     "metadata": {},
     "output_type": "execute_result"
    }
   ],
   "source": [
    "cur = conn.cursor()\n",
    "cur.execute('SELECT * FROM idol_sing')\n",
    "rows = cur.fetchall()\n",
    "rows"
   ]
  },
  {
   "cell_type": "code",
   "execution_count": 19,
   "metadata": {},
   "outputs": [
    {
     "data": {
      "text/html": [
       "<div>\n",
       "<style scoped>\n",
       "    .dataframe tbody tr th:only-of-type {\n",
       "        vertical-align: middle;\n",
       "    }\n",
       "\n",
       "    .dataframe tbody tr th {\n",
       "        vertical-align: top;\n",
       "    }\n",
       "\n",
       "    .dataframe thead th {\n",
       "        text-align: right;\n",
       "    }\n",
       "</style>\n",
       "<table border=\"1\" class=\"dataframe\">\n",
       "  <thead>\n",
       "    <tr style=\"text-align: right;\">\n",
       "      <th></th>\n",
       "      <th>name</th>\n",
       "      <th>member_no</th>\n",
       "      <th>debut</th>\n",
       "      <th>company</th>\n",
       "    </tr>\n",
       "  </thead>\n",
       "  <tbody>\n",
       "    <tr>\n",
       "      <th>0</th>\n",
       "      <td>방탄소년단</td>\n",
       "      <td>7</td>\n",
       "      <td>2013-06-13</td>\n",
       "      <td>빅히트 엔터</td>\n",
       "    </tr>\n",
       "    <tr>\n",
       "      <th>1</th>\n",
       "      <td>마마무</td>\n",
       "      <td>4</td>\n",
       "      <td>2014-06-19</td>\n",
       "      <td>RBW</td>\n",
       "    </tr>\n",
       "    <tr>\n",
       "      <th>2</th>\n",
       "      <td>우주소녀</td>\n",
       "      <td>13</td>\n",
       "      <td>2016-02-25</td>\n",
       "      <td>스타쉽 엔터</td>\n",
       "    </tr>\n",
       "    <tr>\n",
       "      <th>3</th>\n",
       "      <td>블락비</td>\n",
       "      <td>7</td>\n",
       "      <td>2011-04-15</td>\n",
       "      <td>KQ 엔터</td>\n",
       "    </tr>\n",
       "    <tr>\n",
       "      <th>4</th>\n",
       "      <td>엑소</td>\n",
       "      <td>9</td>\n",
       "      <td>2012-04-08</td>\n",
       "      <td>SM 엔터</td>\n",
       "    </tr>\n",
       "    <tr>\n",
       "      <th>5</th>\n",
       "      <td>트와이스</td>\n",
       "      <td>9</td>\n",
       "      <td>2015-10-20</td>\n",
       "      <td>JYP 엔터</td>\n",
       "    </tr>\n",
       "  </tbody>\n",
       "</table>\n",
       "</div>"
      ],
      "text/plain": [
       "    name  member_no       debut company\n",
       "0  방탄소년단          7  2013-06-13  빅히트 엔터\n",
       "1    마마무          4  2014-06-19     RBW\n",
       "2   우주소녀         13  2016-02-25  스타쉽 엔터\n",
       "3    블락비          7  2011-04-15   KQ 엔터\n",
       "4     엑소          9  2012-04-08   SM 엔터\n",
       "5   트와이스          9  2015-10-20  JYP 엔터"
      ]
     },
     "execution_count": 19,
     "metadata": {},
     "output_type": "execute_result"
    }
   ],
   "source": [
    "df = pd.read_csv('singers.csv')\n",
    "\n",
    "df"
   ]
  },
  {
   "cell_type": "code",
   "execution_count": 32,
   "metadata": {},
   "outputs": [
    {
     "data": {
      "text/plain": [
       "[('방탄소년단', 7, '2013-06-13', '빅히트 엔터'),\n",
       " ('마마무', 4, '2014-06-19', 'RBW'),\n",
       " ('우주소녀', 13, '2016-02-25', '스타쉽 엔터'),\n",
       " ('블락비', 7, '2011-04-15', 'KQ 엔터'),\n",
       " ('엑소', 9, '2012-04-08', 'SM 엔터'),\n",
       " ('트와이스', 9, '2015-10-20', 'JYP 엔터')]"
      ]
     },
     "execution_count": 32,
     "metadata": {},
     "output_type": "execute_result"
    }
   ],
   "source": [
    "idol_singer = [tuple(x) for x in df.values]\n",
    "idol_singer"
   ]
  },
  {
   "cell_type": "code",
   "execution_count": 33,
   "metadata": {},
   "outputs": [
    {
     "data": {
      "text/plain": [
       "<sqlite3.Cursor at 0x1f6c2a8e8f0>"
      ]
     },
     "execution_count": 33,
     "metadata": {},
     "output_type": "execute_result"
    }
   ],
   "source": [
    "sql = \"INSERT INTO idol_sing(name,member_no,debut,company) VALUES(?,?,?,?)\"\n",
    "cur.execute(sql,(name,member_no,debut,company))"
   ]
  },
  {
   "cell_type": "code",
   "execution_count": 34,
   "metadata": {},
   "outputs": [],
   "source": [
    "name = idol_singer[0][0]\n",
    "member_no = idol_singer[1][1]\n",
    "debut = idol_singer[2][2]\n",
    "company = idol_singer[3][3]"
   ]
  },
  {
   "cell_type": "code",
   "execution_count": 35,
   "metadata": {},
   "outputs": [],
   "source": [
    "for singer in idol_singer :\n",
    "    cur.execute(sql,singer)\n",
    "    \n",
    "conn.commit()"
   ]
  },
  {
   "cell_type": "code",
   "execution_count": 29,
   "metadata": {},
   "outputs": [],
   "source": [
    "sql = 'DELETE FROM idol_sing WHERE id = 7'\n",
    "\n",
    "conn.commit()"
   ]
  },
  {
   "cell_type": "code",
   "execution_count": 36,
   "metadata": {},
   "outputs": [
    {
     "data": {
      "text/plain": [
       "[]"
      ]
     },
     "execution_count": 36,
     "metadata": {},
     "output_type": "execute_result"
    }
   ],
   "source": [
    "cur = conn.cursor()\n",
    "cur.execute('SELECT * FROM idol_song')\n",
    "rows = cur.fetchall()\n",
    "rows"
   ]
  },
  {
   "cell_type": "code",
   "execution_count": 37,
   "metadata": {},
   "outputs": [
    {
     "data": {
      "text/html": [
       "<div>\n",
       "<style scoped>\n",
       "    .dataframe tbody tr th:only-of-type {\n",
       "        vertical-align: middle;\n",
       "    }\n",
       "\n",
       "    .dataframe tbody tr th {\n",
       "        vertical-align: top;\n",
       "    }\n",
       "\n",
       "    .dataframe thead th {\n",
       "        text-align: right;\n",
       "    }\n",
       "</style>\n",
       "<table border=\"1\" class=\"dataframe\">\n",
       "  <thead>\n",
       "    <tr style=\"text-align: right;\">\n",
       "      <th></th>\n",
       "      <th>song</th>\n",
       "      <th>gid</th>\n",
       "      <th>year</th>\n",
       "      <th>composer</th>\n",
       "      <th>lyrics</th>\n",
       "    </tr>\n",
       "  </thead>\n",
       "  <tbody>\n",
       "    <tr>\n",
       "      <th>0</th>\n",
       "      <td>작은 것들을 위한 시</td>\n",
       "      <td>1</td>\n",
       "      <td>2019</td>\n",
       "      <td>Pdogg 외</td>\n",
       "      <td>모든 게 궁금해 How’s your day</td>\n",
       "    </tr>\n",
       "    <tr>\n",
       "      <th>1</th>\n",
       "      <td>FAKE LOVE</td>\n",
       "      <td>1</td>\n",
       "      <td>2018</td>\n",
       "      <td>Pdogg 외</td>\n",
       "      <td>널 위해서라면 난 슬퍼도 기쁜 척 할 수가 있었어</td>\n",
       "    </tr>\n",
       "    <tr>\n",
       "      <th>2</th>\n",
       "      <td>넌 is 뭔들</td>\n",
       "      <td>2</td>\n",
       "      <td>2016</td>\n",
       "      <td>김도훈 외</td>\n",
       "      <td>Hey 거기 미소가 예쁜 남자 바로 너</td>\n",
       "    </tr>\n",
       "    <tr>\n",
       "      <th>3</th>\n",
       "      <td>음오아예 (Um Oh Ah Yeh)</td>\n",
       "      <td>2</td>\n",
       "      <td>2015</td>\n",
       "      <td>김도훈</td>\n",
       "      <td>oh yes 음 오 아 예 너에게 빠져들겠어 자꾸 반응하잖아</td>\n",
       "    </tr>\n",
       "    <tr>\n",
       "      <th>4</th>\n",
       "      <td>HER</td>\n",
       "      <td>4</td>\n",
       "      <td>2014</td>\n",
       "      <td>지코 외</td>\n",
       "      <td>Jesus 무슨 말이 필요해 모두 널 작품이라고 불러</td>\n",
       "    </tr>\n",
       "    <tr>\n",
       "      <th>5</th>\n",
       "      <td>으르렁</td>\n",
       "      <td>5</td>\n",
       "      <td>2013</td>\n",
       "      <td>신혁 외</td>\n",
       "      <td>나 으르렁 으르렁 으르렁 대 나 으르렁 으르렁 으르렁 대</td>\n",
       "    </tr>\n",
       "    <tr>\n",
       "      <th>6</th>\n",
       "      <td>MAMA</td>\n",
       "      <td>5</td>\n",
       "      <td>2012</td>\n",
       "      <td>유영진</td>\n",
       "      <td>Careless careless Shoot anonymous anonymous</td>\n",
       "    </tr>\n",
       "    <tr>\n",
       "      <th>7</th>\n",
       "      <td>CHEER UP</td>\n",
       "      <td>6</td>\n",
       "      <td>2016</td>\n",
       "      <td>블랙아이드필승 외</td>\n",
       "      <td>CHEER UP BABY CHEER UP BABY 좀 더 힘을 내</td>\n",
       "    </tr>\n",
       "    <tr>\n",
       "      <th>8</th>\n",
       "      <td>TT</td>\n",
       "      <td>6</td>\n",
       "      <td>2016</td>\n",
       "      <td>블랙아이드필승 외</td>\n",
       "      <td>이런 내 맘 모르고 너무해 너무해</td>\n",
       "    </tr>\n",
       "    <tr>\n",
       "      <th>9</th>\n",
       "      <td>빨간 맛</td>\n",
       "      <td>11</td>\n",
       "      <td>2017</td>\n",
       "      <td>Ludwig Lindell 외</td>\n",
       "      <td>빨간 맛 궁금해 Honey 깨물면 점점 녹아든 스트로베리 그 맛</td>\n",
       "    </tr>\n",
       "  </tbody>\n",
       "</table>\n",
       "</div>"
      ],
      "text/plain": [
       "                  song  gid  year          composer  \\\n",
       "0          작은 것들을 위한 시    1  2019           Pdogg 외   \n",
       "1            FAKE LOVE    1  2018           Pdogg 외   \n",
       "2              넌 is 뭔들    2  2016             김도훈 외   \n",
       "3  음오아예 (Um Oh Ah Yeh)    2  2015               김도훈   \n",
       "4                  HER    4  2014              지코 외   \n",
       "5                  으르렁    5  2013              신혁 외   \n",
       "6                 MAMA    5  2012               유영진   \n",
       "7             CHEER UP    6  2016         블랙아이드필승 외   \n",
       "8                   TT    6  2016         블랙아이드필승 외   \n",
       "9                 빨간 맛   11  2017  Ludwig Lindell 외   \n",
       "\n",
       "                                        lyrics  \n",
       "0                      모든 게 궁금해 How’s your day  \n",
       "1                  널 위해서라면 난 슬퍼도 기쁜 척 할 수가 있었어  \n",
       "2                        Hey 거기 미소가 예쁜 남자 바로 너  \n",
       "3            oh yes 음 오 아 예 너에게 빠져들겠어 자꾸 반응하잖아  \n",
       "4                Jesus 무슨 말이 필요해 모두 널 작품이라고 불러  \n",
       "5              나 으르렁 으르렁 으르렁 대 나 으르렁 으르렁 으르렁 대  \n",
       "6  Careless careless Shoot anonymous anonymous  \n",
       "7         CHEER UP BABY CHEER UP BABY 좀 더 힘을 내  \n",
       "8                           이런 내 맘 모르고 너무해 너무해  \n",
       "9          빨간 맛 궁금해 Honey 깨물면 점점 녹아든 스트로베리 그 맛  "
      ]
     },
     "execution_count": 37,
     "metadata": {},
     "output_type": "execute_result"
    }
   ],
   "source": [
    "df = pd.read_csv('songs.csv')\n",
    "\n",
    "df"
   ]
  },
  {
   "cell_type": "code",
   "execution_count": 47,
   "metadata": {},
   "outputs": [
    {
     "data": {
      "text/plain": [
       "[('작은 것들을 위한 시', 1, 2019, 'Pdogg 외', '모든 게 궁금해 How’s your day'),\n",
       " ('FAKE LOVE', 1, 2018, 'Pdogg 외', '널 위해서라면 난 슬퍼도 기쁜 척 할 수가 있었어'),\n",
       " ('넌 is 뭔들', 2, 2016, '김도훈 외', 'Hey 거기 미소가 예쁜 남자 바로 너'),\n",
       " ('음오아예 (Um Oh Ah Yeh)', 2, 2015, '김도훈', 'oh yes 음 오 아 예 너에게 빠져들겠어 자꾸 반응하잖아'),\n",
       " ('HER', 4, 2014, '지코 외', 'Jesus 무슨 말이 필요해 모두 널 작품이라고 불러'),\n",
       " ('으르렁', 5, 2013, '신혁 외', '나 으르렁 으르렁 으르렁 대 나 으르렁 으르렁 으르렁 대'),\n",
       " ('MAMA', 5, 2012, '유영진', 'Careless careless Shoot anonymous anonymous'),\n",
       " ('CHEER UP', 6, 2016, '블랙아이드필승 외', 'CHEER UP BABY CHEER UP BABY 좀 더 힘을 내'),\n",
       " ('TT', 6, 2016, '블랙아이드필승 외', '이런 내 맘 모르고 너무해 너무해'),\n",
       " ('빨간 맛', 11, 2017, 'Ludwig Lindell 외', '빨간 맛 궁금해 Honey 깨물면 점점 녹아든 스트로베리 그 맛')]"
      ]
     },
     "execution_count": 47,
     "metadata": {},
     "output_type": "execute_result"
    }
   ],
   "source": [
    "idol_song = [tuple(x) for x in df.values]\n",
    "idol_song"
   ]
  },
  {
   "cell_type": "code",
   "execution_count": 52,
   "metadata": {
    "scrolled": true
   },
   "outputs": [],
   "source": [
    "sql = \"INSERT INTO idol_song(song,gid,year,composer,lyrics) VALUES(?,?,?,?,?)\"\n",
    "cur.executemany(sql,idol_song)\n",
    "conn.commit()"
   ]
  },
  {
   "cell_type": "code",
   "execution_count": 44,
   "metadata": {},
   "outputs": [],
   "source": [
    "for song in idol_song :\n",
    "    cur.execute(sql,song)\n",
    "    \n",
    "conn.commit()"
   ]
  },
  {
   "cell_type": "code",
   "execution_count": 53,
   "metadata": {},
   "outputs": [],
   "source": [
    "sql = \"SELECT idol_sing.name, idol_sing.member_no, idol_sing.debut, idol_song.song, idol_song.year FROM idol_sing INNER JOIN idol_song ON idol_sing.id=idol_song.gid\""
   ]
  },
  {
   "cell_type": "code",
   "execution_count": 54,
   "metadata": {},
   "outputs": [
    {
     "data": {
      "text/plain": [
       "[('방탄소년단', 7, '2013-06-13', '작은 것들을 위한 시', 2019),\n",
       " ('방탄소년단', 7, '2013-06-13', 'FAKE LOVE', 2018),\n",
       " ('마마무', 4, '2014-06-19', '넌 is 뭔들', 2016),\n",
       " ('마마무', 4, '2014-06-19', '음오아예 (Um Oh Ah Yeh)', 2015),\n",
       " ('블락비', 7, '2011-04-15', 'HER', 2014),\n",
       " ('엑소', 9, '2012-04-08', '으르렁', 2013),\n",
       " ('엑소', 9, '2012-04-08', 'MAMA', 2012),\n",
       " ('트와이스', 9, '2015-10-20', 'CHEER UP', 2016),\n",
       " ('트와이스', 9, '2015-10-20', 'TT', 2016)]"
      ]
     },
     "execution_count": 54,
     "metadata": {},
     "output_type": "execute_result"
    }
   ],
   "source": [
    "cur.execute(sql)\n",
    "results = cur.fetchall()\n",
    "results"
   ]
  },
  {
   "cell_type": "code",
   "execution_count": 55,
   "metadata": {},
   "outputs": [
    {
     "data": {
      "text/html": [
       "<div>\n",
       "<style scoped>\n",
       "    .dataframe tbody tr th:only-of-type {\n",
       "        vertical-align: middle;\n",
       "    }\n",
       "\n",
       "    .dataframe tbody tr th {\n",
       "        vertical-align: top;\n",
       "    }\n",
       "\n",
       "    .dataframe thead th {\n",
       "        text-align: right;\n",
       "    }\n",
       "</style>\n",
       "<table border=\"1\" class=\"dataframe\">\n",
       "  <thead>\n",
       "    <tr style=\"text-align: right;\">\n",
       "      <th></th>\n",
       "      <th>0</th>\n",
       "      <th>1</th>\n",
       "      <th>2</th>\n",
       "      <th>3</th>\n",
       "      <th>4</th>\n",
       "    </tr>\n",
       "  </thead>\n",
       "  <tbody>\n",
       "    <tr>\n",
       "      <th>0</th>\n",
       "      <td>방탄소년단</td>\n",
       "      <td>7</td>\n",
       "      <td>2013-06-13</td>\n",
       "      <td>작은 것들을 위한 시</td>\n",
       "      <td>2019</td>\n",
       "    </tr>\n",
       "    <tr>\n",
       "      <th>1</th>\n",
       "      <td>방탄소년단</td>\n",
       "      <td>7</td>\n",
       "      <td>2013-06-13</td>\n",
       "      <td>FAKE LOVE</td>\n",
       "      <td>2018</td>\n",
       "    </tr>\n",
       "    <tr>\n",
       "      <th>2</th>\n",
       "      <td>마마무</td>\n",
       "      <td>4</td>\n",
       "      <td>2014-06-19</td>\n",
       "      <td>넌 is 뭔들</td>\n",
       "      <td>2016</td>\n",
       "    </tr>\n",
       "    <tr>\n",
       "      <th>3</th>\n",
       "      <td>마마무</td>\n",
       "      <td>4</td>\n",
       "      <td>2014-06-19</td>\n",
       "      <td>음오아예 (Um Oh Ah Yeh)</td>\n",
       "      <td>2015</td>\n",
       "    </tr>\n",
       "    <tr>\n",
       "      <th>4</th>\n",
       "      <td>블락비</td>\n",
       "      <td>7</td>\n",
       "      <td>2011-04-15</td>\n",
       "      <td>HER</td>\n",
       "      <td>2014</td>\n",
       "    </tr>\n",
       "    <tr>\n",
       "      <th>5</th>\n",
       "      <td>엑소</td>\n",
       "      <td>9</td>\n",
       "      <td>2012-04-08</td>\n",
       "      <td>으르렁</td>\n",
       "      <td>2013</td>\n",
       "    </tr>\n",
       "    <tr>\n",
       "      <th>6</th>\n",
       "      <td>엑소</td>\n",
       "      <td>9</td>\n",
       "      <td>2012-04-08</td>\n",
       "      <td>MAMA</td>\n",
       "      <td>2012</td>\n",
       "    </tr>\n",
       "    <tr>\n",
       "      <th>7</th>\n",
       "      <td>트와이스</td>\n",
       "      <td>9</td>\n",
       "      <td>2015-10-20</td>\n",
       "      <td>CHEER UP</td>\n",
       "      <td>2016</td>\n",
       "    </tr>\n",
       "    <tr>\n",
       "      <th>8</th>\n",
       "      <td>트와이스</td>\n",
       "      <td>9</td>\n",
       "      <td>2015-10-20</td>\n",
       "      <td>TT</td>\n",
       "      <td>2016</td>\n",
       "    </tr>\n",
       "  </tbody>\n",
       "</table>\n",
       "</div>"
      ],
      "text/plain": [
       "       0  1           2                    3     4\n",
       "0  방탄소년단  7  2013-06-13          작은 것들을 위한 시  2019\n",
       "1  방탄소년단  7  2013-06-13            FAKE LOVE  2018\n",
       "2    마마무  4  2014-06-19              넌 is 뭔들  2016\n",
       "3    마마무  4  2014-06-19  음오아예 (Um Oh Ah Yeh)  2015\n",
       "4    블락비  7  2011-04-15                  HER  2014\n",
       "5     엑소  9  2012-04-08                  으르렁  2013\n",
       "6     엑소  9  2012-04-08                 MAMA  2012\n",
       "7   트와이스  9  2015-10-20             CHEER UP  2016\n",
       "8   트와이스  9  2015-10-20                   TT  2016"
      ]
     },
     "execution_count": 55,
     "metadata": {},
     "output_type": "execute_result"
    }
   ],
   "source": [
    "df2 = pd.DataFrame(results)\n",
    "df2"
   ]
  },
  {
   "cell_type": "code",
   "execution_count": null,
   "metadata": {},
   "outputs": [],
   "source": []
  }
 ],
 "metadata": {
  "kernelspec": {
   "display_name": "Python 3",
   "language": "python",
   "name": "python3"
  },
  "language_info": {
   "codemirror_mode": {
    "name": "ipython",
    "version": 3
   },
   "file_extension": ".py",
   "mimetype": "text/x-python",
   "name": "python",
   "nbconvert_exporter": "python",
   "pygments_lexer": "ipython3",
   "version": "3.7.6"
  }
 },
 "nbformat": 4,
 "nbformat_minor": 4
}
