{
 "cells": [
  {
   "cell_type": "markdown",
   "metadata": {},
   "source": [
    "# SQLite3 훈련"
   ]
  },
  {
   "cell_type": "code",
   "execution_count": 32,
   "metadata": {},
   "outputs": [],
   "source": [
    "import sqlite3\n",
    "# file = open / read, write / close"
   ]
  },
  {
   "cell_type": "code",
   "execution_count": 33,
   "metadata": {},
   "outputs": [],
   "source": [
    "conn = sqlite3.connect('./testDB.db')"
   ]
  },
  {
   "cell_type": "code",
   "execution_count": 36,
   "metadata": {},
   "outputs": [
    {
     "data": {
      "text/plain": [
       "[(1, 22, '이태양', '투수'),\n",
       " (2, 17, '김범수', '투수'),\n",
       " (3, 13, '최재훈', '포수'),\n",
       " (4, 43, '정은원', '내야수'),\n",
       " (5, 19, '이용규', '외야수'),\n",
       " (6, 30, '호잉', '외야수'),\n",
       " (7, 50, '이성열', '내야수'),\n",
       " (8, 52, '김태균', '내야수'),\n",
       " (9, 53, '김민우', '투수'),\n",
       " (10, 61, '박상원', '투수')]"
      ]
     },
     "execution_count": 36,
     "metadata": {},
     "output_type": "execute_result"
    }
   ],
   "source": [
    "cur = conn.cursor()\n",
    "cur.execute('SELECT * FROM eagles')\n",
    "rows = cur.fetchall()\n",
    "rows"
   ]
  },
  {
   "cell_type": "code",
   "execution_count": 37,
   "metadata": {},
   "outputs": [
    {
     "name": "stdout",
     "output_type": "stream",
     "text": [
      "(1, 22, '이태양', '투수')\n",
      "(2, 17, '김범수', '투수')\n",
      "(9, 53, '김민우', '투수')\n",
      "(10, 61, '박상원', '투수')\n"
     ]
    }
   ],
   "source": [
    "cur.execute(\"SELECT * FROM eagles WHERE position = '투수'\")\n",
    "pitchers = cur.fetchall()\n",
    "for pitcher in pitchers:\n",
    "    print(pitcher)"
   ]
  },
  {
   "cell_type": "markdown",
   "metadata": {},
   "source": [
    "## 데이터 추가"
   ]
  },
  {
   "cell_type": "code",
   "execution_count": 48,
   "metadata": {},
   "outputs": [
    {
     "data": {
      "text/plain": [
       "<sqlite3.Cursor at 0x23c33e5c2d0>"
      ]
     },
     "execution_count": 48,
     "metadata": {},
     "output_type": "execute_result"
    }
   ],
   "source": [
    "cur.execute(\"INSERT INTO eagles(back_no,name,position) VALUES(1,'하주석','내야수')\")"
   ]
  },
  {
   "cell_type": "code",
   "execution_count": 56,
   "metadata": {},
   "outputs": [
    {
     "name": "stdout",
     "output_type": "stream",
     "text": [
      "(4, 43, '정은원', '내야수')\n",
      "(7, 50, '이성열', '내야수')\n",
      "(8, 52, '김태균', '내야수')\n",
      "(11, 1, '하주석', '내야수')\n"
     ]
    }
   ],
   "source": [
    "cur.execute(\"SELECT * FROM eagles WHERE position = '내야수'\")\n",
    "pitchers = cur.fetchall()\n",
    "for pitcher in pitchers:\n",
    "    print(pitcher)"
   ]
  },
  {
   "cell_type": "code",
   "execution_count": 58,
   "metadata": {},
   "outputs": [
    {
     "data": {
      "text/plain": [
       "<sqlite3.Cursor at 0x23c33e5c2d0>"
      ]
     },
     "execution_count": 58,
     "metadata": {},
     "output_type": "execute_result"
    }
   ],
   "source": [
    "cur.execute(\"UPDATE eagles SET back_no = '41' WHERE id = 11\")"
   ]
  },
  {
   "cell_type": "code",
   "execution_count": 59,
   "metadata": {},
   "outputs": [],
   "source": [
    "# DB에 반영\n",
    "\n",
    "conn.commit()"
   ]
  },
  {
   "cell_type": "code",
   "execution_count": 60,
   "metadata": {},
   "outputs": [],
   "source": [
    "# 파라메터 : 튜플을 사용해서 전달\n",
    "\n",
    "back_no = 25\n",
    "name = '최진행'\n",
    "position = '외야수'\n",
    "sql = 'INSERT INTO eagles(back_no,name,position) VALUES(?,?,?)'\n",
    "cur.execute(sql,(back_no,name,position)) # 변수를 튜플로 만들어서 각 항목에 저장\n",
    "conn.commit()"
   ]
  },
  {
   "cell_type": "code",
   "execution_count": 61,
   "metadata": {},
   "outputs": [],
   "source": [
    "# 튜플 리스트 사용\n",
    "\n",
    "players = [(38,'안영명','투수'),(54,'서균','투수')]\n",
    "\n",
    "for player in players :\n",
    "    cur.execute(sql,player)\n",
    "conn.commit()"
   ]
  },
  {
   "cell_type": "code",
   "execution_count": 62,
   "metadata": {},
   "outputs": [],
   "source": [
    "# executemany()  사용\n",
    "\n",
    "players = [(48,'벨','투수'),(53,'김민우','투수')]\n",
    "cur.executemany(sql, players)\n",
    "conn.commit()"
   ]
  },
  {
   "cell_type": "markdown",
   "metadata": {},
   "source": [
    "## 데이터 조회"
   ]
  },
  {
   "cell_type": "code",
   "execution_count": 64,
   "metadata": {},
   "outputs": [
    {
     "name": "stdout",
     "output_type": "stream",
     "text": [
      "(5, 19, '이용규', '외야수')\n",
      "(6, 30, '호잉', '외야수')\n",
      "(14, 25, '최진행', '외야수')\n"
     ]
    }
   ],
   "source": [
    "# 순회 조회\n",
    "\n",
    "sql = \"select * from eagles where position = '외야수'\"\n",
    "cur.execute(sql)\n",
    "\n",
    "for result in cur :\n",
    "    print(result)"
   ]
  },
  {
   "cell_type": "code",
   "execution_count": 65,
   "metadata": {},
   "outputs": [
    {
     "name": "stdout",
     "output_type": "stream",
     "text": [
      "(5, 19, '이용규', '외야수')\n"
     ]
    }
   ],
   "source": [
    "# 한 건 조회 ***********************************\n",
    "\n",
    "cur.execute(sql)\n",
    "result = cur.fetchone()\n",
    "print(result)"
   ]
  },
  {
   "cell_type": "code",
   "execution_count": 66,
   "metadata": {},
   "outputs": [
    {
     "name": "stdout",
     "output_type": "stream",
     "text": [
      "(6, 30, '호잉', '외야수')\n"
     ]
    }
   ],
   "source": [
    "result = cur.fetchone()\n",
    "print(result)"
   ]
  },
  {
   "cell_type": "code",
   "execution_count": 67,
   "metadata": {},
   "outputs": [
    {
     "data": {
      "text/plain": [
       "[(1, 22, '이태양', '투수'), (2, 17, '김범수', '투수'), (9, 53, '김민우', '투수')]"
      ]
     },
     "execution_count": 67,
     "metadata": {},
     "output_type": "execute_result"
    }
   ],
   "source": [
    "# 갯수 지정 조회 ***********************************\n",
    "\n",
    "sql = \"select * from eagles where position = '투수'\"\n",
    "cur.execute(sql)\n",
    "results = cur.fetchmany(3)\n",
    "results"
   ]
  },
  {
   "cell_type": "code",
   "execution_count": 68,
   "metadata": {},
   "outputs": [
    {
     "data": {
      "text/plain": [
       "[(10, 61, '박상원', '투수'),\n",
       " (15, 38, '안영명', '투수'),\n",
       " (16, 54, '서균', '투수'),\n",
       " (17, 48, '벨', '투수'),\n",
       " (18, 53, '김민우', '투수')]"
      ]
     },
     "execution_count": 68,
     "metadata": {},
     "output_type": "execute_result"
    }
   ],
   "source": [
    "# 전부 조회 ***********************************\n",
    "\n",
    "results = cur.fetchall()\n",
    "results"
   ]
  },
  {
   "cell_type": "code",
   "execution_count": 69,
   "metadata": {},
   "outputs": [
    {
     "data": {
      "text/plain": [
       "[(4, 43, '정은원', '내야수'),\n",
       " (7, 50, '이성열', '내야수'),\n",
       " (8, 52, '김태균', '내야수'),\n",
       " (11, 41, '하주석', '내야수')]"
      ]
     },
     "execution_count": 69,
     "metadata": {},
     "output_type": "execute_result"
    }
   ],
   "source": [
    "sql = \"select * from eagles where position = '내야수'\"\n",
    "cur.execute(sql)\n",
    "results = cur.fetchall()\n",
    "results"
   ]
  },
  {
   "cell_type": "code",
   "execution_count": 70,
   "metadata": {},
   "outputs": [
    {
     "data": {
      "text/plain": [
       "[(1, 22, '이태양', '투수'),\n",
       " (4, 43, '정은원', '내야수'),\n",
       " (6, 30, '호잉', '외야수'),\n",
       " (7, 50, '이성열', '내야수'),\n",
       " (8, 52, '김태균', '내야수'),\n",
       " (9, 53, '김민우', '투수'),\n",
       " (10, 61, '박상원', '투수'),\n",
       " (11, 41, '하주석', '내야수'),\n",
       " (14, 25, '최진행', '외야수'),\n",
       " (15, 38, '안영명', '투수'),\n",
       " (16, 54, '서균', '투수'),\n",
       " (17, 48, '벨', '투수'),\n",
       " (18, 53, '김민우', '투수')]"
      ]
     },
     "execution_count": 70,
     "metadata": {},
     "output_type": "execute_result"
    }
   ],
   "source": [
    "# 필요한 컬럼만 조회\n",
    "\n",
    "sql = \"select * from eagles where back_no > 20\"\n",
    "cur.execute(sql)\n",
    "results = cur.fetchall()\n",
    "results"
   ]
  },
  {
   "cell_type": "code",
   "execution_count": 82,
   "metadata": {},
   "outputs": [
    {
     "data": {
      "text/plain": [
       "[(6, 30, '호잉', '외야수'), (15, 38, '안영명', '투수')]"
      ]
     },
     "execution_count": 82,
     "metadata": {},
     "output_type": "execute_result"
    }
   ],
   "source": [
    "# 백넘버가 30~39까지인 선수\n",
    "\n",
    "sql = \"select * from eagles where back_no between 30 and 39\"\n",
    "cur.execute(sql)\n",
    "results = cur.fetchall()\n",
    "results"
   ]
  },
  {
   "cell_type": "code",
   "execution_count": 83,
   "metadata": {},
   "outputs": [
    {
     "data": {
      "text/plain": [
       "[(10, 61, '박상원', '투수')]"
      ]
     },
     "execution_count": 83,
     "metadata": {},
     "output_type": "execute_result"
    }
   ],
   "source": [
    "# 백넘버가 가장 큰 선수?\n",
    "\n",
    "sql = \"select * from eagles order by back_no desc limit 1\"\n",
    "cur.execute(sql)\n",
    "results = cur.fetchall()\n",
    "results"
   ]
  },
  {
   "cell_type": "code",
   "execution_count": 84,
   "metadata": {},
   "outputs": [
    {
     "data": {
      "text/plain": [
       "[('내야수', 4), ('외야수', 3), ('투수', 8), ('포수', 1)]"
      ]
     },
     "execution_count": 84,
     "metadata": {},
     "output_type": "execute_result"
    }
   ],
   "source": [
    "# 포지션별 사람 수\n",
    "\n",
    "sql = \"select position, count(*) from eagles group by position\"\n",
    "cur.execute(sql)\n",
    "results = cur.fetchall()\n",
    "results"
   ]
  },
  {
   "cell_type": "markdown",
   "metadata": {},
   "source": [
    "# 데이터 검색 "
   ]
  },
  {
   "cell_type": "code",
   "execution_count": 88,
   "metadata": {},
   "outputs": [
    {
     "data": {
      "text/plain": [
       "(16, 54, '서균', '투수')"
      ]
     },
     "execution_count": 88,
     "metadata": {},
     "output_type": "execute_result"
    }
   ],
   "source": [
    "# back_no가 54번인 선수는?\n",
    "\n",
    "back_no = 54\n",
    "\n",
    "sql = \"select * from eagles where back_no = ? \"\n",
    "\n",
    "cur.execute(sql,(back_no,))\n",
    "result = cur.fetchone()\n",
    "result"
   ]
  },
  {
   "cell_type": "markdown",
   "metadata": {},
   "source": [
    "## 데이터 변경"
   ]
  },
  {
   "cell_type": "code",
   "execution_count": 89,
   "metadata": {},
   "outputs": [],
   "source": [
    "# id 가 11인 하주석 선수의 포지션을 '외야수'로 변경\n",
    "\n",
    "id = 11\n",
    "position = '외야수'\n",
    "\n",
    "sql = 'UPDATE eagles SET position = ? WHERE id = ?'\n",
    "\n",
    "cur.execute(sql,(position,id))\n",
    "conn.commit()"
   ]
  },
  {
   "cell_type": "markdown",
   "metadata": {},
   "source": [
    "## 데이터 삭제"
   ]
  },
  {
   "cell_type": "code",
   "execution_count": 90,
   "metadata": {},
   "outputs": [],
   "source": [
    "sql = 'DELETE FROM eagles WHERE id = ?'\n",
    "\n",
    "cur.execute(sql,(id, ))\n",
    "\n",
    "conn.commit()"
   ]
  }
 ],
 "metadata": {
  "kernelspec": {
   "display_name": "Python 3",
   "language": "python",
   "name": "python3"
  },
  "language_info": {
   "codemirror_mode": {
    "name": "ipython",
    "version": 3
   },
   "file_extension": ".py",
   "mimetype": "text/x-python",
   "name": "python",
   "nbconvert_exporter": "python",
   "pygments_lexer": "ipython3",
   "version": "3.7.6"
  }
 },
 "nbformat": 4,
 "nbformat_minor": 4
}
