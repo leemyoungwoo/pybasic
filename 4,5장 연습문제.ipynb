{
 "cells": [
  {
   "cell_type": "markdown",
   "metadata": {},
   "source": [
    "# 4,5장 연습문제 풀이"
   ]
  },
  {
   "cell_type": "code",
   "execution_count": 1,
   "metadata": {},
   "outputs": [
    {
     "name": "stdout",
     "output_type": "stream",
     "text": [
      "* * * * * * * * * * \n",
      "* * * * * * * * * * \n",
      "* * * * * * * * * * \n",
      "* * * * * * * * * * \n",
      "* * * * * * * * * * \n"
     ]
    }
   ],
   "source": [
    "# 연습문제 1\n",
    "\n",
    "for i in range(5):\n",
    "    i = '* ' * 10\n",
    "    print(i)\n"
   ]
  },
  {
   "cell_type": "code",
   "execution_count": 2,
   "metadata": {},
   "outputs": [
    {
     "name": "stdout",
     "output_type": "stream",
     "text": [
      "* * * * * * * * * * \n",
      "* * * * * * * * * * \n",
      "* * * * * * * * * * \n",
      "* * * * * * * * * * \n",
      "* * * * * * * * * * \n"
     ]
    }
   ],
   "source": [
    "#연습문제 2\n",
    "\n",
    "x = 0\n",
    "\n",
    "while x < 5 :\n",
    "    print('* '*10)\n",
    "    x +=1"
   ]
  },
  {
   "cell_type": "code",
   "execution_count": 3,
   "metadata": {},
   "outputs": [
    {
     "name": "stdout",
     "output_type": "stream",
     "text": [
      "6 6 6 6 6 6 \n",
      "5 5 5 5 5 \n",
      "4 4 4 4 \n",
      "3 3 3 \n",
      "2 2 \n",
      "1 \n"
     ]
    }
   ],
   "source": [
    "#연습문제 3\n",
    "\n",
    "for i in range(6, 0, -1):\n",
    "    for x in range(i,0,-1):\n",
    "        print(i, end=' ')\n",
    "    \n",
    "    print()\n",
    "    "
   ]
  },
  {
   "cell_type": "code",
   "execution_count": 4,
   "metadata": {},
   "outputs": [
    {
     "name": "stdout",
     "output_type": "stream",
     "text": [
      "0 \n",
      "0 1 \n",
      "0 1 2 \n",
      "0 1 2 3 \n",
      "0 1 2 3 4 \n",
      "0 1 2 3 4 5 \n"
     ]
    }
   ],
   "source": [
    "#연습문제 4\n",
    "\n",
    "for i in range(6):\n",
    "    for x in range(i+1):\n",
    "        print(x,end=' ')\n",
    "    print()"
   ]
  },
  {
   "cell_type": "code",
   "execution_count": 5,
   "metadata": {},
   "outputs": [
    {
     "name": "stdout",
     "output_type": "stream",
     "text": [
      "********\n",
      "*      *\n",
      "*      *\n",
      "*      *\n",
      "*      *\n",
      "*      *\n",
      "*      *\n",
      "********\n"
     ]
    }
   ],
   "source": [
    "#연습문제 5\n",
    "\n",
    "for i in range(8):\n",
    "    if(i==0 or i==7):\n",
    "        print('*'*8)\n",
    "    else :\n",
    "        print('*      *')\n"
   ]
  },
  {
   "cell_type": "code",
   "execution_count": 6,
   "metadata": {},
   "outputs": [
    {
     "name": "stdout",
     "output_type": "stream",
     "text": [
      "1  + 3  + 5  + 7  + 9  + 11  + 13  + 15  + 17  + 19  + 21  + 23  + 25  + 27  + 29  + 31  + 33  + 35  + 37  + 39  + 41  + 43  + 45  + 47  + 49  + 51  + 53  + 55  + 57  + 59  + 61  + 63  + 65  + 67  + 69  + 71  + 73  + 75  + 77  + 79  + 81  + 83  + 85  + 87  + 89  + 91  + 93  + 95  + 97  + 99  =  2500\n"
     ]
    }
   ],
   "source": [
    "#연습문제 6\n",
    "\n",
    "sum = 0\n",
    "\n",
    "for i in range(100):\n",
    "    if(i%2!=0):\n",
    "        sum+=i\n",
    "        if(i==99):\n",
    "            print(i,' = ',sum)\n",
    "        else :\n",
    "            print(i,' + ', end='')"
   ]
  },
  {
   "cell_type": "code",
   "execution_count": 7,
   "metadata": {},
   "outputs": [
    {
     "name": "stdout",
     "output_type": "stream",
     "text": [
      "N의 값을 입력하세요 :12\n",
      "N의 값 :  12\n",
      "합계 :  55587848729466671350053056661666\n"
     ]
    }
   ],
   "source": [
    "#연습문제 7\n",
    "\n",
    "n =int(input('N의 값을 입력하세요 :'))\n",
    "\n",
    "print('N의 값 : ', n)\n",
    "\n",
    "sum = 0\n",
    "for i in range(1,n+1,1):\n",
    "    temp = (2*i)**((2*i)-1)\n",
    "#     print('N = %d : %d'%(i,temp))\n",
    "    sum += temp\n",
    "print('합계 : ', sum)"
   ]
  },
  {
   "cell_type": "code",
   "execution_count": 8,
   "metadata": {},
   "outputs": [
    {
     "name": "stdout",
     "output_type": "stream",
     "text": [
      "N값을 입력해주세요 : 200\n",
      "2 3 5 7 11 13 17 19 23 29 31 37 41 43 47 53 59 61 67 71 73 79 83 89 97 101 103 107 109 113 127 131 137 139 149 151 157 163 167 173 179 181 191 193 197 199 "
     ]
    }
   ],
   "source": [
    "#연습문제 8\n",
    "\n",
    "n = int(input('N값을 입력해주세요 : '))\n",
    "\n",
    "for i in range(2, n+1):\n",
    "    for x in range(2, i+1):\n",
    "        if i == x :\n",
    "            print(i, end = ' ')\n",
    "        elif i%x == 0 :\n",
    "            break"
   ]
  },
  {
   "cell_type": "code",
   "execution_count": 9,
   "metadata": {},
   "outputs": [
    {
     "name": "stdout",
     "output_type": "stream",
     "text": [
      "--------------------------------------------------\n",
      "달러($) 원화(원) 유로\n",
      "--------------------------------------------------\n",
      " 10    10800  8.10\n",
      " 20    21600  16.20\n",
      " 30    32400  24.30\n",
      " 40    43200  32.40\n",
      " 50    54000  40.50\n",
      " 60    64800  48.60\n",
      " 70    75600  56.70\n",
      " 80    86400  64.80\n",
      " 90    97200  72.90\n",
      "100   108000  81.00\n",
      "--------------------------------------------------\n"
     ]
    }
   ],
   "source": [
    "# 연습문제 9\n",
    "\n",
    "print('-'*50)\n",
    "print('달러($) 원화(원) 유로')\n",
    "print('-'*50)\n",
    "\n",
    "for dollar in range(10,101,10):\n",
    "    won = dollar * 1080\n",
    "    euro = dollar *0.81\n",
    "    print('%3d   %6d  %3.2f'% (dollar, won, euro))\n",
    "    \n",
    "print('-'*50)"
   ]
  },
  {
   "cell_type": "code",
   "execution_count": 10,
   "metadata": {},
   "outputs": [
    {
     "name": "stdout",
     "output_type": "stream",
     "text": [
      "--------------------------------------------------\n",
      "cm   mm   m   inch\n",
      "--------------------------------------------------\n",
      " 1   10  0.01  0.39\n",
      " 3   30  0.03  1.18\n",
      " 5   50  0.05  1.97\n",
      " 7   70  0.07  2.76\n",
      " 9   90  0.09  3.54\n",
      "11  110  0.11  4.33\n",
      "13  130  0.13  5.12\n",
      "15  150  0.15  5.91\n",
      "17  170  0.17  6.69\n",
      "19  190  0.19  7.48\n",
      "21  210  0.21  8.27\n",
      "23  230  0.23  9.06\n",
      "25  250  0.25  9.84\n",
      "27  270  0.27  10.63\n",
      "29  290  0.29  11.42\n",
      "31  310  0.31  12.20\n",
      "33  330  0.33  12.99\n",
      "35  350  0.35  13.78\n",
      "37  370  0.37  14.57\n",
      "39  390  0.39  15.35\n",
      "41  410  0.41  16.14\n",
      "43  430  0.43  16.93\n",
      "45  450  0.45  17.72\n",
      "47  470  0.47  18.50\n",
      "49  490  0.49  19.29\n",
      "51  510  0.51  20.08\n",
      "53  530  0.53  20.87\n",
      "55  550  0.55  21.65\n",
      "57  570  0.57  22.44\n",
      "59  590  0.59  23.23\n",
      "61  610  0.61  24.02\n",
      "63  630  0.63  24.80\n",
      "65  650  0.65  25.59\n",
      "67  670  0.67  26.38\n",
      "69  690  0.69  27.17\n",
      "71  710  0.71  27.95\n",
      "73  730  0.73  28.74\n",
      "75  750  0.75  29.53\n",
      "77  770  0.77  30.31\n",
      "79  790  0.79  31.10\n",
      "81  810  0.81  31.89\n",
      "83  830  0.83  32.68\n",
      "85  850  0.85  33.46\n",
      "87  870  0.87  34.25\n",
      "89  890  0.89  35.04\n",
      "91  910  0.91  35.83\n",
      "93  930  0.93  36.61\n",
      "95  950  0.95  37.40\n",
      "97  970  0.97  38.19\n",
      "99  990  0.99  38.98\n"
     ]
    }
   ],
   "source": [
    "#연습문제 10\n",
    "print('-'*50)\n",
    "print('cm   mm   m   inch')\n",
    "print('-'*50)\n",
    "\n",
    "for cm in range(1,100,2):\n",
    "    mm = cm*10\n",
    "    m = cm*0.01\n",
    "    inch = cm*0.3937\n",
    "    print('%2d  %3d  %.2f  %2.2f'%(cm,mm,m,inch))"
   ]
  },
  {
   "cell_type": "code",
   "execution_count": 11,
   "metadata": {},
   "outputs": [
    {
     "name": "stdout",
     "output_type": "stream",
     "text": [
      "가장 큰 수 :  10\n"
     ]
    }
   ],
   "source": [
    "#5장 연습문제 1\n",
    "\n",
    "data = [-12,3,-9,5,8,-2,0,-8,3,10]\n",
    "max = 0\n",
    "\n",
    "for i in range(len(data)):\n",
    "    if data[i]>max :\n",
    "        max = data[i]\n",
    "\n",
    "print('가장 큰 수 : ',max)"
   ]
  },
  {
   "cell_type": "code",
   "execution_count": 12,
   "metadata": {},
   "outputs": [
    {
     "name": "stdout",
     "output_type": "stream",
     "text": [
      "합계 : 8 평균 : 1.60\n"
     ]
    }
   ],
   "source": [
    "#연습문제 2 \n",
    "\n",
    "data = [-12,3,-9,5,8,-2,0,-8,3,10]\n",
    "\n",
    "i = 0\n",
    "sum = 0\n",
    "cnt = 0\n",
    "\n",
    "while i < len(data):\n",
    "    if (i%2!=0):\n",
    "        sum += data[i]\n",
    "        cnt += 1\n",
    "    i+=1\n",
    "\n",
    "avg = sum/cnt\n",
    "\n",
    "print('합계 : %d 평균 : %.2f' % (sum,avg))"
   ]
  },
  {
   "cell_type": "code",
   "execution_count": 13,
   "metadata": {},
   "outputs": [
    {
     "name": "stdout",
     "output_type": "stream",
     "text": [
      "[10, 8, 5, 3, 3, 0, -2, -8, -9, -12]\n"
     ]
    }
   ],
   "source": [
    "#연습문제 3\n",
    "\n",
    "data = [-12,3,-9,5,8,-2,0,-8,3,10]\n",
    "\n",
    "data.sort(reverse = True)\n",
    "print(data)"
   ]
  },
  {
   "cell_type": "code",
   "execution_count": 14,
   "metadata": {},
   "outputs": [
    {
     "name": "stdout",
     "output_type": "stream",
     "text": [
      "[-12, 3, -9, 100, 5, 8, -2, 0, -8, 3, 10]\n"
     ]
    }
   ],
   "source": [
    "#연습문제 4\n",
    "\n",
    "data = [-12,3,-9,5,8,-2,0,-8,3,10]\n",
    "data.insert(3,100)\n",
    "print(data)"
   ]
  },
  {
   "cell_type": "code",
   "execution_count": 15,
   "metadata": {},
   "outputs": [
    {
     "name": "stdout",
     "output_type": "stream",
     "text": [
      "[3, -9, 5, 8, -2, 0, -8, 3, 10]\n"
     ]
    }
   ],
   "source": [
    "#연습문제 5\n",
    "\n",
    "data = [-12,3,-9,5,8,-2,0,-8,3,10]\n",
    "index = data.index(-12)\n",
    "data.pop(index)\n",
    "print(data)"
   ]
  },
  {
   "cell_type": "code",
   "execution_count": 16,
   "metadata": {},
   "outputs": [
    {
     "name": "stdout",
     "output_type": "stream",
     "text": [
      "흑돌의 개수 :  17\n",
      "백돌의 개수 :  16\n"
     ]
    }
   ],
   "source": [
    "#연습문제 6\n",
    "\n",
    "stone = [[0,0,0,0,0,0,0,0,0],\n",
    "         [0,1,0,1,2,1,2,1,0],\n",
    "         [0,2,1,1,1,2,2,0,0],\n",
    "         [0,0,2,2,2,1,0,2,0],\n",
    "         [0,0,0,0,0,1,0,2,1],\n",
    "         [0,0,0,2,0,1,2,1,0],\n",
    "         [0,0,0,2,1,0,1,1,0],\n",
    "         [0,0,0,1,1,0,0,0,0],\n",
    "         [0,0,0,0,2,2,2,0,0]]\n",
    "\n",
    "count_black = 0\n",
    "count_white = 0\n",
    "\n",
    "for i in range(len(stone)) :\n",
    "    count_black += stone[i].count(1)\n",
    "    count_white += stone[i].count(2)\n",
    "    \n",
    "print('흑돌의 개수 :  %d'%count_black)\n",
    "print('백돌의 개수 :  %d'%count_white)"
   ]
  },
  {
   "cell_type": "code",
   "execution_count": 17,
   "metadata": {},
   "outputs": [
    {
     "name": "stdout",
     "output_type": "stream",
     "text": [
      "X  X  X  X  X  X  X  X  X  \n",
      "X  ● X  ● ○ ● ○ ● X  \n",
      "X  ○ ● ● ● ○ ○ X  X  \n",
      "X  X  ○ ○ ○ ● X  ○ X  \n",
      "X  X  X  X  X  ● X  ○ ● \n",
      "X  X  X  ○ X  ● ○ ● X  \n",
      "X  X  X  ○ ● X  ● ● X  \n",
      "X  X  X  ● ● X  X  X  X  \n",
      "X  X  X  X  ○ ○ ○ X  X  \n"
     ]
    }
   ],
   "source": [
    "#연습문제 7\n",
    "\n",
    "stone = [[0,0,0,0,0,0,0,0,0],\n",
    "         [0,1,0,1,2,1,2,1,0],\n",
    "         [0,2,1,1,1,2,2,0,0],\n",
    "         [0,0,2,2,2,1,0,2,0],\n",
    "         [0,0,0,0,0,1,0,2,1],\n",
    "         [0,0,0,2,0,1,2,1,0],\n",
    "         [0,0,0,2,1,0,1,1,0],\n",
    "         [0,0,0,1,1,0,0,0,0],\n",
    "         [0,0,0,0,2,2,2,0,0]]\n",
    "\n",
    "for i in range (len(stone)):\n",
    "    for x in range(len(stone[i])):\n",
    "        if stone[i][x] == 0:\n",
    "            print('X','',end=' ')\n",
    "        elif stone[i][x] == 1:\n",
    "            print('●','',end='')\n",
    "        else:\n",
    "            print('○','',end='')\n",
    "    print()"
   ]
  },
  {
   "cell_type": "code",
   "execution_count": 18,
   "metadata": {},
   "outputs": [
    {
     "name": "stdout",
     "output_type": "stream",
     "text": [
      "    01   02   03   04   05   06   07   08   09   \n",
      "01   X    X    X    X    X    X    X    X    X   \n",
      "02   X    ●   X    ●   ○   ●   ○   ●   X   \n",
      "03   X    ○   ●   ●   ●   ○   ○   X    X   \n",
      "04   X    X    ○   ○   ○   ●   X    ○   X   \n",
      "05   X    X    X    X    X    ●   X    ○   ●  \n",
      "06   X    X    X    ○   X    ●   ○   ●   X   \n",
      "07   X    X    X    ○   ●   X    ●   ●   X   \n",
      "08   X    X    X    ●   ●   X    X    X    X   \n",
      "09   X    X    X    X    ○   ○   ○   X    X   \n"
     ]
    }
   ],
   "source": [
    "#연습문제 8\n",
    "\n",
    "stone = [[0,0,0,0,0,0,0,0,0],\n",
    "         [0,1,0,1,2,1,2,1,0],\n",
    "         [0,2,1,1,1,2,2,0,0],\n",
    "         [0,0,2,2,2,1,0,2,0],\n",
    "         [0,0,0,0,0,1,0,2,1],\n",
    "         [0,0,0,2,0,1,2,1,0],\n",
    "         [0,0,0,2,1,0,1,1,0],\n",
    "         [0,0,0,1,1,0,0,0,0],\n",
    "         [0,0,0,0,2,2,2,0,0]]\n",
    "\n",
    "stone1 = list(i for i in range(1,10))\n",
    "stone.insert(0,stone1)\n",
    "for a in range(0,len(stone)):\n",
    "    for b in range(0,1):\n",
    "        stone[a].insert(0,a)\n",
    "for i in range(0,len(stone)):\n",
    "    for j in range(0,len(stone[i])):\n",
    "        if i == 0 and j == 0:\n",
    "            print('    ',end='')\n",
    "        elif i == 0 and j != 0:\n",
    "            print('%02d  ' %stone[i][j],end=' ')\n",
    "            continue\n",
    "        elif i!= 0 and j == 0:\n",
    "            print('%02d ' %stone[i][j],end=' ')\n",
    "        else :\n",
    "            if stone[i][j] == 0:\n",
    "                print(' X ','',end=' ')\n",
    "            elif stone[i][j] == 1:\n",
    "                print(' ● ','',end='')\n",
    "            else:\n",
    "                print(' ○ ','',end='')\n",
    "    print()\n"
   ]
  },
  {
   "cell_type": "code",
   "execution_count": 2,
   "metadata": {},
   "outputs": [
    {
     "name": "stdout",
     "output_type": "stream",
     "text": [
      "  01 02 03 04 05 06 07 08 09 \n",
      "01 x  x  x  x  x  x  x  x  x  \n",
      "02 x  ● x  ● ○ ● ○ ● x  \n",
      "03 x  ○ ● ● ● ○ ○ x  x  \n",
      "04 x  x  ○ ○ ○ ● x  ○ x  \n",
      "05 x  x  x  x  x  ● x  ○ ● \n",
      "06 x  x  x  ○ x  ● ○ ● x  \n",
      "07 x  x  x  ○ ● x  ● ● x  \n",
      "08 x  x  x  ● ● x  x  x  x  \n",
      "09 x  x  x  x  ○ ○ ○ x  x  \n",
      "X축 좌표값을 입력하세요(1~9, 종료 시 -1 입력) :9\n",
      "Y축 좌표값을 입력하세요(1~9, 종료 시 -1 입력) :5\n",
      "흑돌\n",
      "X축 좌표값을 입력하세요(1~9, 종료 시 -1 입력) :7\n",
      "Y축 좌표값을 입력하세요(1~9, 종료 시 -1 입력) :2\n",
      "돌 없음\n",
      "X축 좌표값을 입력하세요(1~9, 종료 시 -1 입력) :4\n",
      "Y축 좌표값을 입력하세요(1~9, 종료 시 -1 입력) :1\n",
      "돌 없음\n",
      "X축 좌표값을 입력하세요(1~9, 종료 시 -1 입력) :-1\n",
      "종료되었습니다!\n"
     ]
    }
   ],
   "source": [
    "#연습문제 9\n",
    "stone = [[0,0,0,0,0,0,0,0,0],\n",
    "         [0,1,0,1,2,1,2,1,0],\n",
    "         [0,2,1,1,1,2,2,0,0],\n",
    "         [0,0,2,2,2,1,0,2,0],\n",
    "         [0,0,0,0,0,1,0,2,1],\n",
    "         [0,0,0,2,0,1,2,1,0],\n",
    "         [0,0,0,2,1,0,1,1,0],\n",
    "         [0,0,0,1,1,0,0,0,0],\n",
    "         [0,0,0,0,2,2,2,0,0]]\n",
    "\n",
    "stone1 = list(i for i in range(1,10))\n",
    "stone.insert(0,stone1)\n",
    "for x in range(0, len(stone)):\n",
    "    for y in range(0,1):\n",
    "        stone[x].insert(0,x)\n",
    "for i in range(0,len(stone)):\n",
    "    for j in range(0,len(stone[i])):\n",
    "        if i == 0 and j == 0:\n",
    "            print(' ', end =' ')\n",
    "        elif i == 0 and j !=0:\n",
    "            print('%02d ' %stone[i][j], end='')\n",
    "            continue\n",
    "        elif i!=0 and j == 0:\n",
    "            print('%02d ' %stone[i][j], end='')\n",
    "        else :\n",
    "            if stone[i][j] == 0:4\n",
    "                print('x',' ',end='')\n",
    "            elif stone[i][j] == 1:\n",
    "                print('●','', end='')\n",
    "            else:\n",
    "                print('○','',end='')\n",
    "    print()\n",
    "\n",
    "    \n",
    "x=0\n",
    "y=0\n",
    "    \n",
    "while True:\n",
    "    x = int(input('X축 좌표값을 입력하세요(1~9, 종료 시 -1 입력) :'))\n",
    "    if x == -1 or y == -1:\n",
    "        print('종료되었습니다!')\n",
    "        break\n",
    "    y = int(input('Y축 좌표값을 입력하세요(1~9, 종료 시 -1 입력) :'))\n",
    "    if x == -1 or y == -1:\n",
    "        print('종료되었습니다!')\n",
    "        break\n",
    "    if stone[x][y] == 0:\n",
    "        print('돌 없음')\n",
    "    elif stone[x][y] == 1:\n",
    "        print('백돌')\n",
    "    else :\n",
    "        print('흑돌')"
   ]
  },
  {
   "cell_type": "code",
   "execution_count": null,
   "metadata": {},
   "outputs": [],
   "source": []
  }
 ],
 "metadata": {
  "kernelspec": {
   "display_name": "Python 3",
   "language": "python",
   "name": "python3"
  },
  "language_info": {
   "codemirror_mode": {
    "name": "ipython",
    "version": 3
   },
   "file_extension": ".py",
   "mimetype": "text/x-python",
   "name": "python",
   "nbconvert_exporter": "python",
   "pygments_lexer": "ipython3",
   "version": "3.7.6"
  }
 },
 "nbformat": 4,
 "nbformat_minor": 4
}
