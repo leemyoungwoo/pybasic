{
 "cells": [
  {
   "cell_type": "code",
   "execution_count": 1,
   "metadata": {},
   "outputs": [
    {
     "name": "stdout",
     "output_type": "stream",
     "text": [
      "안녕하세요.\n",
      "안녕하세요.\n",
      "안녕하세요.\n",
      "안녕하세요.\n",
      "안녕하세요.\n"
     ]
    }
   ],
   "source": [
    "# ex4-1.py\n",
    "for x in range(5) :\n",
    "    print('안녕하세요.')"
   ]
  },
  {
   "cell_type": "code",
   "execution_count": 2,
   "metadata": {},
   "outputs": [
    {
     "name": "stdout",
     "output_type": "stream",
     "text": [
      "안녕하세요.\n",
      "안녕하세요.\n",
      "안녕하세요.\n",
      "안녕하세요.\n",
      "안녕하세요.\n"
     ]
    }
   ],
   "source": [
    "# ex4-2.py\n",
    "x = 0\n",
    "while x < 5 :\n",
    "    print('안녕하세요.')\n",
    "    x += 1"
   ]
  },
  {
   "cell_type": "code",
   "execution_count": 14,
   "metadata": {},
   "outputs": [
    {
     "name": "stdout",
     "output_type": "stream",
     "text": [
      "i의 값 : 1, 합계 : 1\n",
      "i의 값 : 2, 합계 : 3\n",
      "i의 값 : 3, 합계 : 6\n",
      "i의 값 : 4, 합계 : 10\n",
      "i의 값 : 5, 합계 : 15\n",
      "i의 값 : 6, 합계 : 21\n",
      "i의 값 : 7, 합계 : 28\n",
      "i의 값 : 8, 합계 : 36\n",
      "i의 값 : 9, 합계 : 45\n",
      "i의 값 : 10, 합계 : 55\n"
     ]
    }
   ],
   "source": [
    "# ex4-3.py\n",
    "sum = 0\n",
    "\n",
    "for i in range(1, 11) :\n",
    "    sum += i\n",
    "    print('i의 값 : %d, 합계 : %d' % (i, sum))"
   ]
  },
  {
   "cell_type": "code",
   "execution_count": 3,
   "metadata": {},
   "outputs": [
    {
     "name": "stdout",
     "output_type": "stream",
     "text": [
      "0 1 2 3 4 5 6 7 8 9 \n",
      "1 2 3 4 5 6 7 8 9 10 \n",
      "1 3 5 7 9 \n",
      "20 18 16 14 12 10 8 6 4 2 "
     ]
    }
   ],
   "source": [
    "# ex4-4.py\n",
    "for i in range(10) :\n",
    "    print(i, end =' ')\n",
    "print()\n",
    "\n",
    "for i in range(1, 11) :\n",
    "    print(i, end =' ')\n",
    "print()\n",
    "\n",
    "for i in range(1, 10, 2) :\n",
    "    print(i, end =' ')\n",
    "print()\n",
    "\n",
    "for i in range(20, 0, -2) :\n",
    "    print(i, end =' ')\n"
   ]
  },
  {
   "cell_type": "code",
   "execution_count": 6,
   "metadata": {},
   "outputs": [
    {
     "name": "stdout",
     "output_type": "stream",
     "text": [
      "3 6 9 12 15 18 21 24 27 30 33 36 39 42 45 48 51 54 57 60 63 66 69 72 75 78 81 84 87 90 93 96 99 \n",
      " --------------------------------------------------\n",
      "1~100에서 3의 배수의 합계 : 1683\n"
     ]
    }
   ],
   "source": [
    "# ex4-5.py\n",
    "sum = 0\n",
    "for i in range(1, 101) :\n",
    "    if i%3 == 0 :\n",
    "        print('%d' % i, end = ' ')\n",
    "        sum += i\n",
    "\n",
    "print('\\n','-' * 50)\n",
    "print('1~100에서 3의 배수의 합계 : %d' % sum)"
   ]
  },
  {
   "cell_type": "code",
   "execution_count": 2,
   "metadata": {},
   "outputs": [
    {
     "name": "stdout",
     "output_type": "stream",
     "text": [
      "영어 문장을 입력하세요 : I see!\n",
      "I\n",
      " \n",
      "s\n",
      "e\n",
      "e\n",
      "!\n"
     ]
    }
   ],
   "source": [
    "# ex4-6.py\n",
    "word = input('영어 문장을 입력하세요 : ') \n",
    "\n",
    "for x in word : \n",
    "    print(x)\n"
   ]
  },
  {
   "cell_type": "code",
   "execution_count": 4,
   "metadata": {},
   "outputs": [
    {
     "name": "stdout",
     "output_type": "stream",
     "text": [
      "------------------------------\n",
      "    섭씨     화씨\n",
      "------------------------------\n",
      "     -20    -4.0\n",
      "     -15     5.0\n",
      "     -10    14.0\n",
      "      -5    23.0\n",
      "       0    32.0\n",
      "       5    41.0\n",
      "      10    50.0\n",
      "      15    59.0\n",
      "      20    68.0\n",
      "      25    77.0\n",
      "      30    86.0\n",
      "------------------------------\n"
     ]
    }
   ],
   "source": [
    "# ex4-7.py\n",
    "print('-' * 30) \n",
    "print('    섭씨     화씨')\n",
    "print('-' * 30) \n",
    "\n",
    "for c in range(-20, 31, 5) : \n",
    "    f = c * 9.0/ 5.0 + 32.0 \n",
    "    print('%8d  %6.1f' % (c, f))   \n",
    "     \n",
    "print('-' * 30)"
   ]
  },
  {
   "cell_type": "code",
   "execution_count": 7,
   "metadata": {},
   "outputs": [
    {
     "name": "stdout",
     "output_type": "stream",
     "text": [
      "2 x 1 = 2\n",
      "2 x 2 = 4\n",
      "2 x 3 = 6\n",
      "2 x 4 = 8\n",
      "2 x 5 = 10\n",
      "2 x 6 = 12\n",
      "2 x 7 = 14\n",
      "2 x 8 = 16\n",
      "2 x 9 = 18\n"
     ]
    }
   ],
   "source": [
    "# ex4-8.py\n",
    "a = 2 \n",
    "\n",
    "for b in range(1, 10) :\n",
    "    c = a * b\n",
    "    print('%d x %d = %d' % (a, b, c))\n"
   ]
  },
  {
   "cell_type": "code",
   "execution_count": 8,
   "metadata": {},
   "outputs": [
    {
     "name": "stdout",
     "output_type": "stream",
     "text": [
      "--------------------------------------------------\n",
      "2 x 1 = 2\n",
      "2 x 2 = 4\n",
      "2 x 3 = 6\n",
      "2 x 4 = 8\n",
      "2 x 5 = 10\n",
      "2 x 6 = 12\n",
      "2 x 7 = 14\n",
      "2 x 8 = 16\n",
      "2 x 9 = 18\n",
      "--------------------------------------------------\n",
      "3 x 1 = 3\n",
      "3 x 2 = 6\n",
      "3 x 3 = 9\n",
      "3 x 4 = 12\n",
      "3 x 5 = 15\n",
      "3 x 6 = 18\n",
      "3 x 7 = 21\n",
      "3 x 8 = 24\n",
      "3 x 9 = 27\n",
      "--------------------------------------------------\n",
      "4 x 1 = 4\n",
      "4 x 2 = 8\n",
      "4 x 3 = 12\n",
      "4 x 4 = 16\n",
      "4 x 5 = 20\n",
      "4 x 6 = 24\n",
      "4 x 7 = 28\n",
      "4 x 8 = 32\n",
      "4 x 9 = 36\n",
      "--------------------------------------------------\n",
      "5 x 1 = 5\n",
      "5 x 2 = 10\n",
      "5 x 3 = 15\n",
      "5 x 4 = 20\n",
      "5 x 5 = 25\n",
      "5 x 6 = 30\n",
      "5 x 7 = 35\n",
      "5 x 8 = 40\n",
      "5 x 9 = 45\n",
      "--------------------------------------------------\n",
      "6 x 1 = 6\n",
      "6 x 2 = 12\n",
      "6 x 3 = 18\n",
      "6 x 4 = 24\n",
      "6 x 5 = 30\n",
      "6 x 6 = 36\n",
      "6 x 7 = 42\n",
      "6 x 8 = 48\n",
      "6 x 9 = 54\n",
      "--------------------------------------------------\n",
      "7 x 1 = 7\n",
      "7 x 2 = 14\n",
      "7 x 3 = 21\n",
      "7 x 4 = 28\n",
      "7 x 5 = 35\n",
      "7 x 6 = 42\n",
      "7 x 7 = 49\n",
      "7 x 8 = 56\n",
      "7 x 9 = 63\n",
      "--------------------------------------------------\n",
      "8 x 1 = 8\n",
      "8 x 2 = 16\n",
      "8 x 3 = 24\n",
      "8 x 4 = 32\n",
      "8 x 5 = 40\n",
      "8 x 6 = 48\n",
      "8 x 7 = 56\n",
      "8 x 8 = 64\n",
      "8 x 9 = 72\n",
      "--------------------------------------------------\n",
      "9 x 1 = 9\n",
      "9 x 2 = 18\n",
      "9 x 3 = 27\n",
      "9 x 4 = 36\n",
      "9 x 5 = 45\n",
      "9 x 6 = 54\n",
      "9 x 7 = 63\n",
      "9 x 8 = 72\n",
      "9 x 9 = 81\n",
      "--------------------------------------------------\n"
     ]
    }
   ],
   "source": [
    "# ex4-9.py\n",
    "print('-' * 50)\n",
    "\n",
    "for a in range(2, 10) :         \n",
    "    for b in range(1, 10) :\n",
    "        c = a * b\n",
    "        print('%d x %d = %d' % (a, b, c))\n",
    "           \n",
    "    print('-' * 50)\n"
   ]
  },
  {
   "cell_type": "code",
   "execution_count": 12,
   "metadata": {},
   "outputs": [
    {
     "name": "stdout",
     "output_type": "stream",
     "text": [
      "i의 값 : 1 => 합계 : 1\n",
      "i의 값 : 2 => 합계 : 3\n",
      "i의 값 : 3 => 합계 : 6\n",
      "i의 값 : 4 => 합계 : 10\n",
      "i의 값 : 5 => 합계 : 15\n",
      "i의 값 : 6 => 합계 : 21\n",
      "i의 값 : 7 => 합계 : 28\n",
      "i의 값 : 8 => 합계 : 36\n",
      "i의 값 : 9 => 합계 : 45\n",
      "i의 값 : 10 => 합계 : 55\n"
     ]
    }
   ],
   "source": [
    "# ex4-10.py\n",
    "sum = 0\n",
    "i = 1\n",
    "\n",
    "while i <= 10 :\n",
    "    sum += i\n",
    "    print('i의 값 : %d => 합계 : %d' % (i, sum))\n",
    "    i += 1\n"
   ]
  },
  {
   "cell_type": "code",
   "execution_count": 18,
   "metadata": {},
   "outputs": [
    {
     "name": "stdout",
     "output_type": "stream",
     "text": [
      "첫 수를 입력하세요 : 100\n",
      "끝 수를 입력하세요 : 300\n",
      "합계를 구하고자 하는 배수를 입력하세요 : 5\n",
      "100~300까지의 정수 중 5의 배수의 합계 : 8200\n"
     ]
    }
   ],
   "source": [
    "# ex4-11.py\n",
    "n1 = int(input('첫 수를 입력하세요 : '))\n",
    "n2 = int(input('끝 수를 입력하세요 : '))\n",
    "n = int(input('합계를 구하고자 하는 배수를 입력하세요 : '))\n",
    "\n",
    "sum = 0\n",
    "i = n1\n",
    "\n",
    "while i < n2+1 :\n",
    "    if i%n == 0 :\n",
    "        sum += i\n",
    "\n",
    "    i += 1\n",
    "    \n",
    "print('%d~%d까지의 정수 중 %d의 배수의 합계 : %d' % (n1, n2, n, sum))\n"
   ]
  },
  {
   "cell_type": "code",
   "execution_count": 23,
   "metadata": {},
   "outputs": [
    {
     "name": "stdout",
     "output_type": "stream",
     "text": [
      "영어 문장을 입력하세요 :We are the champion.\n",
      "모음 : e a e e a i o \n",
      "모음의 개수 : 7\n"
     ]
    }
   ],
   "source": [
    "# ex4-12.py\n",
    "s = input('영어 문장을 입력하세요 :')\n",
    "\n",
    "i = 0\n",
    "count = 0\n",
    "\n",
    "print('모음 : ', end = '')\n",
    "\n",
    "while i <= len(s) - 1 :\n",
    "    if (s[i] == 'a' or s[i] == 'A'  or s[i] == 'e' or s[i] == 'E' \\\n",
    "        or  s[i] == 'i' or s[i] == 'I' or s[i] == 'o' or s[i] == 'O' \\\n",
    "        or s[i] == 'u' or s[i] == 'U') :\n",
    "        count += 1\n",
    "        print(s[i], end=' ')\n",
    "        \n",
    "    i += 1\n",
    "    \n",
    "print('\\n모음의 개수 : %d' % count)"
   ]
  },
  {
   "cell_type": "code",
   "execution_count": 24,
   "metadata": {},
   "outputs": [
    {
     "name": "stdout",
     "output_type": "stream",
     "text": [
      "1\n",
      "2\n",
      "3\n",
      "4\n",
      "5\n",
      "6\n",
      "7\n",
      "8\n",
      "9\n",
      "10\n"
     ]
    }
   ],
   "source": [
    "# ex4-13.py\n",
    "for i in range(1, 1001) :\n",
    "    print(i)\n",
    "\n",
    "    if i == 10 :\n",
    "        break"
   ]
  },
  {
   "cell_type": "code",
   "execution_count": null,
   "metadata": {},
   "outputs": [],
   "source": []
  }
 ],
 "metadata": {
  "kernelspec": {
   "display_name": "Python 3",
   "language": "python",
   "name": "python3"
  },
  "language_info": {
   "codemirror_mode": {
    "name": "ipython",
    "version": 3
   },
   "file_extension": ".py",
   "mimetype": "text/x-python",
   "name": "python",
   "nbconvert_exporter": "python",
   "pygments_lexer": "ipython3",
   "version": "3.7.4"
  }
 },
 "nbformat": 4,
 "nbformat_minor": 2
}
