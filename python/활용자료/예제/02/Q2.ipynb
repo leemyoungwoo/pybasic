{
 "cells": [
  {
   "cell_type": "code",
   "execution_count": 15,
   "metadata": {},
   "outputs": [
    {
     "name": "stdout",
     "output_type": "stream",
     "text": [
      "삼각형의 밑변 길이 : 10\n",
      "삼각형의 높이 : 3\n",
      "삼각형의 면적 : 15.0\n"
     ]
    }
   ],
   "source": [
    "# Q2-1.py\n",
    "width  = 10\n",
    "height = 3\n",
    "\n",
    "area = width * height / 2\n",
    "\n",
    "print('삼각형의 밑변 길이 :', width)\n",
    "print('삼각형의 높이 :', height)\n",
    "print('삼각형의 면적 :', area)"
   ]
  },
  {
   "cell_type": "code",
   "execution_count": 1,
   "metadata": {},
   "outputs": [
    {
     "name": "stdout",
     "output_type": "stream",
     "text": [
      "물건가격 : 800 원\n",
      "구매개수 : 3 개\n",
      "지불금액 : 5000 원\n",
      "거스름돈 : 2600 원\n"
     ]
    }
   ],
   "source": [
    "# Q2-2.py\n",
    "price = 800\n",
    "buy = 3\n",
    "pay = 5000\n",
    "\n",
    "change = pay - price * buy\n",
    "\n",
    "print('물건가격 :', price, '원')\n",
    "print('구매개수 :', buy, '개')\n",
    "print('지불금액 :', pay, '원')\n",
    "print('거스름돈 :', change, '원')"
   ]
  },
  {
   "cell_type": "code",
   "execution_count": 27,
   "metadata": {},
   "outputs": [
    {
     "name": "stdout",
     "output_type": "stream",
     "text": [
      "4\n",
      "4 -8\n"
     ]
    }
   ],
   "source": [
    "# Q2-3.py\n",
    "x = 20\n",
    "y = 4\n",
    "\n",
    "x = y % x\n",
    "print(x)\n",
    "\n",
    "y -= x * 3\n",
    "print(x, y)"
   ]
  },
  {
   "cell_type": "code",
   "execution_count": 33,
   "metadata": {},
   "outputs": [
    {
     "name": "stdout",
     "output_type": "stream",
     "text": [
      "성 : 홍\n",
      "이름 : 길동\n",
      "홍길동의 나이 : 30세, 키 : 171.50cm\n"
     ]
    }
   ],
   "source": [
    "# Q2-4.py\n",
    "name = \"홍길동\"\n",
    "age = 30\n",
    "height = 171.5\n",
    "\n",
    "print('성 :', name[0])\n",
    "print('이름 :', name[1:])\n",
    "print(\"%s의 나이 : %d세, 키 : %.2fcm\" % (name, age, height))"
   ]
  },
  {
   "cell_type": "code",
   "execution_count": 36,
   "metadata": {},
   "outputs": [
    {
     "name": "stdout",
     "output_type": "stream",
     "text": [
      "학생 이름을 입력하세요 :황예린\n",
      "국어 성적을 입력하세요 :83\n",
      "영어 성적을 입력하세요 :85\n",
      "수학 성적을 입력하세요 :91\n",
      "이름:황예린, 국어:83, 영어:85,수학:91, 평균:86.3점\n"
     ]
    }
   ],
   "source": [
    "# Q2-5.py\n",
    "name = input('학생 이름을 입력하세요 :')\n",
    "kor = int(input('국어 성적을 입력하세요 :'))\n",
    "eng = int(input('영어 성적을 입력하세요 :'))\n",
    "math = int(input('수학 성적을 입력하세요 :'))\n",
    "\n",
    "total = kor + eng + math\n",
    "avg = total / 3\n",
    "\n",
    "print('이름:%s, 국어:%d, 영어:%d,수학:%d, 평균:%.1f점' % (name, kor, eng, math, avg))"
   ]
  },
  {
   "cell_type": "code",
   "execution_count": null,
   "metadata": {},
   "outputs": [],
   "source": []
  }
 ],
 "metadata": {
  "kernelspec": {
   "display_name": "Python 3",
   "language": "python",
   "name": "python3"
  },
  "language_info": {
   "codemirror_mode": {
    "name": "ipython",
    "version": 3
   },
   "file_extension": ".py",
   "mimetype": "text/x-python",
   "name": "python",
   "nbconvert_exporter": "python",
   "pygments_lexer": "ipython3",
   "version": "3.7.4"
  }
 },
 "nbformat": 4,
 "nbformat_minor": 2
}
