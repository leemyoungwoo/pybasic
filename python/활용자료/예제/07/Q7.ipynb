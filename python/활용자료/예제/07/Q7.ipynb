{
 "cells": [
  {
   "cell_type": "code",
   "execution_count": 5,
   "metadata": {},
   "outputs": [
    {
     "name": "stdout",
     "output_type": "stream",
     "text": [
      "10 ~ 100의 정수 합계 : 5005\n",
      "100 ~ 1000의 정수 합계 : 495550\n",
      "1000 ~ 10000의 정수 합계 : 49505500\n"
     ]
    }
   ],
   "source": [
    "# Q7-1.py\n",
    "def sum(start, end) :\n",
    "    total = 0\n",
    "    for i in range(start, end+1) :\n",
    "        total += i\n",
    "    print('%d ~ %d의 정수 합계 : %d' % (start, end, total))\n",
    "    \n",
    "sum(10, 100)\n",
    "sum(100, 1000)\n",
    "sum(1000, 10000)"
   ]
  },
  {
   "cell_type": "code",
   "execution_count": 11,
   "metadata": {},
   "outputs": [
    {
     "name": "stdout",
     "output_type": "stream",
     "text": [
      "시작 수를 입력하세요: 10\n",
      "끝 수를 입력하세요: 100\n",
      "합계를 구할 배수를 입력하세요: 5\n",
      "10 ~ 100의 정수 중 5의 배수의 합 : 1045\n"
     ]
    }
   ],
   "source": [
    "# Q7-2.py\n",
    "def sum_besu(n1, n2, num) :\n",
    "    sum = 0\n",
    "    for i in range(n1, n2+1) :\n",
    "        if i % num == 0 :\n",
    "            sum += i\n",
    "\n",
    "    return sum\n",
    "\n",
    "start = int(input('시작 수를 입력하세요: '))\n",
    "end = int(input('끝 수를 입력하세요: '))\n",
    "besu = int(input('합계를 구할 배수를 입력하세요: '))\n",
    "\n",
    "result = sum_besu(start, end, besu)\n",
    "\n",
    "print('%d ~ %d의 정수 중 %d의 배수의 합 : %d' % (start, end, besu, result))"
   ]
  },
  {
   "cell_type": "code",
   "execution_count": 15,
   "metadata": {},
   "outputs": [
    {
     "name": "stdout",
     "output_type": "stream",
     "text": [
      "첫 번째 수를 입력하세요: 33\n",
      "두 번째 수를 입력하세요: 44\n",
      "33과(와) 44의 최대공약수 : 11\n"
     ]
    }
   ],
   "source": [
    "# Q7-3.py\n",
    "def computeMaxGong(x, y):\n",
    "    if x > y:\n",
    "        small = y\n",
    "    else:\n",
    "        small = x\n",
    "        \n",
    "    for i in range(1, small+1):\n",
    "        if((x % i == 0) and (y % i == 0)):\n",
    "            result = i\n",
    "    return result\n",
    "\n",
    "num1 = int(input(\"첫 번째 수를 입력하세요: \"))\n",
    "num2 = int(input(\"두 번째 수를 입력하세요: \"))\n",
    "\n",
    "max_gong = computeMaxGong(num1, num2)\n",
    "\n",
    "print('%d과(와) %d의 최대공약수 : %d' % (num1, num2, max_gong))"
   ]
  },
  {
   "cell_type": "code",
   "execution_count": 1,
   "metadata": {},
   "outputs": [
    {
     "name": "stdout",
     "output_type": "stream",
     "text": [
      "오렌지에 맞는 영어 단어는? orange\n",
      "맞습니다!\n",
      "과자에 맞는 영어 단어는? cookie\n",
      "맞습니다!\n",
      "어머니에 맞는 영어 단어는? motheer\n",
      "틀렸습니다!\n",
      "형제에 맞는 영어 단어는? brother\n",
      "맞습니다!\n",
      "파이썬에 맞는 영어 단어는? pithon\n",
      "틀렸습니다!\n"
     ]
    }
   ],
   "source": [
    "# Q7-4.py\n",
    "def matchWord(word, answer) : \n",
    "   if word == answer : \n",
    "      msg = '맞습니다!' \n",
    "   else : \n",
    "      msg = '틀렸습니다!' \n",
    "   return msg \n",
    "\n",
    "eng_dict = {'orange':'오렌지', 'cookie':'과자', 'mother':'어머니', 'brother':'형제', 'python':'파이썬'} \n",
    "\n",
    "for key in eng_dict : \n",
    "    string = input(eng_dict[key] + '에 맞는 영어 단어는? ') \n",
    "    result = matchWord(string, key) \n",
    "    print(result)"
   ]
  },
  {
   "cell_type": "code",
   "execution_count": 23,
   "metadata": {},
   "outputs": [
    {
     "name": "stdout",
     "output_type": "stream",
     "text": [
      "첫 번째 수를 입력하세요: 33\n",
      "두 번째 수를 입력하세요: 77\n",
      "세 번째 수를 입력하세요: -21\n",
      "33, 77, -21 중 가장 큰 수 : 77\n"
     ]
    }
   ],
   "source": [
    "# Q7-5.py\n",
    "def maxTwo(i, j):\n",
    "    if i > j:\n",
    "        return i\n",
    "    else :\n",
    "        return j\n",
    "\n",
    "def maxThree(x, y, z) :\n",
    "    max1 = maxTwo(x, y)\n",
    "    max2 = maxTwo(y, z)\n",
    "    \n",
    "    if max1 > max2 : \n",
    "        largest = max1\n",
    "    else :\n",
    "        largest = max2\n",
    "            \n",
    "    return largest\n",
    "\n",
    "a = int(input('첫 번째 수를 입력하세요: '))\n",
    "b = int(input('두 번째 수를 입력하세요: '))\n",
    "c = int(input('세 번째 수를 입력하세요: '))\n",
    "\n",
    "max_num = maxThree(a, b, c)\n",
    "\n",
    "print('%d, %d, %d 중 가장 큰 수 : %d' % (a, b, c, max_num))"
   ]
  },
  {
   "cell_type": "code",
   "execution_count": 2,
   "metadata": {},
   "outputs": [
    {
     "name": "stdout",
     "output_type": "stream",
     "text": [
      "--------------------------------------------------\n",
      "김소영\n",
      "합계 : 445, 평균 : 89.00\n",
      "--------------------------------------------------\n",
      "정예린\n",
      "합계 : 455, 평균 : 91.00\n",
      "--------------------------------------------------\n",
      "이세영\n",
      "합계 : 449, 평균 : 89.80\n",
      "--------------------------------------------------\n",
      "정수정\n",
      "합계 : 460, 평균 : 92.00\n",
      "--------------------------------------------------\n",
      "박지수\n",
      "합계 : 454, 평균 : 90.80\n",
      "--------------------------------------------------\n"
     ]
    }
   ],
   "source": [
    "# Q7-6.py\n",
    "file = open('scores.txt', 'r', encoding='utf8')\n",
    "lines = file.readlines()\n",
    "file.close()\n",
    "\n",
    "print('-' * 50)\n",
    "for line in lines :\n",
    "    student = line.split()\n",
    "    i = 0\n",
    "    sum = 0\n",
    "    while i < len(lines)+1 :\n",
    "        if i == 0 :\n",
    "            print(student[i])\n",
    "        else :\n",
    "            sum += int(student[i])\n",
    "        i += 1\n",
    "    print('합계 : %d, 평균 : %.2f' % (sum, sum/5))\n",
    "    print('-' * 50)\n"
   ]
  },
  {
   "cell_type": "code",
   "execution_count": 30,
   "metadata": {},
   "outputs": [
    {
     "name": "stdout",
     "output_type": "stream",
     "text": [
      "['Python', 'is', 'fun!']\n"
     ]
    }
   ],
   "source": [
    "txt = 'Python is fun!'\n",
    "x = txt.split()\n",
    "print(x)"
   ]
  },
  {
   "cell_type": "code",
   "execution_count": null,
   "metadata": {},
   "outputs": [],
   "source": []
  }
 ],
 "metadata": {
  "kernelspec": {
   "display_name": "Python 3",
   "language": "python",
   "name": "python3"
  },
  "language_info": {
   "codemirror_mode": {
    "name": "ipython",
    "version": 3
   },
   "file_extension": ".py",
   "mimetype": "text/x-python",
   "name": "python",
   "nbconvert_exporter": "python",
   "pygments_lexer": "ipython3",
   "version": "3.7.4"
  }
 },
 "nbformat": 4,
 "nbformat_minor": 2
}
