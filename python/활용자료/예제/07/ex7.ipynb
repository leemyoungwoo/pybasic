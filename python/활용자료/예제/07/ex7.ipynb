{
 "cells": [
  {
   "cell_type": "code",
   "execution_count": 1,
   "metadata": {},
   "outputs": [
    {
     "name": "stdout",
     "output_type": "stream",
     "text": [
      "안녕하세요.\n",
      "안녕하세요.\n",
      "안녕하세요.\n"
     ]
    }
   ],
   "source": [
    "# ex7-1.py\n",
    "def hello() :\n",
    "    print('안녕하세요.')\n",
    "    \n",
    "hello()\n",
    "hello()\n",
    "hello()"
   ]
  },
  {
   "cell_type": "code",
   "execution_count": 22,
   "metadata": {},
   "outputs": [
    {
     "name": "stdout",
     "output_type": "stream",
     "text": [
      "7은(는) 홀수이다.\n",
      "16은(는) 짝수이다.\n"
     ]
    }
   ],
   "source": [
    "# ex7-2.py\n",
    "def even_odd(num) :\n",
    "    if num % 2 == 0 :\n",
    "        print('%d은(는) 짝수이다.' % num)\n",
    "    else :\n",
    "        print('%d은(는) 홀수이다.' % num)\n",
    "\n",
    "even_odd(7)\n",
    "even_odd(16)"
   ]
  },
  {
   "cell_type": "code",
   "execution_count": 29,
   "metadata": {},
   "outputs": [
    {
     "name": "stdout",
     "output_type": "stream",
     "text": [
      "김지영님은 빨강을 좋아하지 않습니다.\n",
      "홍채영님은 노랑을 조금 좋아합니다.\n",
      "진소진님은 파랑을 매우 좋아합니다.\n"
     ]
    }
   ],
   "source": [
    "# ex7-3.py\n",
    "def favorate_color(name, color, amount) :\n",
    "    if (amount == 1) :\n",
    "        print('%s님은 %s을 좋아하지 않습니다.' % (name, color))\n",
    "    elif (amount == 2) :\n",
    "        print('%s님은 %s을 조금 좋아합니다.' % (name, color))\n",
    "    else :\n",
    "        print('%s님은 %s을 매우 좋아합니다.' % (name, color))\n",
    "\n",
    "favorate_color('김지영', '빨강', 1)\n",
    "favorate_color('홍채영', '노랑', 2)\n",
    "favorate_color('진소진', '파랑', 3)\n"
   ]
  },
  {
   "cell_type": "code",
   "execution_count": 34,
   "metadata": {},
   "outputs": [
    {
     "name": "stdout",
     "output_type": "stream",
     "text": [
      "3과목의 평균 : 90.00\n",
      "4과목의 평균 : 81.75\n",
      "5과목의 평균 : 79.40\n"
     ]
    }
   ],
   "source": [
    "# ex7-4.py\n",
    "def average(*scores) :\n",
    "    sum = 0\n",
    "    for i in range(len(scores)) :\n",
    "        sum += scores[i]\n",
    "    \n",
    "    avg = sum/len(scores)\n",
    "    print('%d과목의 평균 : %.2f' % (len(scores), avg))\n",
    "\n",
    "average(80, 90, 100)\n",
    "average(75, 80, 94, 78)\n",
    "average(80, 73, 76, 86, 82)\n"
   ]
  },
  {
   "cell_type": "code",
   "execution_count": 17,
   "metadata": {},
   "outputs": [
    {
     "name": "stdout",
     "output_type": "stream",
     "text": [
      "메인 : x =  10 , id = 140719703827120\n",
      "func() : x =  100 , id = 140719703830000\n",
      "메인 : x =  10 , id = 140719703827120\n"
     ]
    }
   ],
   "source": [
    "# ex7-5.py\n",
    "# 서브 루틴 : func() 함수\n",
    "def func(x) :\n",
    "    x = 100\n",
    "    print('func() : x = ', x, ', id =', id(x))\n",
    "\n",
    "# 메인 루틴\n",
    "x = 10\n",
    "print('메인 : x = ', x, ', id =', id(x))\n",
    "func(x)\n",
    "print('메인 : x = ', x, ', id =', id(x))"
   ]
  },
  {
   "cell_type": "code",
   "execution_count": 18,
   "metadata": {},
   "outputs": [
    {
     "name": "stdout",
     "output_type": "stream",
     "text": [
      "메인 : x =  [1, 2, 3] , id = 2768370614984\n",
      "func() : x =  [100, 2, 3] , id = 2768370614984\n",
      "메인 : x =  [100, 2, 3] , id = 2768370614984\n"
     ]
    }
   ],
   "source": [
    "# ex7-6.py\n",
    "# 서브 루틴 : func() 함수\n",
    "def func(x) :\n",
    "    x[0] = 100\n",
    "    print('func() : x = ', x, ', id =', id(x))\n",
    "\n",
    "# 메인 루틴\n",
    "x = [1, 2, 3]\n",
    "print('메인 : x = ', x, ', id =', id(x))\n",
    "func(x)\n",
    "print('메인 : x = ', x, ', id =', id(x))"
   ]
  },
  {
   "cell_type": "code",
   "execution_count": 12,
   "metadata": {},
   "outputs": [
    {
     "name": "stdout",
     "output_type": "stream",
     "text": [
      "원의 반지름을 입력하세요 : 10\n",
      "반지름 : 10, 원의 면적 : 314.00\n",
      "원의 반지름을 입력하세요 : 20\n",
      "반지름 : 20, 원의 면적 : 1256.00\n"
     ]
    }
   ],
   "source": [
    "# ex7-7.py\n",
    "def circle_area(r) :\n",
    "    area = r * r * 3.14\n",
    "    \n",
    "    return area\n",
    "\n",
    "radius = int(input('원의 반지름을 입력하세요 : '))\n",
    "result = circle_area(radius)\n",
    "print('반지름 : %d, 원의 면적 : %.2f' % (radius, result))\n",
    "\n",
    "radius = int(input('원의 반지름을 입력하세요 : '))\n",
    "result = circle_area(radius)\n",
    "print('반지름 : %d, 원의 면적 : %.2f' % (radius, result))             "
   ]
  },
  {
   "cell_type": "code",
   "execution_count": 4,
   "metadata": {},
   "outputs": [
    {
     "name": "stdout",
     "output_type": "stream",
     "text": [
      "25\n",
      "100\n"
     ]
    }
   ],
   "source": [
    "# ex7-8.py\n",
    "x = lambda a : a**2\n",
    "\n",
    "print(x(5))\n",
    "print(x(10))"
   ]
  },
  {
   "cell_type": "code",
   "execution_count": 6,
   "metadata": {},
   "outputs": [
    {
     "name": "stdout",
     "output_type": "stream",
     "text": [
      "60\n",
      "30\n",
      "50\n"
     ]
    }
   ],
   "source": [
    "# ex7-9.py\n",
    "f = lambda x, y, z : x + y + z\n",
    "print(f(10, 20, 30))\n",
    "\n",
    "def mul(n) :\n",
    "    return lambda x : x * n\n",
    "\n",
    "g = mul(3)\n",
    "h = mul(5)\n",
    "\n",
    "print(g(10))\n",
    "print(h(10))"
   ]
  },
  {
   "cell_type": "code",
   "execution_count": 1,
   "metadata": {},
   "outputs": [
    {
     "name": "stdout",
     "output_type": "stream",
     "text": [
      "10\n"
     ]
    },
    {
     "ename": "NameError",
     "evalue": "name 'x' is not defined",
     "output_type": "error",
     "traceback": [
      "\u001b[1;31m---------------------------------------------------------------------------\u001b[0m",
      "\u001b[1;31mNameError\u001b[0m                                 Traceback (most recent call last)",
      "\u001b[1;32m<ipython-input-1-77d987d7788b>\u001b[0m in \u001b[0;36m<module>\u001b[1;34m\u001b[0m\n\u001b[0;32m      5\u001b[0m \u001b[1;33m\u001b[0m\u001b[0m\n\u001b[0;32m      6\u001b[0m \u001b[0mfunc\u001b[0m\u001b[1;33m(\u001b[0m\u001b[1;33m)\u001b[0m\u001b[1;33m\u001b[0m\u001b[1;33m\u001b[0m\u001b[0m\n\u001b[1;32m----> 7\u001b[1;33m \u001b[0mprint\u001b[0m\u001b[1;33m(\u001b[0m\u001b[0mx\u001b[0m\u001b[1;33m)\u001b[0m\u001b[1;33m\u001b[0m\u001b[1;33m\u001b[0m\u001b[0m\n\u001b[0m",
      "\u001b[1;31mNameError\u001b[0m: name 'x' is not defined"
     ]
    }
   ],
   "source": [
    "# ex7-10.py\n",
    "def func() :\n",
    "    x = 10\n",
    "    print(x)\n",
    "\n",
    "func()\n",
    "print(x)"
   ]
  },
  {
   "cell_type": "code",
   "execution_count": 1,
   "metadata": {},
   "outputs": [
    {
     "name": "stdout",
     "output_type": "stream",
     "text": [
      "10\n",
      "140719703827120\n",
      "10\n",
      "140719703827120\n"
     ]
    }
   ],
   "source": [
    "# ex7-11.py\n",
    "def func() :\n",
    "    print(x)\n",
    "    print(id(x))\n",
    "    \n",
    "x = 10\n",
    "print(x)\n",
    "print(id(x))\n",
    "func()"
   ]
  },
  {
   "cell_type": "code",
   "execution_count": 9,
   "metadata": {},
   "outputs": [
    {
     "name": "stdout",
     "output_type": "stream",
     "text": [
      "10\n",
      "140719703827120\n",
      "100\n",
      "140719703830000\n",
      "10\n",
      "140719703827120\n"
     ]
    }
   ],
   "source": [
    "# ex7-12.py\n",
    "def func() :\n",
    "    x = 100\n",
    "    print(x)\n",
    "    print(id(x))\n",
    "    \n",
    "x = 10\n",
    "print(x)\n",
    "print(id(x))\n",
    "\n",
    "func()\n",
    "\n",
    "print(x)\n",
    "print(id(x))"
   ]
  },
  {
   "cell_type": "code",
   "execution_count": 8,
   "metadata": {},
   "outputs": [
    {
     "name": "stdout",
     "output_type": "stream",
     "text": [
      "10\n",
      "100\n",
      "140719703830000\n",
      "100\n",
      "140719703830000\n"
     ]
    }
   ],
   "source": [
    "# ex7-13.py\n",
    "def func() :\n",
    "    global x\n",
    "    x = 100\n",
    "    print(x)\n",
    "    print(id(x))\n",
    "    \n",
    "x = 10\n",
    "print(x)\n",
    "func()\n",
    "print(x)\n",
    "print(id(x))"
   ]
  },
  {
   "cell_type": "code",
   "execution_count": 4,
   "metadata": {},
   "outputs": [
    {
     "name": "stdout",
     "output_type": "stream",
     "text": [
      "파일 쓰기 완료!\n"
     ]
    }
   ],
   "source": [
    "# ex7-14.py\n",
    "file = open('sample.txt', 'w', encoding='utf8')\n",
    "file.write('안녕하세요. 반갑습니다.')\n",
    "file.close()\n",
    "print('파일 쓰기 완료!')\n",
    "\n"
   ]
  },
  {
   "cell_type": "code",
   "execution_count": 8,
   "metadata": {},
   "outputs": [
    {
     "name": "stdout",
     "output_type": "stream",
     "text": [
      "김소영 82 80 93 97 93 88\n",
      "정예린 86 100 93 86 90 77\n",
      "이세영 91 88 99 79 92 68\n",
      "정수정 86 100 93 89 92 93\n",
      "박지수 80 100 95 89 90 84\n",
      "\n"
     ]
    }
   ],
   "source": [
    "# ex7-15.py\n",
    "scores = ['김소영 82 80 93 97 93 88',\n",
    "           '정예린 86 100 93 86 90 77',\n",
    "           '이세영 91 88 99 79 92 68',\n",
    "           '정수정 86 100 93 89 92 93',\n",
    "           '박지수 80 100 95 89 90 84']\n",
    "data = ''\n",
    "for item in scores :\n",
    "    data += item + '\\n'\n",
    "\n",
    "# 화면 출력하기    \n",
    "print(data)\n",
    "\n",
    "# 파일(scores.txt)에 저장하기\n",
    "file = open('scores.txt', 'w', encoding='utf8' )\n",
    "file.write(data)\n",
    "file.close()\n"
   ]
  },
  {
   "cell_type": "code",
   "execution_count": 15,
   "metadata": {},
   "outputs": [
    {
     "name": "stdout",
     "output_type": "stream",
     "text": [
      "scores.txt 파일의 내용 : \n",
      "김소영 82 80 93 97 93 88\n",
      "정예린 86 100 93 86 90 77\n",
      "이세영 91 88 99 79 92 68\n",
      "정수정 86 100 93 89 92 93\n",
      "박지수 80 100 95 89 90 84\n"
     ]
    }
   ],
   "source": [
    "# ex7-16.py\n",
    "file = open('scores.txt', 'r', encoding='utf8')\n",
    "lines = file.readlines()\n",
    "\n",
    "print('scores.txt 파일의 내용 : ')\n",
    "for line in lines :\n",
    "    print(line, end='')\n",
    "    \n",
    "file.close()\n"
   ]
  },
  {
   "cell_type": "code",
   "execution_count": null,
   "metadata": {},
   "outputs": [],
   "source": []
  }
 ],
 "metadata": {
  "kernelspec": {
   "display_name": "Python 3",
   "language": "python",
   "name": "python3"
  },
  "language_info": {
   "codemirror_mode": {
    "name": "ipython",
    "version": 3
   },
   "file_extension": ".py",
   "mimetype": "text/x-python",
   "name": "python",
   "nbconvert_exporter": "python",
   "pygments_lexer": "ipython3",
   "version": "3.7.4"
  }
 },
 "nbformat": 4,
 "nbformat_minor": 2
}
