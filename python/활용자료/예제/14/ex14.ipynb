{
 "cells": [
  {
   "cell_type": "code",
   "execution_count": 9,
   "metadata": {},
   "outputs": [
    {
     "name": "stdout",
     "output_type": "stream",
     "text": [
      "0     5\n",
      "1    -4\n",
      "2     7\n",
      "3     0\n",
      "4    12\n",
      "dtype: int64\n"
     ]
    }
   ],
   "source": [
    "# ex14-1.py\n",
    "import pandas as pd\n",
    "\n",
    "obj = pd.Series([5, -4, 7, 0, 12])\n",
    "print(obj)"
   ]
  },
  {
   "cell_type": "code",
   "execution_count": 157,
   "metadata": {},
   "outputs": [
    {
     "name": "stdout",
     "output_type": "stream",
     "text": [
      "[  8 -20  -3  13   2]\n",
      "RangeIndex(start=0, stop=5, step=1)\n",
      "-3\n"
     ]
    }
   ],
   "source": [
    "# ex14-2.py\n",
    "import pandas as pd\n",
    "\n",
    "obj = pd.Series([8, -20, -3, 13, 2])\n",
    "\n",
    "print(obj.values)\n",
    "print(obj.index)\n",
    "\n",
    "print(obj[2])"
   ]
  },
  {
   "cell_type": "code",
   "execution_count": 165,
   "metadata": {},
   "outputs": [
    {
     "name": "stdout",
     "output_type": "stream",
     "text": [
      "a    10\n",
      "b    20\n",
      "c    30\n",
      "d    40\n",
      "e    50\n",
      "dtype: int64\n",
      "30\n",
      "d    40\n",
      "a    10\n",
      "dtype: int64\n",
      "b    20\n",
      "c    30\n",
      "d    40\n",
      "dtype: int64\n"
     ]
    }
   ],
   "source": [
    "# ex14-3.py\n",
    "import pandas as pd\n",
    "\n",
    "obj = pd.Series([10, 20, 30, 40, 50], index=['a', 'b', 'c', 'd', 'e'])\n",
    "print(obj)\n",
    "\n",
    "print(obj['c'])\n",
    "print(obj[['d', 'a']])\n",
    "print(obj[1:4])"
   ]
  },
  {
   "cell_type": "code",
   "execution_count": 159,
   "metadata": {},
   "outputs": [
    {
     "name": "stdout",
     "output_type": "stream",
     "text": [
      "0    100\n",
      "1    200\n",
      "2    300\n",
      "3    400\n",
      "4    500\n",
      "dtype: int64\n",
      "2    30\n",
      "3    40\n",
      "4    50\n",
      "dtype: int64\n"
     ]
    }
   ],
   "source": [
    "# ex14-4.py\n",
    "import pandas as pd\n",
    "\n",
    "obj = pd.Series([10, 20, 30, 40, 50])\n",
    "\n",
    "print(obj * 10)\n",
    "\n",
    "print(obj[obj > 25])"
   ]
  },
  {
   "cell_type": "code",
   "execution_count": 188,
   "metadata": {},
   "outputs": [
    {
     "name": "stdout",
     "output_type": "stream",
     "text": [
      "서울 : 9765623명\n",
      "부산 : 3441453명\n",
      "대구 : 2461769명\n"
     ]
    }
   ],
   "source": [
    "# ex14-5.py\n",
    "import pandas as pd\n",
    "\n",
    "pop = pd.Series([9765623, 3441453, 2461769], index=['서울', '부산', '대구'])\n",
    "\n",
    "for i, v in pop.items() :\n",
    "    print('%s : %d명' % (i, v))\n"
   ]
  },
  {
   "cell_type": "code",
   "execution_count": 187,
   "metadata": {},
   "outputs": [
    {
     "name": "stdout",
     "output_type": "stream",
     "text": [
      "인덱스 : 0, 값 : A\n",
      "인덱스 : 1, 값 : B\n",
      "인덱스 : 2, 값 : C\n"
     ]
    }
   ],
   "source": [
    "# Tip : pandas.Series.items() 메소드\n",
    "import pandas as pd\n",
    "\n",
    "s = pd.Series(['A', 'B', 'C'])\n",
    "\n",
    "for index, value in s.items() :\n",
    "    print('인덱스 : %d, 값 : %s' % (index, value))"
   ]
  },
  {
   "cell_type": "code",
   "execution_count": 194,
   "metadata": {},
   "outputs": [
    {
     "name": "stdout",
     "output_type": "stream",
     "text": [
      "서울    9765623.0\n",
      "부산    3441453.0\n",
      "대구    2461769.0\n",
      "광주          NaN\n",
      "대전          NaN\n",
      "dtype: float64\n",
      "광주시 인구 : 149336명\n"
     ]
    }
   ],
   "source": [
    "# ex14-6.py\n",
    "import pandas as pd\n",
    "\n",
    "pop = pd.Series({'서울':9765623, '부산':3441453, '대구':2461769}, index = ['서울', '부산', '대구', '광주', '대전'])\n",
    "print(pop)\n",
    "\n",
    "pop['광주'] = 149336\n",
    "\n",
    "print('광주시 인구 : %.0f명' % pop['광주'])"
   ]
  },
  {
   "cell_type": "code",
   "execution_count": 46,
   "metadata": {},
   "outputs": [
    {
     "name": "stdout",
     "output_type": "stream",
     "text": [
      "    이름     아이디  비밀번호\n",
      "0  홍지수  jshong  1234\n",
      "1  안지영   jyahn  1234\n",
      "2  김성수   sukim  1234\n",
      "3  최예린  yrchoi  1234\n"
     ]
    }
   ],
   "source": [
    "# ex14-7.py\n",
    "import pandas as pd\n",
    "\n",
    "data = {'이름':['홍지수', '안지영', '김성수', '최예린'],\n",
    "        '아이디' : ['jshong', 'jyahn', 'sukim', 'yrchoi'],\n",
    "        '비밀번호' : ['1234', '1234', '1234', '1234']}\n",
    "\n",
    "frame = pd.DataFrame(data)\n",
    "print(frame)"
   ]
  },
  {
   "cell_type": "code",
   "execution_count": 223,
   "metadata": {},
   "outputs": [
    {
     "name": "stdout",
     "output_type": "stream",
     "text": [
      "     이름           전화번호  나이   주소\n",
      "01  김영준  010-3535-4576  20  NaN\n",
      "02  한지원  010-1295-7899  23  NaN\n"
     ]
    }
   ],
   "source": [
    "# ex14-8.py\n",
    "import pandas as pd\n",
    "\n",
    "member = {'이름':['김영준','한지원'],\n",
    "        '나이':[20, 23],\n",
    "        '전화번호':['010-3535-4576', '010-1295-7899']}\n",
    "\n",
    "frame = pd.DataFrame(member, columns=['이름', '전화번호', '나이', '주소'],\n",
    "                    index=['01', '02'])\n",
    "print(frame)"
   ]
  },
  {
   "cell_type": "code",
   "execution_count": 222,
   "metadata": {},
   "outputs": [
    {
     "name": "stdout",
     "output_type": "stream",
     "text": [
      "    학교명  학급수  학생수  교사수\n",
      "01  가나고   25  620   80\n",
      "02  다라고   23  600   95\n",
      "03  마바고   15  550   70\n",
      "04  사아고   19  580   90\n",
      "05  자차고   10  400   65\n",
      "600\n",
      "학교명    사아고\n",
      "학급수     19\n",
      "교사수     90\n",
      "Name: 04, dtype: object\n"
     ]
    }
   ],
   "source": [
    "# ex14-9.py\n",
    "import pandas as pd\n",
    "\n",
    "data = {'학교명':['가나고', '다라고', '마바고', '사아고', '자차고'],\n",
    "        '학급수' : [25, 23, 15, 19, 10],\n",
    "        '학생수' : [620, 600, 550, 580, 400],\n",
    "        '교사수' : [80, 95, 70, 90, 65]}\n",
    "\n",
    "frame = pd.DataFrame(data,index=['01', '02', '03', '04', '05'])\n",
    "print(frame)\n",
    "\n",
    "print(frame.loc['02', '학생수'])\n",
    "print(frame.loc['04', ['학교명', '학급수', '교사수']])"
   ]
  },
  {
   "cell_type": "code",
   "execution_count": 234,
   "metadata": {},
   "outputs": [
    {
     "name": "stdout",
     "output_type": "stream",
     "text": [
      "    아이디 구매상품     가격  개수   구매일\n",
      "0   kim  상품A  15000   3  0303\n",
      "1  song  상품B  23000   5  0810\n",
      "2   han  상품C  33000   1  0120\n",
      "3  choi  상품D  50000  10  0601\n",
      "han\n",
      "아이디     choi\n",
      "구매상품     상품D\n",
      "Name: 3, dtype: object\n",
      "    아이디   구매일\n",
      "0   kim  0303\n",
      "1  song  0810\n",
      "2   han  0120\n",
      "3  choi  0601\n"
     ]
    }
   ],
   "source": [
    "# ex14-10.py\n",
    "import pandas as pd\n",
    "\n",
    "data = {'아이디':['kim', 'song', 'han', 'choi'],\n",
    "        '구매상품' : ['상품A', '상품B', '상품C', '상품D'],\n",
    "        '가격' : [15000, 23000, 33000, 50000],\n",
    "        '개수' : [3, 5, 1, 10],\n",
    "        '구매일' : ['0303', '0810', '0120', '0601']}\n",
    "\n",
    "frame = pd.DataFrame(data)\n",
    "print(frame)\n",
    "\n",
    "print(frame.iloc[2, 0])\n",
    "print(frame.iloc[3, :2])\n",
    "print(frame.iloc[:, [0, 4]])"
   ]
  },
  {
   "cell_type": "code",
   "execution_count": 70,
   "metadata": {},
   "outputs": [
    {
     "name": "stdout",
     "output_type": "stream",
     "text": [
      "    이름  국어  영어  수학\n",
      "0  김지영  95  90  85\n",
      "1  안지수  97  86  88\n",
      "2  최성수  90  93  89\n",
      "3  황예린  94  85  88\n",
      "4  김소정  87  93  99\n",
      "   국어  영어  수학\n",
      "0  95  90  85\n",
      "1  97  86  88\n",
      "2  90  93  89\n",
      "3  94  85  88\n",
      "4  87  93  99\n",
      "0    270\n",
      "1    271\n",
      "2    272\n",
      "3    267\n",
      "4    279\n",
      "dtype: int64\n"
     ]
    }
   ],
   "source": [
    "# ex14-11.py\n",
    "import pandas as pd\n",
    "\n",
    "scores = {'이름': ['김지영', '안지수', '최성수', '황예린', '김소정'],\n",
    "        '국어' : [95, 97, 90, 94, 87],\n",
    "        '영어' : [90, 86, 93, 85, 93],\n",
    "        '수학' : [85, 88, 89, 88, 99]}\n",
    "\n",
    "frame = pd.DataFrame(scores)\n",
    "print(frame)\n",
    "\n",
    "frame2 = frame.iloc[:, [1, 2, 3]]\n",
    "print(frame2)\n",
    "\n",
    "total = frame2.sum(axis = 1)\n",
    "print(total)"
   ]
  },
  {
   "cell_type": "code",
   "execution_count": 34,
   "metadata": {},
   "outputs": [
    {
     "name": "stdout",
     "output_type": "stream",
     "text": [
      "--------------------------------------------------\n",
      "이름    합계  평균\n",
      "--------------------------------------------------\n",
      "김지영  270   90.00\n",
      "안지수  271   90.33\n",
      "최성수  272   90.67\n",
      "황예린  267   89.00\n",
      "김소정  279   93.00\n",
      "--------------------------------------------------\n"
     ]
    }
   ],
   "source": [
    "# ex14-12.py\n",
    "import pandas as pd\n",
    "\n",
    "scores = {'이름': ['김지영', '안지수', '최성수', '황예린', '김소정'],\n",
    "        '국어' : [95, 97, 90, 94, 87],\n",
    "        '영어' : [90, 86, 93, 85, 93],\n",
    "        '수학' : [85, 88, 89, 88, 99]}\n",
    "\n",
    "frame = pd.DataFrame(scores)\n",
    "frame2 = frame.iloc[:, [1, 2, 3]]\n",
    "\n",
    "total = frame2.sum(axis = 1)\n",
    "avg = frame2.mean(axis = 1)\n",
    "\n",
    "print('-' * 50)\n",
    "print('이름    합계  평균')\n",
    "print('-' * 50)\n",
    "for i in range(5) :\n",
    "    print('%s  %d   %.2f' % (frame.iloc[i, 0], total.iloc[i], avg.iloc[i]))\n",
    "    \n",
    "print('-' * 50)    "
   ]
  },
  {
   "cell_type": "code",
   "execution_count": 72,
   "metadata": {
    "scrolled": true
   },
   "outputs": [
    {
     "name": "stdout",
     "output_type": "stream",
     "text": [
      "[['서울특별시  (1100000000)', '부산광역시  (2600000000)', '대구광역시  (2700000000)', '인천광역시  (2800000000)', '광주광역시  (2900000000)', '대전광역시  (3000000000)', '울산광역시  (3100000000)', '세종특별자치시  (3600000000)', '경기도  (4100000000)', '강원도  (4200000000)', '충청북도  (4300000000)', '충청남도  (4400000000)', '전라북도  (4500000000)', '전라남도  (4600000000)', '경상북도  (4700000000)', '경상남도  (4800000000)', '제주특별자치도  (5000000000)'], ['9,736,962', '3,410,925', '2,432,883', '2,954,955', '1,456,121', '1,473,125', '1,145,710', '343,788', '13,265,377', '1,539,521', '1,598,599', '2,120,995', '1,815,112', '1,861,894', '2,658,956', '3,358,828', '670,876'], ['4,345,877', '1,502,333', '1,033,349', '1,242,107', '618,503', '637,726', '469,551', '136,629', '5,497,087', '721,003', '723,931', '961,890', '818,452', '873,871', '1,229,265', '1,455,655', '293,932'], ['      2.24', '      2.27', '      2.35', '      2.38', '      2.35', '      2.31', '      2.44', '      2.52', '      2.41', '      2.14', '      2.21', '      2.21', '      2.22', '      2.13', '      2.16', '      2.31', '      2.28'], ['4,745,133', '1,673,266', '1,202,364', '1,481,133', '720,686', '735,791', '588,626', '171,403', '6,672,706', '774,358', '809,805', '1,081,153', '902,365', '934,900', '1,338,907', '1,690,600', '337,295'], ['4,991,829', '1,737,659', '1,230,519', '1,473,822', '735,435', '737,334', '557,084', '172,385', '6,592,671', '765,163', '788,794', '1,039,842', '912,747', '926,994', '1,320,049', '1,668,228', '333,581'], ['      0.95', '      0.96', '      0.98', '      1.00', '      0.98', '      1.00', '      1.06', '      0.99', '      1.01', '      1.01', '      1.03', '      1.04', '      0.99', '      1.01', '      1.01', '      1.01', '      1.01']]\n"
     ]
    }
   ],
   "source": [
    "# ex14-13\n",
    "import population as pop\n",
    "\n",
    "list_data = []\n",
    "\n",
    "# CSV 파일을 읽어 들여 리스트 list_data에 저장\n",
    "pop.get_list(list_data)     \n",
    "print(list_data)"
   ]
  },
  {
   "cell_type": "code",
   "execution_count": 33,
   "metadata": {},
   "outputs": [
    {
     "name": "stdout",
     "output_type": "stream",
     "text": [
      "{'지역': ['서울특별시', '부산광역시', '대구광역시', '인천광역시', '광주광역시', '대전광역시', '울산광역시', '세종특별자치시', '경기도', '강원도', '충청북도', '충청남도', '전라북도', '전라남도', '경상북도', '경상남도', '제주특별자치도'], '총인구수': [9736962, 3410925, 2432883, 2954955, 1456121, 1473125, 1145710, 343788, 13265377, 1539521, 1598599, 2120995, 1815112, 1861894, 2658956, 3358828, 670876], '세대수': [4345877, 1502333, 1033349, 1242107, 618503, 637726, 469551, 136629, 5497087, 721003, 723931, 961890, 818452, 873871, 1229265, 1455655, 293932], '세대당_인구': [2.24, 2.27, 2.35, 2.38, 2.35, 2.31, 2.44, 2.52, 2.41, 2.14, 2.21, 2.21, 2.22, 2.13, 2.16, 2.31, 2.28], '남자_인구수': [4745133, 1673266, 1202364, 1481133, 720686, 735791, 588626, 171403, 6672706, 774358, 809805, 1081153, 902365, 934900, 1338907, 1690600, 337295], '여자_인구수': [4991829, 1737659, 1230519, 1473822, 735435, 737334, 557084, 172385, 6592671, 765163, 788794, 1039842, 912747, 926994, 1320049, 1668228, 333581], '남여_비율': [0.95, 0.96, 0.98, 1.0, 0.98, 1.0, 1.06, 0.99, 1.01, 1.01, 1.03, 1.04, 0.99, 1.01, 1.01, 1.01, 1.01]}\n"
     ]
    }
   ],
   "source": [
    "# ex14-14\n",
    "import population as pop\n",
    "\n",
    "list_data = []\n",
    "\n",
    "# CSV 파일을 읽어 들여 리스트 list_data에 저장\n",
    "pop.get_list(list_data)         \n",
    "\n",
    "dict_data = {}\n",
    "\n",
    "# 딕셔너리 dict_data를 위한 키 설정\n",
    "keys = ['지역', '총인구수', '세대수', '세대당_인구', '남자_인구수', '여자_인구수', '남여_비율']\n",
    "\n",
    "# 리스트 list_data와 딕셔너리의 키 keys를 딕셔너리 dict_data에 저장\n",
    "pop.get_dict(list_data, keys, dict_data)              \n",
    "\n",
    "print(dict_data)"
   ]
  },
  {
   "cell_type": "code",
   "execution_count": 2,
   "metadata": {},
   "outputs": [
    {
     "name": "stdout",
     "output_type": "stream",
     "text": [
      "         지역      총인구수      세대수  세대당_인구   남자_인구수   여자_인구수  남여_비율\n",
      "0     서울특별시   9736962  4345877    2.24  4745133  4991829   0.95\n",
      "1     부산광역시   3410925  1502333    2.27  1673266  1737659   0.96\n",
      "2     대구광역시   2432883  1033349    2.35  1202364  1230519   0.98\n",
      "3     인천광역시   2954955  1242107    2.38  1481133  1473822   1.00\n",
      "4     광주광역시   1456121   618503    2.35   720686   735435   0.98\n",
      "5     대전광역시   1473125   637726    2.31   735791   737334   1.00\n",
      "6     울산광역시   1145710   469551    2.44   588626   557084   1.06\n",
      "7   세종특별자치시    343788   136629    2.52   171403   172385   0.99\n",
      "8       경기도  13265377  5497087    2.41  6672706  6592671   1.01\n",
      "9       강원도   1539521   721003    2.14   774358   765163   1.01\n",
      "10     충청북도   1598599   723931    2.21   809805   788794   1.03\n",
      "11     충청남도   2120995   961890    2.21  1081153  1039842   1.04\n",
      "12     전라북도   1815112   818452    2.22   902365   912747   0.99\n",
      "13     전라남도   1861894   873871    2.13   934900   926994   1.01\n",
      "14     경상북도   2658956  1229265    2.16  1338907  1320049   1.01\n",
      "15     경상남도   3358828  1455655    2.31  1690600  1668228   1.01\n",
      "16  제주특별자치도    670876   293932    2.28   337295   333581   1.01\n"
     ]
    }
   ],
   "source": [
    "# ex14-15\n",
    "import population as pop\n",
    "import pandas as pd\n",
    "\n",
    "list_data = []\n",
    "\n",
    "# CSV 파일을 읽어 들여 리스트 list_data에 저장\n",
    "pop.get_list(list_data)         \n",
    "\n",
    "dict_data = {}\n",
    "\n",
    "# 딕셔너리 dict_data를 위한 키 설정\n",
    "keys = ['지역', '총인구수', '세대수', '세대당_인구', '남자_인구수', '여자_인구수', '남여_비율']\n",
    "\n",
    "# 리스트 list_data와 딕셔너리의 키 keys를 딕셔너리 dict_data에 저장\n",
    "pop.get_dict(list_data, keys, dict_data)              \n",
    "\n",
    "# 딕셔너리 dict_data를 이용하여 데이터프레임 객체 frame 생성\n",
    "frame = pd.DataFrame(dict_data)\n",
    "print(frame)"
   ]
  },
  {
   "cell_type": "code",
   "execution_count": 4,
   "metadata": {},
   "outputs": [
    {
     "name": "stdout",
     "output_type": "stream",
     "text": [
      "                     행정구역 2020년02월_총인구수 2020년02월_세대수  2020년02월_세대당 인구  \\\n",
      "0     서울특별시  (1100000000)     9,736,962    4,345,877             2.24   \n",
      "1     부산광역시  (2600000000)     3,410,925    1,502,333             2.27   \n",
      "2     대구광역시  (2700000000)     2,432,883    1,033,349             2.35   \n",
      "3     인천광역시  (2800000000)     2,954,955    1,242,107             2.38   \n",
      "4     광주광역시  (2900000000)     1,456,121      618,503             2.35   \n",
      "5     대전광역시  (3000000000)     1,473,125      637,726             2.31   \n",
      "6     울산광역시  (3100000000)     1,145,710      469,551             2.44   \n",
      "7   세종특별자치시  (3600000000)       343,788      136,629             2.52   \n",
      "8       경기도  (4100000000)    13,265,377    5,497,087             2.41   \n",
      "9       강원도  (4200000000)     1,539,521      721,003             2.14   \n",
      "10     충청북도  (4300000000)     1,598,599      723,931             2.21   \n",
      "11     충청남도  (4400000000)     2,120,995      961,890             2.21   \n",
      "12     전라북도  (4500000000)     1,815,112      818,452             2.22   \n",
      "13     전라남도  (4600000000)     1,861,894      873,871             2.13   \n",
      "14     경상북도  (4700000000)     2,658,956    1,229,265             2.16   \n",
      "15     경상남도  (4800000000)     3,358,828    1,455,655             2.31   \n",
      "16  제주특별자치도  (5000000000)       670,876      293,932             2.28   \n",
      "\n",
      "   2020년02월_남자 인구수 2020년02월_여자 인구수  2020년02월_남여 비율  \n",
      "0        4,745,133       4,991,829            0.95  \n",
      "1        1,673,266       1,737,659            0.96  \n",
      "2        1,202,364       1,230,519            0.98  \n",
      "3        1,481,133       1,473,822            1.00  \n",
      "4          720,686         735,435            0.98  \n",
      "5          735,791         737,334            1.00  \n",
      "6          588,626         557,084            1.06  \n",
      "7          171,403         172,385            0.99  \n",
      "8        6,672,706       6,592,671            1.01  \n",
      "9          774,358         765,163            1.01  \n",
      "10         809,805         788,794            1.03  \n",
      "11       1,081,153       1,039,842            1.04  \n",
      "12         902,365         912,747            0.99  \n",
      "13         934,900         926,994            1.01  \n",
      "14       1,338,907       1,320,049            1.01  \n",
      "15       1,690,600       1,668,228            1.01  \n",
      "16         337,295         333,581            1.01  \n"
     ]
    }
   ],
   "source": [
    "import pandas as pd\n",
    "csv_test = pd.read_csv('population_2020.csv')\n",
    "\n",
    "print(csv_test)\n",
    "\n"
   ]
  },
  {
   "cell_type": "code",
   "execution_count": 12,
   "metadata": {},
   "outputs": [
    {
     "name": "stdout",
     "output_type": "stream",
     "text": [
      "         지역      총인구수      세대수  세대당_인구   남자_인구수   여자_인구수  남여_비율\n",
      "8       경기도  13265377  5497087    2.41  6672706  6592671   1.01\n",
      "0     서울특별시   9736962  4345877    2.24  4745133  4991829   0.95\n",
      "1     부산광역시   3410925  1502333    2.27  1673266  1737659   0.96\n",
      "15     경상남도   3358828  1455655    2.31  1690600  1668228   1.01\n",
      "3     인천광역시   2954955  1242107    2.38  1481133  1473822   1.00\n",
      "14     경상북도   2658956  1229265    2.16  1338907  1320049   1.01\n",
      "2     대구광역시   2432883  1033349    2.35  1202364  1230519   0.98\n",
      "11     충청남도   2120995   961890    2.21  1081153  1039842   1.04\n",
      "13     전라남도   1861894   873871    2.13   934900   926994   1.01\n",
      "12     전라북도   1815112   818452    2.22   902365   912747   0.99\n",
      "10     충청북도   1598599   723931    2.21   809805   788794   1.03\n",
      "9       강원도   1539521   721003    2.14   774358   765163   1.01\n",
      "5     대전광역시   1473125   637726    2.31   735791   737334   1.00\n",
      "4     광주광역시   1456121   618503    2.35   720686   735435   0.98\n",
      "6     울산광역시   1145710   469551    2.44   588626   557084   1.06\n",
      "16  제주특별자치도    670876   293932    2.28   337295   333581   1.01\n",
      "7   세종특별자치시    343788   136629    2.52   171403   172385   0.99\n",
      "         지역      총인구수      세대수  세대당_인구   남자_인구수   여자_인구수  남여_비율\n",
      "0       경기도  13265377  5497087    2.41  6672706  6592671   1.01\n",
      "1     서울특별시   9736962  4345877    2.24  4745133  4991829   0.95\n",
      "2     부산광역시   3410925  1502333    2.27  1673266  1737659   0.96\n",
      "3      경상남도   3358828  1455655    2.31  1690600  1668228   1.01\n",
      "4     인천광역시   2954955  1242107    2.38  1481133  1473822   1.00\n",
      "5      경상북도   2658956  1229265    2.16  1338907  1320049   1.01\n",
      "6     대구광역시   2432883  1033349    2.35  1202364  1230519   0.98\n",
      "7      충청남도   2120995   961890    2.21  1081153  1039842   1.04\n",
      "8      전라남도   1861894   873871    2.13   934900   926994   1.01\n",
      "9      전라북도   1815112   818452    2.22   902365   912747   0.99\n",
      "10     충청북도   1598599   723931    2.21   809805   788794   1.03\n",
      "11      강원도   1539521   721003    2.14   774358   765163   1.01\n",
      "12    대전광역시   1473125   637726    2.31   735791   737334   1.00\n",
      "13    광주광역시   1456121   618503    2.35   720686   735435   0.98\n",
      "14    울산광역시   1145710   469551    2.44   588626   557084   1.06\n",
      "15  제주특별자치도    670876   293932    2.28   337295   333581   1.01\n",
      "16  세종특별자치시    343788   136629    2.52   171403   172385   0.99\n"
     ]
    }
   ],
   "source": [
    "# ex14-16\n",
    "import population as pop\n",
    "import pandas as pd\n",
    "\n",
    "list_data = []\n",
    "\n",
    "# CSV 파일을 읽어 들여 리스트 list_data에 저장\n",
    "pop.get_list(list_data)         \n",
    "\n",
    "dict_data = {}\n",
    "\n",
    "# 딕셔너리 dict_data를 위한 키 설정\n",
    "keys = ['지역', '총인구수', '세대수', '세대당_인구', '남자_인구수', '여자_인구수', '남여_비율']\n",
    "\n",
    "# 리스트 list_data와 딕셔너리의 키 keys를 딕셔너리 dict_data에 저장\n",
    "pop.get_dict(list_data, keys, dict_data)              \n",
    "\n",
    "# 딕셔너리 dict_data를 이용하여 데이터프레임 객체 frame 생성\n",
    "frame = pd.DataFrame(dict_data)\n",
    "\n",
    "rank = frame.sort_values(by=['총인구수'], ascending=False)\n",
    "print(rank)\n",
    "\n",
    "rank = rank.reset_index(drop=True)\n",
    "print(rank)"
   ]
  },
  {
   "cell_type": "code",
   "execution_count": 26,
   "metadata": {
    "scrolled": true
   },
   "outputs": [
    {
     "name": "stdout",
     "output_type": "stream",
     "text": [
      "        총인구수      세대수   남자_인구수   여자_인구수\n",
      "0    9736962  4345877  4745133  4991829\n",
      "1    3410925  1502333  1673266  1737659\n",
      "2    2432883  1033349  1202364  1230519\n",
      "3    2954955  1242107  1481133  1473822\n",
      "4    1456121   618503   720686   735435\n",
      "5    1473125   637726   735791   737334\n",
      "6    1145710   469551   588626   557084\n",
      "7     343788   136629   171403   172385\n",
      "8   13265377  5497087  6672706  6592671\n",
      "9    1539521   721003   774358   765163\n",
      "10   1598599   723931   809805   788794\n",
      "11   2120995   961890  1081153  1039842\n",
      "12   1815112   818452   902365   912747\n",
      "13   1861894   873871   934900   926994\n",
      "14   2658956  1229265  1338907  1320049\n",
      "15   3358828  1455655  1690600  1668228\n",
      "16    670876   293932   337295   333581\n",
      "총인구수      51844627\n",
      "세대수       22561161\n",
      "남자_인구수    25860491\n",
      "여자_인구수    25984136\n",
      "dtype: int64\n",
      "--------------------------------------------------\n",
      "국내 전체 인구 통계\n",
      "--------------------------------------------------\n",
      "- 총 인구수 : 51844627명\n",
      "- 총 세대수 : 22561161명\n",
      "- 총 남자 인구수 : 25860491명\n",
      "- 총 여자 인구수 : 25984136명\n",
      "--------------------------------------------------\n"
     ]
    }
   ],
   "source": [
    "# ex14-17\n",
    "import population as pop\n",
    "import pandas as pd\n",
    "\n",
    "list_data = []\n",
    "\n",
    "# CSV 파일을 읽어 들여 리스트 list_data에 저장\n",
    "pop.get_list(list_data)         \n",
    "\n",
    "dict_data = {}\n",
    "\n",
    "# 딕셔너리 dict_data를 위한 키 설정\n",
    "keys = ['지역', '총인구수', '세대수', '세대당_인구', '남자_인구수', '여자_인구수', '남여_비율']\n",
    "\n",
    "# 리스트 list_data와 딕셔너리의 키 keys를 딕셔너리 dict_data에 저장\n",
    "pop.get_dict(list_data, keys, dict_data)              \n",
    "\n",
    "frame = pd.DataFrame(dict_data)\n",
    "frame2 = frame.iloc[:, [1, 2, 4, 5]]\n",
    "print(frame2)\n",
    "\n",
    "# sum() 메소드로 열 방향으로 합계를 구함\n",
    "sum = frame2.sum(axis=0)\n",
    "print(sum)\n",
    "\n",
    "print('-' * 50)\n",
    "print('국내 전체 인구 통계')\n",
    "print('-' * 50)\n",
    "print('- 총 인구수 : %d명' % sum.iloc[0])\n",
    "print('- 총 세대수 : %d명' % sum.iloc[1])\n",
    "print('- 총 남자 인구수 : %d명' % sum.iloc[2])\n",
    "print('- 총 여자 인구수 : %d명' % sum.iloc[3])\n",
    "print('-' * 50)"
   ]
  },
  {
   "cell_type": "code",
   "execution_count": 32,
   "metadata": {},
   "outputs": [
    {
     "data": {
      "image/png": "[encoded data removed]",
      "text/plain": [
       "<Figure size 432x288 with 1 Axes>"
      ]
     },
     "metadata": {
      "needs_background": "light"
     },
     "output_type": "display_data"
    }
   ],
   "source": [
    "# ex14-18\n",
    "import population as pop\n",
    "import pandas as pd\n",
    "from matplotlib import rc\n",
    "rc('font', family='Malgun Gothic')\n",
    "\n",
    "list_data = []\n",
    "\n",
    "# CSV 파일을 읽어 들여 리스트 list_data에 저장\n",
    "pop.get_list(list_data)         \n",
    "\n",
    "# 딕셔너리 dict_data를 위한 키 설정\n",
    "keys = ['지역', '총인구수', '세대수', '세대당_인구', '남자_인구수', '여자_인구수', '남여_비율']\n",
    "\n",
    "dict_data = {}\n",
    "\n",
    "# 리스트 list_data와 딕셔너리의 키 keys를 딕셔너리 dict_data에 저장\n",
    "pop.get_dict(list_data, keys, dict_data)              \n",
    "\n",
    "frame = pd.DataFrame(dict_data)\n",
    "index = ['서울', '부산', '대구', '인천', '광주', '대전']\n",
    "\n",
    "x1 = frame.iloc[:6, 1]\n",
    "x1 = x1.values.tolist()\n",
    "\n",
    "x2 = frame.iloc[:6, 2]\n",
    "x2 = x2.values.tolist()\n",
    "\n",
    "df = pd.DataFrame({'총인구수':x1, '총세대수':x2}, index=index)\n",
    "ax = df.plot.bar(rot=0)"
   ]
  },
  {
   "cell_type": "code",
   "execution_count": null,
   "metadata": {},
   "outputs": [],
   "source": []
  }
 ],
 "metadata": {
  "kernelspec": {
   "display_name": "Python 3",
   "language": "python",
   "name": "python3"
  },
  "language_info": {
   "codemirror_mode": {
    "name": "ipython",
    "version": 3
   },
   "file_extension": ".py",
   "mimetype": "text/x-python",
   "name": "python",
   "nbconvert_exporter": "python",
   "pygments_lexer": "ipython3",
   "version": "3.7.4"
  }
 },
 "nbformat": 4,
 "nbformat_minor": 2
}
