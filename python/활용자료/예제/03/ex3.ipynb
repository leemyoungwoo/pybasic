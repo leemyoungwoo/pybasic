{
 "cells": [
  {
   "cell_type": "code",
   "execution_count": 1,
   "metadata": {},
   "outputs": [
    {
     "name": "stdout",
     "output_type": "stream",
     "text": [
      "숫자를 입력하세요 : 23\n",
      "양수!\n"
     ]
    }
   ],
   "source": [
    "# ex3-1.py\n",
    "x = int(input('숫자를 입력하세요 : '))\n",
    "\n",
    "if x > 0 :\n",
    "    print('양수!')\n",
    "else :\n",
    "    print('0 또는 음수!')\n"
   ]
  },
  {
   "cell_type": "code",
   "execution_count": 14,
   "metadata": {},
   "outputs": [
    {
     "name": "stdout",
     "output_type": "stream",
     "text": [
      "True\n",
      "True\n",
      "True\n",
      "True\n",
      "False\n",
      "False\n",
      "False\n"
     ]
    }
   ],
   "source": [
    "# ex3-2.py\n",
    "x = 10\n",
    "y = 3\n",
    "\n",
    "print(x > 9)                # x가 9보다 큰가?\n",
    "print(y <= 10)              # y가 10보다 작거나  같은가?\n",
    "print(x + y == 13)          # x + y가  13과  같은가?\n",
    "print(x % 2 == 0)           # x를 2로 나눈 나머지가 0인가? 즉, 짝수인가?\n",
    "print(y % 2 == 0)           # y를 2로 나눈 나머지가 0인가? 즉, 짝수인가?\n",
    "print(x % 4 == 0)           # x가 4의 배수인가?\n",
    "print(y % 3 != 0)           # y는 3의 배수가 아닌가?"
   ]
  },
  {
   "cell_type": "code",
   "execution_count": 3,
   "metadata": {},
   "outputs": [
    {
     "name": "stdout",
     "output_type": "stream",
     "text": [
      "숫자를 입력하세요 : 24\n",
      "짝수이다.\n"
     ]
    }
   ],
   "source": [
    "# ex3-3.py\n",
    "num = int(input('숫자를 입력하세요 : '))\n",
    "\n",
    "if num % 2 == 0 :\n",
    "    print('짝수이다.')\n",
    "else :\n",
    "    print('홀수이다.')"
   ]
  },
  {
   "cell_type": "code",
   "execution_count": 2,
   "metadata": {},
   "outputs": [
    {
     "name": "stdout",
     "output_type": "stream",
     "text": [
      "필기성적을 입력하세요 : 80\n",
      "실기성적을 입력하세요 : 90\n",
      "합격!\n"
     ]
    }
   ],
   "source": [
    "# ex3-4.py\n",
    "score1 = int(input('필기성적을 입력하세요 : '))\n",
    "score2 = int(input('실기성적을 입력하세요 : '))\n",
    "\n",
    "if score1 >= 80 and score2 >= 80 :\n",
    "    print('합격!')\n",
    "else :\n",
    "    print('불합격!')"
   ]
  },
  {
   "cell_type": "code",
   "execution_count": 29,
   "metadata": {},
   "outputs": [
    {
     "name": "stdout",
     "output_type": "stream",
     "text": [
      "아이디를 입력하세요 : admin\n",
      "회원 레벨을 입력하세요 : 1\n",
      "관리자이다.\n"
     ]
    }
   ],
   "source": [
    "# ex3-5.py\n",
    "id = input('아이디를 입력하세요 : ')\n",
    "level = int(input('회원 레벨을 입력하세요 : '))\n",
    "\n",
    "if id == 'admin' or level == 1 :\n",
    "    print('관리자이다.')\n",
    "else :\n",
    "    print('관리자가 아니다.')\n"
   ]
  },
  {
   "cell_type": "code",
   "execution_count": 37,
   "metadata": {},
   "outputs": [
    {
     "name": "stdout",
     "output_type": "stream",
     "text": [
      "이름을 입력하세요 : \n",
      "이름이 입력되지 않았다.\n"
     ]
    }
   ],
   "source": [
    "# ex3-6.py\n",
    "name = input('이름을 입력하세요 : ')\n",
    "\n",
    "if not name :\n",
    "    print('이름이 입력되지 않았다.')\n",
    "else :\n",
    "    print('이름 : %s' % name)"
   ]
  },
  {
   "cell_type": "code",
   "execution_count": 42,
   "metadata": {},
   "outputs": [
    {
     "name": "stdout",
     "output_type": "stream",
     "text": [
      "False\n",
      "False\n",
      "True\n",
      "True\n"
     ]
    }
   ],
   "source": [
    "# ex3-7.py\n",
    "print(True) if 0 else print(False)\n",
    "print(True) if None else print(False)\n",
    "print(True) if 15 else print(False)\n",
    "print(True) if '홍길동' else print(False)"
   ]
  },
  {
   "cell_type": "code",
   "execution_count": 48,
   "metadata": {},
   "outputs": [
    {
     "name": "stdout",
     "output_type": "stream",
     "text": [
      "나이를 입력하세요 : 67\n",
      "입장료 : 무료\n"
     ]
    }
   ],
   "source": [
    "# ex3-8.py\n",
    "age = int(input('나이를 입력하세요 : '))\n",
    "pay = '3000원'\n",
    "\n",
    "if age >= 65 or age < 7 :\n",
    "    pay = '무료'\n",
    "\n",
    "print('입장료 : %s' % pay)"
   ]
  },
  {
   "cell_type": "code",
   "execution_count": 4,
   "metadata": {},
   "outputs": [
    {
     "name": "stdout",
     "output_type": "stream",
     "text": [
      "비밀번호를 입력하세요 : 32664\n",
      "비밀번호 Not OK!\n"
     ]
    }
   ],
   "source": [
    "# ex3-9.py\n",
    "answer = '12345'\n",
    "password = input('비밀번호를 입력하세요 : ')\n",
    "\n",
    "if password == answer :\n",
    "    print('비밀번호 OK!')\n",
    "else :\n",
    "    print('비밀번호 Not OK!')\n"
   ]
  },
  {
   "cell_type": "code",
   "execution_count": 9,
   "metadata": {},
   "outputs": [
    {
     "name": "stdout",
     "output_type": "stream",
     "text": [
      "점수를 입력하세요 : 85\n",
      "성적 : 85점\n",
      "등급 : B\n"
     ]
    }
   ],
   "source": [
    "# ex3-10.py\n",
    "score = int(input('점수를 입력하세요 : '))\n",
    "\n",
    "if score >= 90 :\n",
    "    grade = 'A'\n",
    "elif score >= 80 :\n",
    "    grade = 'B'\n",
    "elif score >= 70 :\n",
    "    grade = 'C'\n",
    "elif score >= 60 :\n",
    "    grade = 'D'\n",
    "else :\n",
    "    grade = 'F'\n",
    "\n",
    "print('성적 : %d점' % score)\n",
    "print('등급 : %s' % grade)"
   ]
  },
  {
   "cell_type": "code",
   "execution_count": 15,
   "metadata": {},
   "outputs": [
    {
     "name": "stdout",
     "output_type": "stream",
     "text": [
      "현재년을 입력해 주세요 : 2020\n",
      "현재월을 입력해 주세요 : 1\n",
      "현재일을 입력해 주세요 : 27\n",
      "출생년을 입력해 주세요 : 1997\n",
      "출생월을 입력해 주세요 : 5\n",
      "출생일을 입력해 주세요 : 7\n",
      "--------------------------------------------------\n",
      "오늘 날짜 : 2020년 1월 27일\n",
      "생년 월일 : 1997년 5월 7일\n",
      "--------------------------------------------------\n",
      "만 나이 : 22세\n",
      "--------------------------------------------------\n"
     ]
    }
   ],
   "source": [
    "# ex3-11.py\n",
    "now_year  = int(input('현재년을 입력해 주세요 : ')) \n",
    "now_month = int(input('현재월을 입력해 주세요 : ')) \n",
    "now_day   = int(input('현재일을 입력해 주세요 : ')) \n",
    "\n",
    "birth_year  = int(input('출생년을 입력해 주세요 : ')) \n",
    "birth_month = int(input('출생월을 입력해 주세요 : ')) \n",
    "birth_day   = int(input('출생일을 입력해 주세요 : ')) \n",
    "\n",
    "if birth_month < now_month : \n",
    "    age = now_year - birth_year \n",
    "elif birth_month == now_month : \n",
    "    if birth_day < now_day : \n",
    "        age = now_year - birth_year \n",
    "    else : \n",
    "        age = now_year - birth_year - 1 \n",
    "else : \n",
    "    age = now_year - birth_year - 1 \n",
    "\n",
    "print('-' * 50) \n",
    "print('오늘 날짜 : %d년 %d월 %d일' % (now_year, now_month, now_day))\n",
    "print('생년 월일 : %d년 %d월 %d일' % (birth_year, birth_month, birth_day))\n",
    "print('-' * 50) \n",
    "print('만 나이 : %d세' % age) \n",
    "print('-' * 50)"
   ]
  },
  {
   "cell_type": "code",
   "execution_count": null,
   "metadata": {},
   "outputs": [],
   "source": []
  }
 ],
 "metadata": {
  "kernelspec": {
   "display_name": "Python 3",
   "language": "python",
   "name": "python3"
  },
  "language_info": {
   "codemirror_mode": {
    "name": "ipython",
    "version": 3
   },
   "file_extension": ".py",
   "mimetype": "text/x-python",
   "name": "python",
   "nbconvert_exporter": "python",
   "pygments_lexer": "ipython3",
   "version": "3.7.4"
  }
 },
 "nbformat": 4,
 "nbformat_minor": 2
}
