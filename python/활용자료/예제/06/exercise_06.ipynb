{
 "cells": [
  {
   "cell_type": "code",
   "execution_count": 25,
   "metadata": {},
   "outputs": [
    {
     "name": "stdout",
     "output_type": "stream",
     "text": [
      "1. 아이디 : kim99, 마일리지: 12000점\n",
      "2. 아이디 : lee66, 마일리지: 11000점\n",
      "3. 아이디 : han55, 마일리지: 3000점\n",
      "4. 아이디 : hong77, 마일리지: 5000점\n",
      "5. 아이디 : hwang33, 마일리지: 18000점\n"
     ]
    }
   ],
   "source": [
    "# 연습문제 6-1\n",
    "data = {'kim99': 12000, 'lee66':11000, 'han55':3000, 'hong77':5000, 'hwang33':18000}\n",
    "\n",
    "number = 1\n",
    "for key in data :\n",
    "    print('%d. 아이디 : %s, 마일리지: %d점' % (number, key, data[key]))\n",
    "    number += 1\n"
   ]
  },
  {
   "cell_type": "code",
   "execution_count": 26,
   "metadata": {},
   "outputs": [
    {
     "name": "stdout",
     "output_type": "stream",
     "text": [
      "han55님의 마일리지가 5000점으로 수정 되었습니다.\n"
     ]
    }
   ],
   "source": [
    "# 연습문제 6-2\n",
    "data = {'kim99': 12000, 'lee66':11000, 'han55':3000, 'hong77':5000, 'hwang33':800}\n",
    "\n",
    "data['han55'] = 5000\n",
    "\n",
    "for key in data :\n",
    "    if key == 'han55' :\n",
    "        print('%s님의 마일리지가 %d점으로 수정 되었습니다.' % (key, data[key]))"
   ]
  },
  {
   "cell_type": "code",
   "execution_count": 27,
   "metadata": {},
   "outputs": [
    {
     "name": "stdout",
     "output_type": "stream",
     "text": [
      "전체 딕셔너리 : {'kim99': 12000, 'lee66': 11000, 'han55': 3000, 'hong77': 5000, 'hwang33': 18000, 'jang88': 7000}\n",
      "jang88님의 마일리지(7000점)가 추가 되었습니다.\n"
     ]
    }
   ],
   "source": [
    "# 연습문제 6-3\n",
    "data = {'kim99': 12000, 'lee66':11000, 'han55':3000, 'hong77':5000, 'hwang33':18000}\n",
    "\n",
    "data['jang88'] = 7000\n",
    "\n",
    "print('전체 딕셔너리 : %s' % data)\n",
    "for key in data :\n",
    "    if key == 'jang88' :\n",
    "        print('%s님의 마일리지(%d점)가 추가 되었습니다.' % (key, data[key]))"
   ]
  },
  {
   "cell_type": "code",
   "execution_count": 28,
   "metadata": {},
   "outputs": [
    {
     "name": "stdout",
     "output_type": "stream",
     "text": [
      "hwang33님의 18000점이 가장 높은 점수입니다.\n"
     ]
    }
   ],
   "source": [
    "# 연습문제 6-4\n",
    "data = {'kim99': 12000, 'lee66':11000, 'han55':3000, 'hong77':5000, 'hwang33':18000}\n",
    "\n",
    "largest_id = 'kim99'\n",
    "largest_point = data['kim99']\n",
    "\n",
    "for key in data :\n",
    "    if data[key] > largest_point :\n",
    "        largest_id = key\n",
    "        largest_point = data[key]\n",
    "        \n",
    "print('%s님의 %d점이 가장 높은 점수입니다.' % (largest_id, largest_point))"
   ]
  },
  {
   "cell_type": "code",
   "execution_count": 1,
   "metadata": {},
   "outputs": [
    {
     "name": "stdout",
     "output_type": "stream",
     "text": [
      "--------------------------------------------------\n",
      "   월    화    수    목    금    토    일\n",
      "--------------------------------------------------\n",
      "  25.5  28.3  33.2  32.1  17.3  35.3  33.3\n",
      "--------------------------------------------------\n"
     ]
    }
   ],
   "source": [
    "# 연습문제6-5\n",
    "temp = {'월':25.5, '화':28.3, '수':33.2, '목':32.1, '금':17.3, '토':35.3, '일':33.3}\n",
    "\n",
    "print('-'*50)\n",
    "print('   월    화    수    목    금    토    일')\n",
    "print('-'*50)\n",
    "for key in temp :\n",
    "    print('%6.1f' % temp[key], end='')\n",
    "          \n",
    "print()\n",
    "print('-'*50)\n",
    "    "
   ]
  },
  {
   "cell_type": "code",
   "execution_count": 2,
   "metadata": {},
   "outputs": [
    {
     "name": "stdout",
     "output_type": "stream",
     "text": [
      "가장 낮은 최고 기온 :   17.3˚\n"
     ]
    }
   ],
   "source": [
    "# 연습문제 6-6\n",
    "temp = {'월':25.5, '화':28.3, '수':33.2, '목':32.1, '금':17.3, '토':35.3, '일':33.3}\n",
    "\n",
    "smallest = temp['월']\n",
    "for key in temp :\n",
    "    if temp[key]< smallest :\n",
    "        smallest = temp[key]\n",
    "        \n",
    "print('가장 낮은 최고 기온 : %6.1f˚' % smallest)"
   ]
  },
  {
   "cell_type": "code",
   "execution_count": 48,
   "metadata": {},
   "outputs": [
    {
     "name": "stdout",
     "output_type": "stream",
     "text": [
      "기온이 30˚ 이상인 요일 : 수, 목, 토, 일"
     ]
    }
   ],
   "source": [
    "# 연습문제 6-7\n",
    "temp = {'월':25.5, '화':28.3, '수':33.2, '목':32.1, '금':17.3, '토':35.3, '일':33.3}\n",
    "\n",
    "days = []\n",
    "for key in temp :\n",
    "    if temp[key] >= 30 :\n",
    "        days.append(key)\n",
    "    \n",
    "print('기온이 30˚ 이상인 요일 : ', end='')    \n",
    "for i in range(len(days)) :\n",
    "    print('%s' % days[i], end='')\n",
    "    \n",
    "    if i != len(days)-1 :\n",
    "        print(', ', end='')\n",
    "    "
   ]
  },
  {
   "cell_type": "code",
   "execution_count": 51,
   "metadata": {},
   "outputs": [
    {
     "name": "stdout",
     "output_type": "stream",
     "text": [
      "일주일간 최고 기온의 평균 : 29.3˚\n"
     ]
    }
   ],
   "source": [
    "# 연습문제 6-8\n",
    "temp = {'월':25.5, '화':28.3, '수':33.2, '목':32.1, '금':17.3, '토':35.3, '일':33.3}\n",
    "\n",
    "sum = 0\n",
    "for key in temp :\n",
    "    sum += temp[key]\n",
    "        \n",
    "avg = sum/len(temp)\n",
    "    \n",
    "print('일주일간 최고 기온의 평균 : %.1f˚' % avg)    \n"
   ]
  },
  {
   "cell_type": "code",
   "execution_count": null,
   "metadata": {},
   "outputs": [],
   "source": []
  }
 ],
 "metadata": {
  "kernelspec": {
   "display_name": "Python 3",
   "language": "python",
   "name": "python3"
  },
  "language_info": {
   "codemirror_mode": {
    "name": "ipython",
    "version": 3
   },
   "file_extension": ".py",
   "mimetype": "text/x-python",
   "name": "python",
   "nbconvert_exporter": "python",
   "pygments_lexer": "ipython3",
   "version": "3.7.4"
  }
 },
 "nbformat": 4,
 "nbformat_minor": 2
}
