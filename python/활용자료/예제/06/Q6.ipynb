{
 "cells": [
  {
   "cell_type": "code",
   "execution_count": 3,
   "metadata": {},
   "outputs": [
    {
     "name": "stdout",
     "output_type": "stream",
     "text": [
      "구구단표\n",
      "------------------------------\n",
      "2 x 1 = 2\n",
      "2 x 2 = 4\n",
      "2 x 3 = 6\n",
      "2 x 4 = 8\n",
      "2 x 5 = 10\n",
      "2 x 6 = 12\n",
      "2 x 7 = 14\n",
      "2 x 8 = 16\n",
      "2 x 9 = 18\n",
      "------------------------------\n",
      "3 x 1 = 3\n",
      "3 x 2 = 6\n",
      "3 x 3 = 9\n",
      "3 x 4 = 12\n",
      "3 x 5 = 15\n",
      "3 x 6 = 18\n",
      "3 x 7 = 21\n",
      "3 x 8 = 24\n",
      "3 x 9 = 27\n",
      "------------------------------\n",
      "4 x 1 = 4\n",
      "4 x 2 = 8\n",
      "4 x 3 = 12\n",
      "4 x 4 = 16\n",
      "4 x 5 = 20\n",
      "4 x 6 = 24\n",
      "4 x 7 = 28\n",
      "4 x 8 = 32\n",
      "4 x 9 = 36\n",
      "------------------------------\n",
      "5 x 1 = 5\n",
      "5 x 2 = 10\n",
      "5 x 3 = 15\n",
      "5 x 4 = 20\n",
      "5 x 5 = 25\n",
      "5 x 6 = 30\n",
      "5 x 7 = 35\n",
      "5 x 8 = 40\n",
      "5 x 9 = 45\n",
      "------------------------------\n",
      "6 x 1 = 6\n",
      "6 x 2 = 12\n",
      "6 x 3 = 18\n",
      "6 x 4 = 24\n",
      "6 x 5 = 30\n",
      "6 x 6 = 36\n",
      "6 x 7 = 42\n",
      "6 x 8 = 48\n",
      "6 x 9 = 54\n",
      "------------------------------\n",
      "7 x 1 = 7\n",
      "7 x 2 = 14\n",
      "7 x 3 = 21\n",
      "7 x 4 = 28\n",
      "7 x 5 = 35\n",
      "7 x 6 = 42\n",
      "7 x 7 = 49\n",
      "7 x 8 = 56\n",
      "7 x 9 = 63\n",
      "------------------------------\n",
      "8 x 1 = 8\n",
      "8 x 2 = 16\n",
      "8 x 3 = 24\n",
      "8 x 4 = 32\n",
      "8 x 5 = 40\n",
      "8 x 6 = 48\n",
      "8 x 7 = 56\n",
      "8 x 8 = 64\n",
      "8 x 9 = 72\n",
      "------------------------------\n",
      "9 x 1 = 9\n",
      "9 x 2 = 18\n",
      "9 x 3 = 27\n",
      "9 x 4 = 36\n",
      "9 x 5 = 45\n",
      "9 x 6 = 54\n",
      "9 x 7 = 63\n",
      "9 x 8 = 72\n",
      "9 x 9 = 81\n",
      "------------------------------\n"
     ]
    }
   ],
   "source": [
    "# Q6-1.py\n",
    "dans = (2, 3, 4, 5, 6, 7, 8, 9)\n",
    "\n",
    "print('구구단표')\n",
    "print('-' * 30)\n",
    "\n",
    "for dan  in dans :\n",
    "    for i in range(1, 10) :\n",
    "        print('%d x %d = %d' % (dan, i , dan*i))\n",
    "    print('-' * 30)"
   ]
  },
  {
   "cell_type": "code",
   "execution_count": 9,
   "metadata": {},
   "outputs": [
    {
     "name": "stdout",
     "output_type": "stream",
     "text": [
      "관리자 아이디를 입력하세요 : admin\n",
      "관리자 비밀번호를 입력하세요 : 12345\n",
      "관리자입니다.\n"
     ]
    }
   ],
   "source": [
    "# Q6-2.py\n",
    "admin_info = ('admin', '12345', 'rubato@naver.com')\n",
    "\n",
    "id = input('관리자 아이디를 입력하세요 : ')\n",
    "password = input('관리자 비밀번호를 입력하세요 : ')\n",
    "\n",
    "if  id == admin_info[0] and password == admin_info[1] :\n",
    "    print('관리자입니다.')\n",
    "else :\n",
    "    print('아이디 또는 비밀번호가 잘못 입력되었습니다.')"
   ]
  },
  {
   "cell_type": "code",
   "execution_count": 1,
   "metadata": {},
   "outputs": [
    {
     "name": "stdout",
     "output_type": "stream",
     "text": [
      "김예진 : 90\n",
      "박영진 : 95\n",
      "김소희 : 84\n",
      "합계 : 269, 평균 : 89.67\n"
     ]
    }
   ],
   "source": [
    "# Q6-3.py\n",
    "scores = {'김예진': 90, '박영진': 95, '김소희': 84}\n",
    "\n",
    "sum = 0\n",
    "for key in scores :\n",
    "    sum += scores[key]\n",
    "\n",
    "    print('%s : %d' % (key , scores[key]))\n",
    "    \n",
    "avg = sum/len(scores)\n",
    "\n",
    "print('합계 : %d, 평균 : %.2f' % (sum, avg ))\n"
   ]
  },
  {
   "cell_type": "code",
   "execution_count": 18,
   "metadata": {},
   "outputs": [
    {
     "name": "stdout",
     "output_type": "stream",
     "text": [
      "아이디를 입력하세요: admin\n",
      "비밀번호를 입력하세요: 11111\n",
      "모든 정보에 접근 가능합니다!\n"
     ]
    }
   ],
   "source": [
    "# Q6-4.py\n",
    "ad = {'id':'admin', 'password':'11111'}\n",
    "\n",
    "in_id = input('아이디를 입력하세요: ')\n",
    "in_password = input('비밀번호를 입력하세요: ')\n",
    "\n",
    "if (in_id == ad['id'] and in_password == ad['password']) :\n",
    "    print('모든 정보에 접근 가능합니다!')\n",
    "else :\n",
    "    print('정보에 접근 권한이 없습니다!')"
   ]
  },
  {
   "cell_type": "code",
   "execution_count": 20,
   "metadata": {},
   "outputs": [
    {
     "name": "stdout",
     "output_type": "stream",
     "text": [
      "사과에 해당되는 영어 단어를 입력해주세요: apple\n",
      "정답입니다!\n",
      "컴퓨터에 해당되는 영어 단어를 입력해주세요: commputer\n",
      "틀렸습니다!\n",
      "학교에 해당되는 영어 단어를 입력해주세요: school\n",
      "정답입니다!\n",
      "책상에 해당되는 영어 단어를 입력해주세요: tesk\n",
      "틀렸습니다!\n",
      "의자에 해당되는 영어 단어를 입력해주세요: chaaar\n",
      "틀렸습니다!\n"
     ]
    }
   ],
   "source": [
    "# Q6-5.py\n",
    "words = {'사과':'apple', '컴퓨터':'computer', '학교':'school', '책상':'desk', '의자':'chair'}\n",
    "\n",
    "for key in words :\n",
    "    in_word = input('%s에 해당되는 영어 단어를 입력해주세요: ' % key)\n",
    "\n",
    "    if in_word == words[key] :\n",
    "        print('정답입니다!')\n",
    "    else :\n",
    "        print('틀렸습니다!')"
   ]
  },
  {
   "cell_type": "code",
   "execution_count": null,
   "metadata": {},
   "outputs": [],
   "source": []
  }
 ],
 "metadata": {
  "kernelspec": {
   "display_name": "Python 3",
   "language": "python",
   "name": "python3"
  },
  "language_info": {
   "codemirror_mode": {
    "name": "ipython",
    "version": 3
   },
   "file_extension": ".py",
   "mimetype": "text/x-python",
   "name": "python",
   "nbconvert_exporter": "python",
   "pygments_lexer": "ipython3",
   "version": "3.7.4"
  }
 },
 "nbformat": 4,
 "nbformat_minor": 2
}
