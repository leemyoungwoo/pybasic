{
 "cells": [
  {
   "cell_type": "markdown",
   "metadata": {},
   "source": [
    "# Homework"
   ]
  },
  {
   "cell_type": "code",
   "execution_count": 3,
   "metadata": {},
   "outputs": [],
   "source": [
    "def combinations(s):\n",
    "    if len(s) < 2:\n",
    "        return s\n",
    "    res = []\n",
    "    for i,c in enumerate(s):\n",
    "        res.append(c)\n",
    "        print(i,c,res)\n",
    "        for j in combinations(s[:i] + s[i+1:]):\n",
    "            res.append(c+j)\n",
    "    return res"
   ]
  },
  {
   "cell_type": "code",
   "execution_count": 4,
   "metadata": {},
   "outputs": [
    {
     "name": "stdout",
     "output_type": "stream",
     "text": [
      "0 a ['a']\n",
      "0 b ['b']\n",
      "0 c ['c']\n",
      "1 d ['c', 'cd', 'd']\n",
      "1 c ['b', 'bc', 'bcd', 'bd', 'bdc', 'c']\n",
      "0 b ['b']\n",
      "1 d ['b', 'bd', 'd']\n",
      "2 d ['b', 'bc', 'bcd', 'bd', 'bdc', 'c', 'cb', 'cbd', 'cd', 'cdb', 'd']\n",
      "0 b ['b']\n",
      "1 c ['b', 'bc', 'c']\n",
      "1 b ['a', 'ab', 'abc', 'abcd', 'abd', 'abdc', 'ac', 'acb', 'acbd', 'acd', 'acdb', 'ad', 'adb', 'adbc', 'adc', 'adcb', 'b']\n",
      "0 a ['a']\n",
      "0 c ['c']\n",
      "1 d ['c', 'cd', 'd']\n",
      "1 c ['a', 'ac', 'acd', 'ad', 'adc', 'c']\n",
      "0 a ['a']\n",
      "1 d ['a', 'ad', 'd']\n",
      "2 d ['a', 'ac', 'acd', 'ad', 'adc', 'c', 'ca', 'cad', 'cd', 'cda', 'd']\n",
      "0 a ['a']\n",
      "1 c ['a', 'ac', 'c']\n",
      "2 c ['a', 'ab', 'abc', 'abcd', 'abd', 'abdc', 'ac', 'acb', 'acbd', 'acd', 'acdb', 'ad', 'adb', 'adbc', 'adc', 'adcb', 'b', 'ba', 'bac', 'bacd', 'bad', 'badc', 'bc', 'bca', 'bcad', 'bcd', 'bcda', 'bd', 'bda', 'bdac', 'bdc', 'bdca', 'c']\n",
      "0 a ['a']\n",
      "0 b ['b']\n",
      "1 d ['b', 'bd', 'd']\n",
      "1 b ['a', 'ab', 'abd', 'ad', 'adb', 'b']\n",
      "0 a ['a']\n",
      "1 d ['a', 'ad', 'd']\n",
      "2 d ['a', 'ab', 'abd', 'ad', 'adb', 'b', 'ba', 'bad', 'bd', 'bda', 'd']\n",
      "0 a ['a']\n",
      "1 b ['a', 'ab', 'b']\n",
      "3 d ['a', 'ab', 'abc', 'abcd', 'abd', 'abdc', 'ac', 'acb', 'acbd', 'acd', 'acdb', 'ad', 'adb', 'adbc', 'adc', 'adcb', 'b', 'ba', 'bac', 'bacd', 'bad', 'badc', 'bc', 'bca', 'bcad', 'bcd', 'bcda', 'bd', 'bda', 'bdac', 'bdc', 'bdca', 'c', 'ca', 'cab', 'cabd', 'cad', 'cadb', 'cb', 'cba', 'cbad', 'cbd', 'cbda', 'cd', 'cda', 'cdab', 'cdb', 'cdba', 'd']\n",
      "0 a ['a']\n",
      "0 b ['b']\n",
      "1 c ['b', 'bc', 'c']\n",
      "1 b ['a', 'ab', 'abc', 'ac', 'acb', 'b']\n",
      "0 a ['a']\n",
      "1 c ['a', 'ac', 'c']\n",
      "2 c ['a', 'ab', 'abc', 'ac', 'acb', 'b', 'ba', 'bac', 'bc', 'bca', 'c']\n",
      "0 a ['a']\n",
      "1 b ['a', 'ab', 'b']\n",
      "['a', 'ab', 'abc', 'abcd', 'abd', 'abdc', 'ac', 'acb', 'acbd', 'acd', 'acdb', 'ad', 'adb', 'adbc', 'adc', 'adcb', 'b', 'ba', 'bac', 'bacd', 'bad', 'badc', 'bc', 'bca', 'bcad', 'bcd', 'bcda', 'bd', 'bda', 'bdac', 'bdc', 'bdca', 'c', 'ca', 'cab', 'cabd', 'cad', 'cadb', 'cb', 'cba', 'cbad', 'cbd', 'cbda', 'cd', 'cda', 'cdab', 'cdb', 'cdba', 'd', 'da', 'dab', 'dabc', 'dac', 'dacb', 'db', 'dba', 'dbac', 'dbc', 'dbca', 'dc', 'dca', 'dcab', 'dcb', 'dcba']\n"
     ]
    }
   ],
   "source": [
    "if __name__ == \"__main__\":\n",
    "    result = combinations(\"abcd\")\n",
    "    print(result)"
   ]
  },
  {
   "cell_type": "code",
   "execution_count": 54,
   "metadata": {},
   "outputs": [
    {
     "name": "stdout",
     "output_type": "stream",
     "text": [
      "\n",
      "a\n",
      "ab\n"
     ]
    }
   ],
   "source": [
    "n='abc'\n",
    "for i,c in enumerate(n):\n",
    "    print(n[:i])"
   ]
  },
  {
   "cell_type": "code",
   "execution_count": null,
   "metadata": {},
   "outputs": [],
   "source": []
  }
 ],
 "metadata": {
  "kernelspec": {
   "display_name": "Python 3",
   "language": "python",
   "name": "python3"
  },
  "language_info": {
   "codemirror_mode": {
    "name": "ipython",
    "version": 3
   },
   "file_extension": ".py",
   "mimetype": "text/x-python",
   "name": "python",
   "nbconvert_exporter": "python",
   "pygments_lexer": "ipython3",
   "version": "3.7.6"
  }
 },
 "nbformat": 4,
 "nbformat_minor": 4
}
