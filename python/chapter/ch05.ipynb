{
 "cells": [
  {
   "cell_type": "markdown",
   "metadata": {},
   "source": [
    "# Chapter.05 리스트"
   ]
  },
  {
   "cell_type": "code",
   "execution_count": 2,
   "metadata": {},
   "outputs": [
    {
     "name": "stdout",
     "output_type": "stream",
     "text": [
      "['사과,오렌지', '딸기', '포도', '감', '키위', '키위', '멜론', '수박']\n",
      "[5, 10.2, '탁구', True, [4, 5, 6]]\n",
      "[1, 3, 5, 7, 9]\n",
      "\n",
      "사과,오렌지\n",
      "['딸기', '포도', '감']\n",
      "['포도', '감', '키위', '키위', '멜론', '수박']\n",
      "수박\n",
      "['키위', '키위']\n",
      "['키위', '멜론', '수박']\n"
     ]
    }
   ],
   "source": [
    "# 예제 1\n",
    "\n",
    "fruits = ['사과,''오렌지','딸기','포도','감','키위','키위','멜론','수박']\n",
    "list1 = [5,10.2,'탁구',True,[4,5,6]]\n",
    "numbers = list(range(1,10,2))\n",
    "\n",
    "print(fruits)\n",
    "print(list1)\n",
    "print(numbers)\n",
    "\n",
    "print()\n",
    "print(fruits[0])\n",
    "print(fruits[1:4])\n",
    "print(fruits[2:])\n",
    "print(fruits[-1])\n",
    "print(fruits[-4:-2])\n",
    "print(fruits[-3:])"
   ]
  },
  {
   "cell_type": "code",
   "execution_count": 3,
   "metadata": {},
   "outputs": [
    {
     "name": "stdout",
     "output_type": "stream",
     "text": [
      "['red', 'green', 'blue', 'yellow']\n",
      "['red', 'black', 'green', 'blue', 'yellow']\n",
      "['red', 'black', 'green', 'blue', 'yellow', 'purple', 'white']\n",
      "['red', 'black', 'green', 'blue', 'yellow', 'purple', 'white', 'purple', 'white']\n"
     ]
    }
   ],
   "source": [
    "# 예제 2\n",
    "\n",
    "a = ['red','green','blue']\n",
    "\n",
    "a.append('yellow')\n",
    "print(a)\n",
    "\n",
    "a.insert(1,'black')\n",
    "print(a)\n",
    "\n",
    "b = ['purple','white']\n",
    "a.extend(b)\n",
    "print(a)\n",
    "\n",
    "c = a+b\n",
    "print(c)"
   ]
  },
  {
   "cell_type": "code",
   "execution_count": 4,
   "metadata": {},
   "outputs": [
    {
     "name": "stdout",
     "output_type": "stream",
     "text": [
      "2\n",
      "[10, 20, 40, 50, 60, 70, 80, 90, 100]\n",
      "[10, 20, 40, 50, 60, 70, 80, 100]\n",
      "[]\n"
     ]
    }
   ],
   "source": [
    "# 예제 3 \n",
    "\n",
    "a = [10,20,30,40,50,60,70,80,90,100]\n",
    "\n",
    "x = a.index(30)\n",
    "\n",
    "print(x)\n",
    "\n",
    "a.pop(x)\n",
    "\n",
    "print(a)\n",
    "\n",
    "a.remove(90)\n",
    "print(a)\n",
    "\n",
    "a.clear()\n",
    "print(a)"
   ]
  },
  {
   "cell_type": "code",
   "execution_count": 5,
   "metadata": {},
   "outputs": [
    {
     "name": "stdout",
     "output_type": "stream",
     "text": [
      "3\n"
     ]
    }
   ],
   "source": [
    "# 예제 4\n",
    "\n",
    "list1 = ['a','bb','c','d','aaa','c','ddd','aaa','b','cc','d','aaa',]\n",
    "\n",
    "length = list1.count('aaa')\n",
    "\n",
    "print(length)"
   ]
  },
  {
   "cell_type": "code",
   "execution_count": 6,
   "metadata": {},
   "outputs": [
    {
     "name": "stdout",
     "output_type": "stream",
     "text": [
      "[-7, 1, 3, 5, 8, 9, 11, 13]\n",
      "[13, 11, 9, 8, 5, 3, 1, -7]\n"
     ]
    }
   ],
   "source": [
    "# 예제 5\n",
    "\n",
    "list2 = [-7,1,5,8,3,9,11,13]\n",
    "list2.sort()\n",
    "print(list2)\n",
    "\n",
    "list2.sort(reverse=True)\n",
    "print(list2)"
   ]
  },
  {
   "cell_type": "code",
   "execution_count": 9,
   "metadata": {},
   "outputs": [
    {
     "name": "stdout",
     "output_type": "stream",
     "text": [
      "red\n",
      "white\n",
      "['green', 'blue', 'black']\n"
     ]
    }
   ],
   "source": [
    "#Q5-1\n",
    "\n",
    "color = ['red','green','blue','black','white']\n",
    "\n",
    "print(color[0])\n",
    "print(color[4])\n",
    "print(color[1:4])"
   ]
  },
  {
   "cell_type": "code",
   "execution_count": 10,
   "metadata": {},
   "outputs": [
    {
     "name": "stdout",
     "output_type": "stream",
     "text": [
      "[1, 3, 5, 7, 9, 11, 13, 15, 17, 19]\n"
     ]
    }
   ],
   "source": [
    "#Q5-2\n",
    "\n",
    "num = list(range(1,20,2))\n",
    "print(num)"
   ]
  },
  {
   "cell_type": "code",
   "execution_count": 15,
   "metadata": {},
   "outputs": [
    {
     "name": "stdout",
     "output_type": "stream",
     "text": [
      "사과\n",
      "바나나\n",
      "파인애플\n",
      "배\n",
      "키위\n"
     ]
    }
   ],
   "source": [
    "#Q5-3\n",
    "\n",
    "mylist = ['사과','바나나','파인애플','배']\n",
    "mylist.append('키위')\n",
    "\n",
    "for a in mylist:\n",
    "    print(a)"
   ]
  },
  {
   "cell_type": "code",
   "execution_count": 16,
   "metadata": {},
   "outputs": [
    {
     "name": "stdout",
     "output_type": "stream",
     "text": [
      "['사과', '파인애플', '포도', '오렌지', '배']\n"
     ]
    }
   ],
   "source": [
    "#Q5-4\n",
    "\n",
    "mylist = ['사과','바나나','파인애플','포도','오렌지','배']\n",
    "\n",
    "mylist.remove('바나나')\n",
    "print(mylist)"
   ]
  },
  {
   "cell_type": "code",
   "execution_count": 17,
   "metadata": {},
   "outputs": [
    {
     "name": "stdout",
     "output_type": "stream",
     "text": [
      "['kim', 24, 'kim@naver.com', 'lee', 35, 'lee@hanmail.net']\n"
     ]
    }
   ],
   "source": [
    "#Q5-5\n",
    "\n",
    "person1 = ['kim',24,'kim@naver.com']\n",
    "person2 = ['lee',35,'lee@hanmail.net']\n",
    "\n",
    "person = person1 + person2\n",
    "print(person)"
   ]
  },
  {
   "cell_type": "code",
   "execution_count": 18,
   "metadata": {},
   "outputs": [
    {
     "name": "stdout",
     "output_type": "stream",
     "text": [
      "apple\n",
      "orange\n",
      "banana\n"
     ]
    }
   ],
   "source": [
    "# 예제 5-6\n",
    "\n",
    "fruits = ['apple','orange','banana']\n",
    "\n",
    "for fruit in fruits :\n",
    "    print(fruit)"
   ]
  },
  {
   "cell_type": "code",
   "execution_count": 19,
   "metadata": {},
   "outputs": [
    {
     "name": "stdout",
     "output_type": "stream",
     "text": [
      "총점: 666, 평균: 83.25\n"
     ]
    }
   ],
   "source": [
    "# 예제 5-7\n",
    "\n",
    "scores = [88, 75, 90, 95, 77, 69, 80, 92]\n",
    "\n",
    "sum = 0\n",
    "\n",
    "for score in scores :\n",
    "    sum +=score\n",
    "    \n",
    "avg = sum/8\n",
    "\n",
    "print('총점: %d, 평균: %.2f'%(sum,avg))"
   ]
  },
  {
   "cell_type": "code",
   "execution_count": 21,
   "metadata": {},
   "outputs": [
    {
     "name": "stdout",
     "output_type": "stream",
     "text": [
      "토끼\n",
      "거북이\n",
      "사자\n",
      "호랑이\n"
     ]
    }
   ],
   "source": [
    "# 예제 5-8\n",
    "\n",
    "animals = ['토끼','거북이','사자','호랑이']\n",
    "\n",
    "i = 0\n",
    "\n",
    "while i < len(animals):\n",
    "    print(animals[i])\n",
    "    \n",
    "    i+=1"
   ]
  },
  {
   "cell_type": "code",
   "execution_count": 24,
   "metadata": {},
   "outputs": [
    {
     "ename": "IndentationError",
     "evalue": "unexpected indent (<ipython-input-24-95f21265ca41>, line 15)",
     "output_type": "error",
     "traceback": [
      "\u001b[1;36m  File \u001b[1;32m\"<ipython-input-24-95f21265ca41>\"\u001b[1;36m, line \u001b[1;32m15\u001b[0m\n\u001b[1;33m    i = 0\u001b[0m\n\u001b[1;37m    ^\u001b[0m\n\u001b[1;31mIndentationError\u001b[0m\u001b[1;31m:\u001b[0m unexpected indent\n"
     ]
    }
   ],
   "source": [
    "#Q5-6\n",
    "\n",
    "s = [64, 89, 100, 85, 77, 58, 79, 67, 96, 87, 87, 36, 82, 98, 84, 76, 63, 69, 53, 22]\n",
    "\n",
    "count_su = 0\n",
    "\n",
    "count_woo = 0\n",
    "\n",
    "count_mi = 0\n",
    "\n",
    "count_yang = 0\n",
    "\n",
    "count_ga = 0\n",
    "\n",
    "    i = 0\n",
    "\n",
    "while i < len(s):\n",
    "    if s[i] >= 90 and s[i] <=100:\n",
    "        count_su = count_su + 1\n",
    "        \n",
    "    if s[i] >=80 and s[i] < 89:\n",
    "        count_woo = count_woo + 1\n",
    "        \n",
    "    if s[i] >= 70 and s[i] <=79:\n",
    "        count_mi = count_mi+ 1\n",
    "        \n",
    "    if s[i] >=60 and s[i] <=69:\n",
    "        count_yang = count_yang + 1\n",
    "        \n",
    "    if s[i] >=0 and s[i] <=59:\n",
    "        count_ga = count_ga + 1\n",
    "        \n",
    "        i += 1\n",
    "        \n",
    "    print('수 : %d명'% count_su)\n",
    "    print('우 : %d명'% count_woo)\n",
    "    print('미 : %d명'% count_mi)\n",
    "    print('양 : %d명'% count_yang)\n",
    "    print('가 : %d명'% count_ga)\n",
    "    "
   ]
  },
  {
   "cell_type": "code",
   "execution_count": null,
   "metadata": {},
   "outputs": [],
   "source": []
  }
 ],
 "metadata": {
  "kernelspec": {
   "display_name": "Python 3",
   "language": "python",
   "name": "python3"
  },
  "language_info": {
   "codemirror_mode": {
    "name": "ipython",
    "version": 3
   },
   "file_extension": ".py",
   "mimetype": "text/x-python",
   "name": "python",
   "nbconvert_exporter": "python",
   "pygments_lexer": "ipython3",
   "version": "3.7.6"
  }
 },
 "nbformat": 4,
 "nbformat_minor": 4
}
